{
 "cells": [
  {
   "cell_type": "code",
   "execution_count": 50,
   "id": "8e57b73f-d92b-4550-a5c8-8db28c91f3d2",
   "metadata": {
    "tags": []
   },
   "outputs": [],
   "source": [
    "import pandas as pd\n",
    "import os # use this to access your environment variables\n",
    "import requests # this will be used to call the APIs\n",
    "import numpy as np\n",
    "import json #json parsing libraries\n",
    "import datetime"
   ]
  },
  {
   "cell_type": "code",
   "execution_count": 80,
   "id": "edf4b423-9f8b-49b8-aaa3-19da75a3d6fb",
   "metadata": {
    "tags": []
   },
   "outputs": [],
   "source": [
    "#this data was taken from the public source: https://divvybikes.com/system-data"
   ]
  },
  {
   "cell_type": "code",
   "execution_count": 51,
   "id": "be16813f-c9db-41cd-9af9-484d52db3b53",
   "metadata": {
    "tags": []
   },
   "outputs": [],
   "source": [
    "divvy = pd.read_csv('202110-divvy-tripdata.csv')"
   ]
  },
  {
   "cell_type": "code",
   "execution_count": 52,
   "id": "7f2d530f-602e-457d-89d4-bf5b3a5006ca",
   "metadata": {
    "tags": []
   },
   "outputs": [
    {
     "data": {
      "text/plain": [
       "Index(['ride_id', 'rideable_type', 'started_at', 'ended_at',\n",
       "       'start_station_name', 'start_station_id', 'end_station_name',\n",
       "       'end_station_id', 'start_lat', 'start_lng', 'end_lat', 'end_lng',\n",
       "       'member_casual'],\n",
       "      dtype='object')"
      ]
     },
     "execution_count": 52,
     "metadata": {},
     "output_type": "execute_result"
    }
   ],
   "source": [
    "divvy.keys()"
   ]
  },
  {
   "cell_type": "code",
   "execution_count": 71,
   "id": "da05e282-ee74-41b9-b773-b19162bd6c0b",
   "metadata": {
    "tags": []
   },
   "outputs": [],
   "source": [
    "df = pd.DataFrame()"
   ]
  },
  {
   "cell_type": "code",
   "execution_count": 72,
   "id": "4338c68d-f613-4fa0-aa7e-6f3e5886c999",
   "metadata": {
    "tags": []
   },
   "outputs": [],
   "source": [
    "df['started_at'] = pd.to_datetime(divvy['started_at'])"
   ]
  },
  {
   "cell_type": "code",
   "execution_count": 73,
   "id": "1200f1db-3f11-493d-933b-cde0fd9f29ca",
   "metadata": {
    "tags": []
   },
   "outputs": [],
   "source": [
    "df['ended_at'] = pd.to_datetime(divvy['ended_at'])"
   ]
  },
  {
   "cell_type": "code",
   "execution_count": 76,
   "id": "b4d1e618-6423-45e9-a243-511387dd517f",
   "metadata": {
    "tags": []
   },
   "outputs": [],
   "source": [
    "df['duration'] = df['ended_at'] - df['started_at']"
   ]
  },
  {
   "cell_type": "code",
   "execution_count": 77,
   "id": "8519fc79-a192-4bbb-a5e4-1bf54cd4cab3",
   "metadata": {
    "tags": []
   },
   "outputs": [
    {
     "data": {
      "text/html": [
       "<div>\n",
       "<style scoped>\n",
       "    .dataframe tbody tr th:only-of-type {\n",
       "        vertical-align: middle;\n",
       "    }\n",
       "\n",
       "    .dataframe tbody tr th {\n",
       "        vertical-align: top;\n",
       "    }\n",
       "\n",
       "    .dataframe thead th {\n",
       "        text-align: right;\n",
       "    }\n",
       "</style>\n",
       "<table border=\"1\" class=\"dataframe\">\n",
       "  <thead>\n",
       "    <tr style=\"text-align: right;\">\n",
       "      <th></th>\n",
       "      <th>started_at</th>\n",
       "      <th>ended_at</th>\n",
       "      <th>duration</th>\n",
       "    </tr>\n",
       "  </thead>\n",
       "  <tbody>\n",
       "    <tr>\n",
       "      <th>0</th>\n",
       "      <td>2021-10-22 12:46:42</td>\n",
       "      <td>2021-10-22 12:49:50</td>\n",
       "      <td>0 days 00:03:08</td>\n",
       "    </tr>\n",
       "    <tr>\n",
       "      <th>1</th>\n",
       "      <td>2021-10-21 09:12:37</td>\n",
       "      <td>2021-10-21 09:14:14</td>\n",
       "      <td>0 days 00:01:37</td>\n",
       "    </tr>\n",
       "    <tr>\n",
       "      <th>2</th>\n",
       "      <td>2021-10-16 16:28:39</td>\n",
       "      <td>2021-10-16 16:36:26</td>\n",
       "      <td>0 days 00:07:47</td>\n",
       "    </tr>\n",
       "    <tr>\n",
       "      <th>3</th>\n",
       "      <td>2021-10-16 16:17:48</td>\n",
       "      <td>2021-10-16 16:19:03</td>\n",
       "      <td>0 days 00:01:15</td>\n",
       "    </tr>\n",
       "    <tr>\n",
       "      <th>4</th>\n",
       "      <td>2021-10-20 23:17:54</td>\n",
       "      <td>2021-10-20 23:26:10</td>\n",
       "      <td>0 days 00:08:16</td>\n",
       "    </tr>\n",
       "  </tbody>\n",
       "</table>\n",
       "</div>"
      ],
      "text/plain": [
       "           started_at            ended_at        duration\n",
       "0 2021-10-22 12:46:42 2021-10-22 12:49:50 0 days 00:03:08\n",
       "1 2021-10-21 09:12:37 2021-10-21 09:14:14 0 days 00:01:37\n",
       "2 2021-10-16 16:28:39 2021-10-16 16:36:26 0 days 00:07:47\n",
       "3 2021-10-16 16:17:48 2021-10-16 16:19:03 0 days 00:01:15\n",
       "4 2021-10-20 23:17:54 2021-10-20 23:26:10 0 days 00:08:16"
      ]
     },
     "execution_count": 77,
     "metadata": {},
     "output_type": "execute_result"
    }
   ],
   "source": [
    "df.head()"
   ]
  },
  {
   "cell_type": "code",
   "execution_count": 79,
   "id": "5928a9f0-f4c0-416d-95cf-cfc3157251e5",
   "metadata": {
    "tags": []
   },
   "outputs": [
    {
     "data": {
      "text/html": [
       "<div>\n",
       "<style scoped>\n",
       "    .dataframe tbody tr th:only-of-type {\n",
       "        vertical-align: middle;\n",
       "    }\n",
       "\n",
       "    .dataframe tbody tr th {\n",
       "        vertical-align: top;\n",
       "    }\n",
       "\n",
       "    .dataframe thead th {\n",
       "        text-align: right;\n",
       "    }\n",
       "</style>\n",
       "<table border=\"1\" class=\"dataframe\">\n",
       "  <thead>\n",
       "    <tr style=\"text-align: right;\">\n",
       "      <th></th>\n",
       "      <th>started_at</th>\n",
       "      <th>ended_at</th>\n",
       "      <th>duration</th>\n",
       "    </tr>\n",
       "  </thead>\n",
       "  <tbody>\n",
       "    <tr>\n",
       "      <th>count</th>\n",
       "      <td>631226</td>\n",
       "      <td>631226</td>\n",
       "      <td>631226</td>\n",
       "    </tr>\n",
       "    <tr>\n",
       "      <th>mean</th>\n",
       "      <td>2021-10-15 08:38:27.364172544</td>\n",
       "      <td>2021-10-15 08:57:32.918018560</td>\n",
       "      <td>0 days 00:19:05.553846007</td>\n",
       "    </tr>\n",
       "    <tr>\n",
       "      <th>min</th>\n",
       "      <td>2021-10-01 00:00:09</td>\n",
       "      <td>2021-10-01 00:03:11</td>\n",
       "      <td>0 days 00:00:00</td>\n",
       "    </tr>\n",
       "    <tr>\n",
       "      <th>25%</th>\n",
       "      <td>2021-10-08 12:25:58.249999872</td>\n",
       "      <td>2021-10-08 12:46:34</td>\n",
       "      <td>0 days 00:05:56.250000</td>\n",
       "    </tr>\n",
       "    <tr>\n",
       "      <th>50%</th>\n",
       "      <td>2021-10-15 05:31:57</td>\n",
       "      <td>2021-10-15 05:56:26.500000</td>\n",
       "      <td>0 days 00:10:23</td>\n",
       "    </tr>\n",
       "    <tr>\n",
       "      <th>75%</th>\n",
       "      <td>2021-10-21 19:25:00.750000128</td>\n",
       "      <td>2021-10-21 19:37:25</td>\n",
       "      <td>0 days 00:18:39</td>\n",
       "    </tr>\n",
       "    <tr>\n",
       "      <th>max</th>\n",
       "      <td>2021-10-31 23:59:49</td>\n",
       "      <td>2021-11-03 21:45:48</td>\n",
       "      <td>28 days 06:25:01</td>\n",
       "    </tr>\n",
       "    <tr>\n",
       "      <th>std</th>\n",
       "      <td>NaN</td>\n",
       "      <td>NaN</td>\n",
       "      <td>0 days 02:43:30.556308008</td>\n",
       "    </tr>\n",
       "  </tbody>\n",
       "</table>\n",
       "</div>"
      ],
      "text/plain": [
       "                          started_at                       ended_at  \\\n",
       "count                         631226                         631226   \n",
       "mean   2021-10-15 08:38:27.364172544  2021-10-15 08:57:32.918018560   \n",
       "min              2021-10-01 00:00:09            2021-10-01 00:03:11   \n",
       "25%    2021-10-08 12:25:58.249999872            2021-10-08 12:46:34   \n",
       "50%              2021-10-15 05:31:57     2021-10-15 05:56:26.500000   \n",
       "75%    2021-10-21 19:25:00.750000128            2021-10-21 19:37:25   \n",
       "max              2021-10-31 23:59:49            2021-11-03 21:45:48   \n",
       "std                              NaN                            NaN   \n",
       "\n",
       "                        duration  \n",
       "count                     631226  \n",
       "mean   0 days 00:19:05.553846007  \n",
       "min              0 days 00:00:00  \n",
       "25%       0 days 00:05:56.250000  \n",
       "50%              0 days 00:10:23  \n",
       "75%              0 days 00:18:39  \n",
       "max             28 days 06:25:01  \n",
       "std    0 days 02:43:30.556308008  "
      ]
     },
     "execution_count": 79,
     "metadata": {},
     "output_type": "execute_result"
    }
   ],
   "source": [
    "df.describe() \n",
    "#here we can see the average ride duration. This should give us some confidence in assuming most rides will start and end within just a few miles, \n",
    "#assuming certain things about the speed of the average person on the sturdy(heavy) bikes used by Divvy.\n",
    "#So data about commuters is most likely to be found within just a few miles of CTA stations."
   ]
  }
 ],
 "metadata": {
  "kernelspec": {
   "display_name": "Python 3 (ipykernel)",
   "language": "python",
   "name": "python3"
  },
  "language_info": {
   "codemirror_mode": {
    "name": "ipython",
    "version": 3
   },
   "file_extension": ".py",
   "mimetype": "text/x-python",
   "name": "python",
   "nbconvert_exporter": "python",
   "pygments_lexer": "ipython3",
   "version": "3.11.5"
  }
 },
 "nbformat": 4,
 "nbformat_minor": 5
}
