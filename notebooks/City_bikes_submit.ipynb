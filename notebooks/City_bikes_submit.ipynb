{
 "cells": [
  {
   "cell_type": "markdown",
   "id": "a93806e9-1477-40ef-bd4b-a0dd9962cd00",
   "metadata": {},
   "source": [
    "## 1.Explore the structure of the API, query the API and understand the data returned.\n",
    "\n",
    "## 2.Choose a city covered by the CityBikes API and retrieve all available bike stations in that city.\n",
    "\n",
    "## 3.For each bike station, use the API to call the latitude, longitude and number of bikes.\n",
    "\n",
    "## 4.Parse the JSON object into a Pandas dataframe."
   ]
  },
  {
   "cell_type": "code",
   "execution_count": null,
   "id": "27a224ff-e18e-45fb-a8de-e2658e78e1da",
   "metadata": {
    "tags": []
   },
   "outputs": [],
   "source": [
    "import pandas as pd\n",
    "import os # use this to access your environment variables\n",
    "import requests # this will be used to call the APIs\n",
    "import json #will be used to save snapshots of citybike data, since data is always live"
   ]
  },
  {
   "cell_type": "code",
   "execution_count": null,
   "id": "527ff112-0df9-4028-bfe9-4af8f7cd5e56",
   "metadata": {
    "tags": []
   },
   "outputs": [],
   "source": [
    "networks = requests.request(\"GET\", 'http://api.citybik.es/v2/networks') # gives list of all networks"
   ]
  },
  {
   "cell_type": "code",
   "execution_count": null,
   "id": "60bafca6-4085-4c98-a6b0-e0bb08378f18",
   "metadata": {
    "tags": []
   },
   "outputs": [],
   "source": [
    "networks = networks.json()"
   ]
  },
  {
   "cell_type": "code",
   "execution_count": null,
   "id": "d44ecb92-75c9-4cc7-8173-8b56890581d8",
   "metadata": {
    "tags": []
   },
   "outputs": [],
   "source": [
    "networks"
   ]
  },
  {
   "cell_type": "code",
   "execution_count": null,
   "id": "a01a50a1-341d-46ef-a320-b53098d5618f",
   "metadata": {
    "tags": []
   },
   "outputs": [],
   "source": [
    "# the citybike API is rather straightforward.\n",
    "# to get a list of all cities they operate in, as well as the ids of the program in that city:\n",
    "city = []\n",
    "name = []\n",
    "for i in networks['networks']:\n",
    "    city.append(i['location']['city'])\n",
    "    name.append(i['id'])\n",
    "city_bikes = pd.DataFrame()\n",
    "city_bikes['city'] = city\n",
    "city_bikes['name'] = name\n",
    "#headers not needed for this api, it seems."
   ]
  },
  {
   "cell_type": "code",
   "execution_count": null,
   "id": "b6c37a1d-4103-486e-ba0e-9f1fdfdaf1f7",
   "metadata": {
    "tags": []
   },
   "outputs": [],
   "source": [
    "# then we can search that dataframe for the city we'd like to study:\n",
    "city_bikes.loc[city_bikes['city'].str.startswith('Toronto')]"
   ]
  },
  {
   "cell_type": "code",
   "execution_count": null,
   "id": "759da4d6-4d9f-42b1-9bc6-28a0f2fcd4dd",
   "metadata": {
    "tags": []
   },
   "outputs": [],
   "source": [
    "# BUT since I'm not as familiar with Torontos infrastructure as I am with other city's \n",
    "# I have elected to take a closer look at one of my absolute favorites,Chicago\n",
    "city_bikes.loc[city_bikes['city'].str.startswith('Chicago')]"
   ]
  },
  {
   "cell_type": "code",
   "execution_count": null,
   "id": "a76128de-d583-43f4-8ea5-c9b7ed2d1609",
   "metadata": {
    "tags": []
   },
   "outputs": [],
   "source": [
    "def city_bike(name):\n",
    "\n",
    "    url = f\"http://api.citybik.es/v2/networks/{name}\"\n",
    "    \n",
    "#     headers = { \n",
    "#         \"name\":name\n",
    "#     }\n",
    "#headers not needed for this api, it seems.\n",
    "#toronto = bixi-toronto\n",
    "#chicago = divvy\n",
    "\n",
    "    response = requests.request(\"GET\", url)\n",
    "    return response"
   ]
  },
  {
   "cell_type": "code",
   "execution_count": null,
   "id": "c784fca1-2b7c-4ca9-b835-61273bb59a54",
   "metadata": {
    "tags": []
   },
   "outputs": [],
   "source": [
    "data = city_bike('divvy')\n",
    "data = data.json()"
   ]
  },
  {
   "cell_type": "code",
   "execution_count": null,
   "id": "13d0b7b8-a3d0-4cc1-ae57-360330234dad",
   "metadata": {
    "tags": []
   },
   "outputs": [],
   "source": [
    "# now we'll begin going through the data retieved. \n",
    "# already we have some idea of what we're looking for, \n",
    "# the latitude, longitude and information about the number of bikes present at each station\n",
    "print(data.keys())\n",
    "print(data['network'].keys())\n",
    "data['network']['stations'][2]"
   ]
  },
  {
   "cell_type": "code",
   "execution_count": null,
   "id": "7be30a7f-ee8d-45e8-ba34-2e95a47fa80f",
   "metadata": {
    "tags": []
   },
   "outputs": [],
   "source": [
    "data['network']['id']"
   ]
  },
  {
   "cell_type": "code",
   "execution_count": null,
   "id": "9776c5d7-46ef-474d-8881-76ac67242eb8",
   "metadata": {},
   "outputs": [],
   "source": [
    "#the data we're looking for is within stations, except for the company name which will be the same for all this data."
   ]
  },
  {
   "cell_type": "code",
   "execution_count": null,
   "id": "1c21438a-68e5-4160-baaf-037a172b4042",
   "metadata": {
    "tags": []
   },
   "outputs": [],
   "source": [
    "timestamp=[]\n",
    "comp_id=[]\n",
    "name=[]\n",
    "latitude=[]\n",
    "longitude =[]\n",
    "slots=[]\n",
    "free_bikes=[]\n",
    "renting=[]\n",
    "for i in data['network']['stations']:\n",
    "    comp_id.append('divvy') # since we've pulled this data by polling the citybikes site for 'divvy', we can just include this here\n",
    "    name.append(i['name'])\n",
    "    latitude.append(i['latitude'])\n",
    "    longitude.append(i['longitude'])\n",
    "    slots.append(i['extra']['slots'])\n",
    "    free_bikes.append(i['free_bikes'])\n",
    "    renting.append(i['extra']['renting'])\n",
    "    timestamp.append(i['timestamp'])"
   ]
  },
  {
   "cell_type": "code",
   "execution_count": null,
   "id": "aa55084e-9dac-46e3-90bf-3cec5078f32c",
   "metadata": {
    "tags": []
   },
   "outputs": [],
   "source": [
    "# now we'll create a dataframe based off of this. Since my plan is to pull multiple views and compare them,\n",
    "# this whole process will need to be performed manualled each time. \n",
    "# automating this will be a good idea in the future, to ensure a more regular and comprable data set.\n",
    "Chi_five30_fri = pd.DataFrame() #this naming scheme is probably too cumbersome, but will be maintained for consistency and legibility\n",
    "Chi_five30_fri['comp_id']=comp_id\n",
    "Chi_five30_fri['name'] = name\n",
    "Chi_five30_fri['latitude']=latitude\n",
    "Chi_five30_fri['longitude']=longitude\n",
    "Chi_five30_fri['slots']=slots\n",
    "Chi_five30_fri['free_bikes']=free_bikes\n",
    "Chi_five30_fri['renting']=renting\n",
    "Chi_five30_fri['timestamp']=timestamp"
   ]
  },
  {
   "cell_type": "code",
   "execution_count": null,
   "id": "7f190a50-0652-4605-b79e-f17719ebd278",
   "metadata": {
    "tags": []
   },
   "outputs": [],
   "source": [
    "Chi_five30_fri['timestamp']"
   ]
  },
  {
   "cell_type": "code",
   "execution_count": null,
   "id": "b051eda8-f7f4-42cc-8388-3d32edf4ff56",
   "metadata": {},
   "outputs": [],
   "source": []
  },
  {
   "cell_type": "code",
   "execution_count": null,
   "id": "4a77f5d7-f0d8-4896-8ab7-9a3270456dba",
   "metadata": {
    "tags": []
   },
   "outputs": [],
   "source": [
    "Chi_five30_fri['timestamp'] = pd.to_datetime(Chi_five30_fri['timestamp'])"
   ]
  },
  {
   "cell_type": "code",
   "execution_count": null,
   "id": "3f3af305-c42d-4c1c-937b-2efe3083b5c6",
   "metadata": {
    "tags": []
   },
   "outputs": [],
   "source": [
    "Chi_five30_fri['timestamp']"
   ]
  },
  {
   "cell_type": "code",
   "execution_count": null,
   "id": "76a06e59-f0e6-4922-9bc0-15213a02781d",
   "metadata": {
    "tags": []
   },
   "outputs": [],
   "source": [
    "Chi_five30_fri.info()"
   ]
  },
  {
   "cell_type": "code",
   "execution_count": null,
   "id": "22d912ae-ee55-4387-b938-2893d69f9502",
   "metadata": {},
   "outputs": [],
   "source": [
    "#The only issue with the data retrieved so far is that the timestamp is set to GMT. \n",
    "#Since the question I'm interested in is about the use, esp. as it relates to public transit, \n",
    "#having accurate local times associated with the data is key."
   ]
  },
  {
   "cell_type": "code",
   "execution_count": null,
   "id": "59cce5a8-c9bd-41f4-bb8f-1dac5914aabb",
   "metadata": {
    "tags": []
   },
   "outputs": [],
   "source": [
    "import datetime as dt\n",
    "import pytz"
   ]
  },
  {
   "cell_type": "code",
   "execution_count": null,
   "id": "6651d66b-42d2-4d4b-a0d0-3c6bb93ff76e",
   "metadata": {
    "tags": []
   },
   "outputs": [],
   "source": [
    "Chi_five30_fri['timestamp'] = Chi_five30_fri['timestamp'].dt.tz_localize(pytz.timezone('US/Central')).dt.tz_convert(pytz.timezone('UTC'))\n",
    "#FOR unknown reasons, at one point the above formula converted my data to central time, but in samples from the next day \n",
    "#the following days, the below example did.\n",
    "#as far as I know I did not change anything"
   ]
  },
  {
   "cell_type": "code",
   "execution_count": null,
   "id": "ca9af388-22a8-40a3-bb17-fad5414df0ed",
   "metadata": {},
   "outputs": [],
   "source": [
    "Chi_five30_fri['timestamp'] = Chi_five30_fri['timestamp'].dt.tz_convert('US/Central')\n",
    "#in any case, all of my data did end up correctly formatted, which is good."
   ]
  },
  {
   "cell_type": "code",
   "execution_count": null,
   "id": "de358927-9db1-4fc7-b9bf-1c11735fe64b",
   "metadata": {},
   "outputs": [],
   "source": [
    "# to maintain records, this data will then be re-recorded as a .json file, ensuring it can be referenced and used later\n",
    "# while also preserving these observation\n",
    "Chi_five30_fri.to_json('Chi_five30_fri(raw).json')"
   ]
  },
  {
   "cell_type": "code",
   "execution_count": null,
   "id": "1aa75333-b6b4-4da9-9caf-77d788eb7814",
   "metadata": {},
   "outputs": [],
   "source": [
    "#this process was then repeated for observations on Friday evening, Saturday and Sunday afternoons and Monday morning."
   ]
  }
 ],
 "metadata": {
  "kernelspec": {
   "display_name": "Python 3 (ipykernel)",
   "language": "python",
   "name": "python3"
  },
  "language_info": {
   "codemirror_mode": {
    "name": "ipython",
    "version": 3
   },
   "file_extension": ".py",
   "mimetype": "text/x-python",
   "name": "python",
   "nbconvert_exporter": "python",
   "pygments_lexer": "ipython3",
   "version": "3.11.5"
  }
 },
 "nbformat": 4,
 "nbformat_minor": 5
}
