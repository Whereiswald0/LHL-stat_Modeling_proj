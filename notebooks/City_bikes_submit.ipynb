{
 "cells": [
  {
   "cell_type": "markdown",
   "id": "a93806e9-1477-40ef-bd4b-a0dd9962cd00",
   "metadata": {},
   "source": [
    "##### 1.Explore the structure of the API, query the API and understand the data returned.\n",
    "\n",
    "##### 2.Choose a city covered by the CityBikes API and retrieve all available bike stations in that city.\n",
    "\n",
    "##### 3.For each bike station, use the API to call the latitude, longitude and number of bikes.\n",
    "\n",
    "##### 4.Parse the JSON object into a Pandas dataframe."
   ]
  },
  {
   "cell_type": "code",
   "execution_count": 1,
   "id": "27a224ff-e18e-45fb-a8de-e2658e78e1da",
   "metadata": {
    "tags": []
   },
   "outputs": [],
   "source": [
    "import pandas as pd\n",
    "import os # use this to access your environment variables\n",
    "import requests # this will be used to call the APIs\n",
    "import json #will be used to save snapshots of citybike data, since data is always live"
   ]
  },
  {
   "cell_type": "code",
   "execution_count": 2,
   "id": "527ff112-0df9-4028-bfe9-4af8f7cd5e56",
   "metadata": {
    "tags": []
   },
   "outputs": [],
   "source": [
    "networks = requests.request(\"GET\", 'http://api.citybik.es/v2/networks') # gives list of all networks"
   ]
  },
  {
   "cell_type": "code",
   "execution_count": 3,
   "id": "60bafca6-4085-4c98-a6b0-e0bb08378f18",
   "metadata": {
    "tags": []
   },
   "outputs": [],
   "source": [
    "networks = networks.json()"
   ]
  },
  {
   "cell_type": "code",
   "execution_count": 5,
   "id": "d44ecb92-75c9-4cc7-8173-8b56890581d8",
   "metadata": {
    "tags": []
   },
   "outputs": [
    {
     "data": {
      "text/plain": [
       "dict_keys(['networks'])"
      ]
     },
     "execution_count": 5,
     "metadata": {},
     "output_type": "execute_result"
    }
   ],
   "source": [
    "networks.keys()"
   ]
  },
  {
   "cell_type": "code",
   "execution_count": 7,
   "id": "1e291ff5-600a-441c-922f-290756972296",
   "metadata": {
    "tags": []
   },
   "outputs": [
    {
     "data": {
      "text/plain": [
       "{'company': ['ЗАО «СитиБайк»'],\n",
       " 'href': '/v2/networks/velobike-moscow',\n",
       " 'id': 'velobike-moscow',\n",
       " 'location': {'city': 'Moscow',\n",
       "  'country': 'RU',\n",
       "  'latitude': 55.75,\n",
       "  'longitude': 37.616667},\n",
       " 'name': 'Velobike'}"
      ]
     },
     "execution_count": 7,
     "metadata": {},
     "output_type": "execute_result"
    }
   ],
   "source": [
    "networks['networks'][0]"
   ]
  },
  {
   "cell_type": "code",
   "execution_count": 8,
   "id": "a01a50a1-341d-46ef-a320-b53098d5618f",
   "metadata": {
    "tags": []
   },
   "outputs": [],
   "source": [
    "# the citybike API is rather straightforward.\n",
    "# to get a list of all cities they operate in, as well as the ids of the program in that city:\n",
    "city = []\n",
    "name = []\n",
    "for i in networks['networks']:\n",
    "    city.append(i['location']['city'])\n",
    "    name.append(i['id'])\n",
    "city_bikes = pd.DataFrame()\n",
    "city_bikes['city'] = city\n",
    "city_bikes['name'] = name\n",
    "#headers not needed for this api, it seems."
   ]
  },
  {
   "cell_type": "code",
   "execution_count": 9,
   "id": "b6c37a1d-4103-486e-ba0e-9f1fdfdaf1f7",
   "metadata": {
    "tags": []
   },
   "outputs": [
    {
     "data": {
      "text/html": [
       "<div>\n",
       "<style scoped>\n",
       "    .dataframe tbody tr th:only-of-type {\n",
       "        vertical-align: middle;\n",
       "    }\n",
       "\n",
       "    .dataframe tbody tr th {\n",
       "        vertical-align: top;\n",
       "    }\n",
       "\n",
       "    .dataframe thead th {\n",
       "        text-align: right;\n",
       "    }\n",
       "</style>\n",
       "<table border=\"1\" class=\"dataframe\">\n",
       "  <thead>\n",
       "    <tr style=\"text-align: right;\">\n",
       "      <th></th>\n",
       "      <th>city</th>\n",
       "      <th>name</th>\n",
       "    </tr>\n",
       "  </thead>\n",
       "  <tbody>\n",
       "    <tr>\n",
       "      <th>77</th>\n",
       "      <td>Toronto, ON</td>\n",
       "      <td>bixi-toronto</td>\n",
       "    </tr>\n",
       "  </tbody>\n",
       "</table>\n",
       "</div>"
      ],
      "text/plain": [
       "           city          name\n",
       "77  Toronto, ON  bixi-toronto"
      ]
     },
     "execution_count": 9,
     "metadata": {},
     "output_type": "execute_result"
    }
   ],
   "source": [
    "# then we can search that dataframe for the city we'd like to study:\n",
    "city_bikes.loc[city_bikes['city'].str.startswith('Toronto')]"
   ]
  },
  {
   "cell_type": "code",
   "execution_count": 10,
   "id": "759da4d6-4d9f-42b1-9bc6-28a0f2fcd4dd",
   "metadata": {
    "tags": []
   },
   "outputs": [
    {
     "data": {
      "text/html": [
       "<div>\n",
       "<style scoped>\n",
       "    .dataframe tbody tr th:only-of-type {\n",
       "        vertical-align: middle;\n",
       "    }\n",
       "\n",
       "    .dataframe tbody tr th {\n",
       "        vertical-align: top;\n",
       "    }\n",
       "\n",
       "    .dataframe thead th {\n",
       "        text-align: right;\n",
       "    }\n",
       "</style>\n",
       "<table border=\"1\" class=\"dataframe\">\n",
       "  <thead>\n",
       "    <tr style=\"text-align: right;\">\n",
       "      <th></th>\n",
       "      <th>city</th>\n",
       "      <th>name</th>\n",
       "    </tr>\n",
       "  </thead>\n",
       "  <tbody>\n",
       "    <tr>\n",
       "      <th>101</th>\n",
       "      <td>Chicago, IL</td>\n",
       "      <td>divvy</td>\n",
       "    </tr>\n",
       "  </tbody>\n",
       "</table>\n",
       "</div>"
      ],
      "text/plain": [
       "            city   name\n",
       "101  Chicago, IL  divvy"
      ]
     },
     "execution_count": 10,
     "metadata": {},
     "output_type": "execute_result"
    }
   ],
   "source": [
    "# BUT since I'm not as familiar with Torontos infrastructure as I am with other city's \n",
    "# I have elected to take a closer look at one of my absolute favorites,Chicago\n",
    "city_bikes.loc[city_bikes['city'].str.startswith('Chicago')]"
   ]
  },
  {
   "cell_type": "code",
   "execution_count": 11,
   "id": "a76128de-d583-43f4-8ea5-c9b7ed2d1609",
   "metadata": {
    "tags": []
   },
   "outputs": [],
   "source": [
    "def city_bike(name):\n",
    "\n",
    "    url = f\"http://api.citybik.es/v2/networks/{name}\"\n",
    "    \n",
    "#     headers = { \n",
    "#         \"name\":name\n",
    "#     }\n",
    "#headers not needed for this api, it seems.\n",
    "#toronto = bixi-toronto\n",
    "#chicago = divvy\n",
    "\n",
    "    response = requests.request(\"GET\", url)\n",
    "    return response"
   ]
  },
  {
   "cell_type": "code",
   "execution_count": 31,
   "id": "c784fca1-2b7c-4ca9-b835-61273bb59a54",
   "metadata": {
    "tags": []
   },
   "outputs": [],
   "source": [
    "data = city_bike('divvy')\n",
    "data = data.json()"
   ]
  },
  {
   "cell_type": "code",
   "execution_count": 32,
   "id": "13d0b7b8-a3d0-4cc1-ae57-360330234dad",
   "metadata": {
    "tags": []
   },
   "outputs": [
    {
     "name": "stdout",
     "output_type": "stream",
     "text": [
      "dict_keys(['network'])\n",
      "dict_keys(['company', 'ebikes', 'gbfs_href', 'href', 'id', 'location', 'name', 'stations'])\n"
     ]
    },
    {
     "data": {
      "text/plain": [
       "{'empty_slots': 0,\n",
       " 'extra': {'ebikes': 1,\n",
       "  'has_ebikes': True,\n",
       "  'last_updated': 1700481590,\n",
       "  'payment': ['key', 'creditcard', 'transitcard'],\n",
       "  'payment-terminal': True,\n",
       "  'rental_uris': {'android': 'https://chi.lft.to/lastmile_qr_scan',\n",
       "   'ios': 'https://chi.lft.to/lastmile_qr_scan'},\n",
       "  'renting': 1,\n",
       "  'returning': 1,\n",
       "  'slots': 15,\n",
       "  'uid': 'a3ac1bc9-a135-11e9-9cda-0a87ae2ba916'},\n",
       " 'free_bikes': 15,\n",
       " 'id': 'd510712148d2ace2f7efade8e41b4fa4',\n",
       " 'latitude': 41.950687,\n",
       " 'longitude': -87.6687,\n",
       " 'name': 'Ashland Ave & Grace St',\n",
       " 'timestamp': '2023-11-20T12:00:40.642000Z'}"
      ]
     },
     "execution_count": 32,
     "metadata": {},
     "output_type": "execute_result"
    }
   ],
   "source": [
    "# now we'll begin going through the data retieved. \n",
    "# already we have some idea of what we're looking for, \n",
    "# the latitude, longitude and information about the number of bikes present at each station\n",
    "print(data.keys())\n",
    "print(data['network'].keys())\n",
    "data['network']['stations'][2]"
   ]
  },
  {
   "cell_type": "code",
   "execution_count": 14,
   "id": "7be30a7f-ee8d-45e8-ba34-2e95a47fa80f",
   "metadata": {
    "tags": []
   },
   "outputs": [
    {
     "data": {
      "text/plain": [
       "'divvy'"
      ]
     },
     "execution_count": 14,
     "metadata": {},
     "output_type": "execute_result"
    }
   ],
   "source": [
    "data['network']['id']"
   ]
  },
  {
   "cell_type": "code",
   "execution_count": null,
   "id": "9776c5d7-46ef-474d-8881-76ac67242eb8",
   "metadata": {},
   "outputs": [],
   "source": [
    "#the data we're looking for is within stations, except for the company name which will be the same for all this data."
   ]
  },
  {
   "cell_type": "code",
   "execution_count": 33,
   "id": "1c21438a-68e5-4160-baaf-037a172b4042",
   "metadata": {
    "tags": []
   },
   "outputs": [],
   "source": [
    "timestamp=[]\n",
    "comp_id=[]\n",
    "name=[]\n",
    "latitude=[]\n",
    "longitude =[]\n",
    "slots=[]\n",
    "free_bikes=[]\n",
    "renting=[]\n",
    "for i in data['network']['stations']:\n",
    "    comp_id.append('divvy') # since we've pulled this data by polling the citybikes site for 'divvy', we can just include this here\n",
    "    name.append(i['name'])\n",
    "    latitude.append(i['latitude'])\n",
    "    longitude.append(i['longitude'])\n",
    "    slots.append(i['extra']['slots'])\n",
    "    free_bikes.append(i['free_bikes'])\n",
    "    renting.append(i['extra']['renting'])\n",
    "    timestamp.append(i['timestamp'])"
   ]
  },
  {
   "cell_type": "code",
   "execution_count": 34,
   "id": "aa55084e-9dac-46e3-90bf-3cec5078f32c",
   "metadata": {
    "tags": []
   },
   "outputs": [],
   "source": [
    "# now we'll create a dataframe based off of this. Since my plan is to pull multiple views and compare them,\n",
    "# this whole process will need to be performed manualled each time. \n",
    "# automating this will be a good idea in the future, to ensure a more regular and comprable data set.\n",
    "\n",
    "Chi_6am_mon = pd.DataFrame() #this naming scheme is probably too cumbersome, but will be maintained for consistency and legibility\n",
    "Chi_6am_mon['comp_id']=comp_id\n",
    "Chi_6am_mon['name'] = name\n",
    "Chi_6am_mon['latitude']=latitude\n",
    "Chi_6am_mon['longitude']=longitude\n",
    "Chi_6am_mon['slots']=slots\n",
    "Chi_6am_mon['free_bikes']=free_bikes\n",
    "Chi_6am_mon['renting']=renting\n",
    "Chi_6am_mon['timestamp']=timestamp"
   ]
  },
  {
   "cell_type": "code",
   "execution_count": 35,
   "id": "4a77f5d7-f0d8-4896-8ab7-9a3270456dba",
   "metadata": {
    "tags": []
   },
   "outputs": [],
   "source": [
    "Chi_6am_mon['timestamp'] = pd.to_datetime(Chi_6am_mon['timestamp']) \n",
    "#I THINK this sometimes throws errors because the data from the API is incomplete or corrupted, \n",
    "#best to re-query which seems to fix the processes"
   ]
  },
  {
   "cell_type": "code",
   "execution_count": 36,
   "id": "3f3af305-c42d-4c1c-937b-2efe3083b5c6",
   "metadata": {
    "tags": []
   },
   "outputs": [
    {
     "data": {
      "text/plain": [
       "0      2023-11-20 12:00:40.543000+00:00\n",
       "1      2023-11-20 12:00:37.536000+00:00\n",
       "2      2023-11-20 12:00:40.642000+00:00\n",
       "3      2023-11-20 12:00:37.536000+00:00\n",
       "4      2023-11-20 12:00:38.036000+00:00\n",
       "                     ...               \n",
       "1658   2023-11-20 12:00:37.518000+00:00\n",
       "1659   2023-11-20 12:00:37.694000+00:00\n",
       "1660   2023-11-20 12:00:39.696000+00:00\n",
       "1661   2023-11-20 12:00:39.957000+00:00\n",
       "1662   2023-11-20 12:00:40.232000+00:00\n",
       "Name: timestamp, Length: 1663, dtype: datetime64[ns, UTC]"
      ]
     },
     "execution_count": 36,
     "metadata": {},
     "output_type": "execute_result"
    }
   ],
   "source": [
    "Chi_6am_mon['timestamp']"
   ]
  },
  {
   "cell_type": "code",
   "execution_count": 25,
   "id": "76a06e59-f0e6-4922-9bc0-15213a02781d",
   "metadata": {
    "tags": []
   },
   "outputs": [
    {
     "name": "stdout",
     "output_type": "stream",
     "text": [
      "<class 'pandas.core.frame.DataFrame'>\n",
      "RangeIndex: 1663 entries, 0 to 1662\n",
      "Data columns (total 8 columns):\n",
      " #   Column      Non-Null Count  Dtype  \n",
      "---  ------      --------------  -----  \n",
      " 0   comp_id     1663 non-null   object \n",
      " 1   name        1663 non-null   object \n",
      " 2   latitude    1663 non-null   float64\n",
      " 3   longitude   1663 non-null   float64\n",
      " 4   slots       1663 non-null   int64  \n",
      " 5   free_bikes  1663 non-null   int64  \n",
      " 6   renting     1663 non-null   int64  \n",
      " 7   timestamp   1663 non-null   object \n",
      "dtypes: float64(2), int64(3), object(3)\n",
      "memory usage: 104.1+ KB\n"
     ]
    }
   ],
   "source": [
    "Chi_6am_mon.info()"
   ]
  },
  {
   "cell_type": "code",
   "execution_count": null,
   "id": "22d912ae-ee55-4387-b938-2893d69f9502",
   "metadata": {},
   "outputs": [],
   "source": [
    "#The only issue with the data retrieved so far is that the timestamp is set to GMT. \n",
    "#Since the question I'm interested in is about the use, esp. as it relates to public transit, \n",
    "#having accurate local times associated with the data is key."
   ]
  },
  {
   "cell_type": "code",
   "execution_count": 28,
   "id": "59cce5a8-c9bd-41f4-bb8f-1dac5914aabb",
   "metadata": {
    "tags": []
   },
   "outputs": [],
   "source": [
    "import datetime as dt\n",
    "import pytz"
   ]
  },
  {
   "cell_type": "code",
   "execution_count": 23,
   "id": "6651d66b-42d2-4d4b-a0d0-3c6bb93ff76e",
   "metadata": {
    "collapsed": true,
    "jupyter": {
     "outputs_hidden": true
    },
    "tags": []
   },
   "outputs": [
    {
     "ename": "AttributeError",
     "evalue": "Can only use .dt accessor with datetimelike values",
     "output_type": "error",
     "traceback": [
      "\u001b[1;31m---------------------------------------------------------------------------\u001b[0m",
      "\u001b[1;31mAttributeError\u001b[0m                            Traceback (most recent call last)",
      "Cell \u001b[1;32mIn[23], line 1\u001b[0m\n\u001b[1;32m----> 1\u001b[0m Chi_6am_mon[\u001b[38;5;124m'\u001b[39m\u001b[38;5;124mtimestamp\u001b[39m\u001b[38;5;124m'\u001b[39m] \u001b[38;5;241m=\u001b[39m Chi_6am_mon[\u001b[38;5;124m'\u001b[39m\u001b[38;5;124mtimestamp\u001b[39m\u001b[38;5;124m'\u001b[39m]\u001b[38;5;241m.\u001b[39mdt\u001b[38;5;241m.\u001b[39mtz_localize(pytz\u001b[38;5;241m.\u001b[39mtimezone(\u001b[38;5;124m'\u001b[39m\u001b[38;5;124mUS/Central\u001b[39m\u001b[38;5;124m'\u001b[39m))\u001b[38;5;241m.\u001b[39mdt\u001b[38;5;241m.\u001b[39mtz_convert(pytz\u001b[38;5;241m.\u001b[39mtimezone(\u001b[38;5;124m'\u001b[39m\u001b[38;5;124mUTC\u001b[39m\u001b[38;5;124m'\u001b[39m))\n",
      "File \u001b[1;32m~\\anaconda3\\Lib\\site-packages\\pandas\\core\\generic.py:5989\u001b[0m, in \u001b[0;36mNDFrame.__getattr__\u001b[1;34m(self, name)\u001b[0m\n\u001b[0;32m   5982\u001b[0m \u001b[38;5;28;01mif\u001b[39;00m (\n\u001b[0;32m   5983\u001b[0m     name \u001b[38;5;129;01mnot\u001b[39;00m \u001b[38;5;129;01min\u001b[39;00m \u001b[38;5;28mself\u001b[39m\u001b[38;5;241m.\u001b[39m_internal_names_set\n\u001b[0;32m   5984\u001b[0m     \u001b[38;5;129;01mand\u001b[39;00m name \u001b[38;5;129;01mnot\u001b[39;00m \u001b[38;5;129;01min\u001b[39;00m \u001b[38;5;28mself\u001b[39m\u001b[38;5;241m.\u001b[39m_metadata\n\u001b[0;32m   5985\u001b[0m     \u001b[38;5;129;01mand\u001b[39;00m name \u001b[38;5;129;01mnot\u001b[39;00m \u001b[38;5;129;01min\u001b[39;00m \u001b[38;5;28mself\u001b[39m\u001b[38;5;241m.\u001b[39m_accessors\n\u001b[0;32m   5986\u001b[0m     \u001b[38;5;129;01mand\u001b[39;00m \u001b[38;5;28mself\u001b[39m\u001b[38;5;241m.\u001b[39m_info_axis\u001b[38;5;241m.\u001b[39m_can_hold_identifiers_and_holds_name(name)\n\u001b[0;32m   5987\u001b[0m ):\n\u001b[0;32m   5988\u001b[0m     \u001b[38;5;28;01mreturn\u001b[39;00m \u001b[38;5;28mself\u001b[39m[name]\n\u001b[1;32m-> 5989\u001b[0m \u001b[38;5;28;01mreturn\u001b[39;00m \u001b[38;5;28mobject\u001b[39m\u001b[38;5;241m.\u001b[39m\u001b[38;5;21m__getattribute__\u001b[39m(\u001b[38;5;28mself\u001b[39m, name)\n",
      "File \u001b[1;32m~\\anaconda3\\Lib\\site-packages\\pandas\\core\\accessor.py:224\u001b[0m, in \u001b[0;36mCachedAccessor.__get__\u001b[1;34m(self, obj, cls)\u001b[0m\n\u001b[0;32m    221\u001b[0m \u001b[38;5;28;01mif\u001b[39;00m obj \u001b[38;5;129;01mis\u001b[39;00m \u001b[38;5;28;01mNone\u001b[39;00m:\n\u001b[0;32m    222\u001b[0m     \u001b[38;5;66;03m# we're accessing the attribute of the class, i.e., Dataset.geo\u001b[39;00m\n\u001b[0;32m    223\u001b[0m     \u001b[38;5;28;01mreturn\u001b[39;00m \u001b[38;5;28mself\u001b[39m\u001b[38;5;241m.\u001b[39m_accessor\n\u001b[1;32m--> 224\u001b[0m accessor_obj \u001b[38;5;241m=\u001b[39m \u001b[38;5;28mself\u001b[39m\u001b[38;5;241m.\u001b[39m_accessor(obj)\n\u001b[0;32m    225\u001b[0m \u001b[38;5;66;03m# Replace the property with the accessor object. Inspired by:\u001b[39;00m\n\u001b[0;32m    226\u001b[0m \u001b[38;5;66;03m# https://www.pydanny.com/cached-property.html\u001b[39;00m\n\u001b[0;32m    227\u001b[0m \u001b[38;5;66;03m# We need to use object.__setattr__ because we overwrite __setattr__ on\u001b[39;00m\n\u001b[0;32m    228\u001b[0m \u001b[38;5;66;03m# NDFrame\u001b[39;00m\n\u001b[0;32m    229\u001b[0m \u001b[38;5;28mobject\u001b[39m\u001b[38;5;241m.\u001b[39m\u001b[38;5;21m__setattr__\u001b[39m(obj, \u001b[38;5;28mself\u001b[39m\u001b[38;5;241m.\u001b[39m_name, accessor_obj)\n",
      "File \u001b[1;32m~\\anaconda3\\Lib\\site-packages\\pandas\\core\\indexes\\accessors.py:580\u001b[0m, in \u001b[0;36mCombinedDatetimelikeProperties.__new__\u001b[1;34m(cls, data)\u001b[0m\n\u001b[0;32m    577\u001b[0m \u001b[38;5;28;01melif\u001b[39;00m is_period_dtype(data\u001b[38;5;241m.\u001b[39mdtype):\n\u001b[0;32m    578\u001b[0m     \u001b[38;5;28;01mreturn\u001b[39;00m PeriodProperties(data, orig)\n\u001b[1;32m--> 580\u001b[0m \u001b[38;5;28;01mraise\u001b[39;00m \u001b[38;5;167;01mAttributeError\u001b[39;00m(\u001b[38;5;124m\"\u001b[39m\u001b[38;5;124mCan only use .dt accessor with datetimelike values\u001b[39m\u001b[38;5;124m\"\u001b[39m)\n",
      "\u001b[1;31mAttributeError\u001b[0m: Can only use .dt accessor with datetimelike values"
     ]
    }
   ],
   "source": [
    "Chi_6am_mon['timestamp'] = Chi_6am_mon['timestamp'].dt.tz_localize(pytz.timezone('US/Central')).dt.tz_convert(pytz.timezone('UTC'))\n",
    "#FOR unknown reasons, at one point the above formula converted my data to central time, but in samples from the next day \n",
    "#the following days, the below example did.\n",
    "#as far as I know I did not change anything"
   ]
  },
  {
   "cell_type": "code",
   "execution_count": 37,
   "id": "ca9af388-22a8-40a3-bb17-fad5414df0ed",
   "metadata": {},
   "outputs": [],
   "source": [
    "Chi_6am_mon['timestamp'] = Chi_6am_mon['timestamp'].dt.tz_convert('US/Central')\n",
    "#in any case, all of my data did end up correctly formatted, which is good."
   ]
  },
  {
   "cell_type": "code",
   "execution_count": 38,
   "id": "de358927-9db1-4fc7-b9bf-1c11735fe64b",
   "metadata": {},
   "outputs": [],
   "source": [
    "# to maintain records, this data will then be re-recorded as a .json file, ensuring it can be referenced and used later\n",
    "# while also preserving these observation\n",
    "\n",
    "Chi_6am_mon.to_json(r'unprocessed/Chi_6am_mon(raw).json')"
   ]
  },
  {
   "cell_type": "code",
   "execution_count": null,
   "id": "1aa75333-b6b4-4da9-9caf-77d788eb7814",
   "metadata": {},
   "outputs": [],
   "source": [
    "#this process was then repeated for observations on Friday evening, Saturday and Sunday afternoons and Monday morning."
   ]
  }
 ],
 "metadata": {
  "kernelspec": {
   "display_name": "Python 3 (ipykernel)",
   "language": "python",
   "name": "python3"
  },
  "language_info": {
   "codemirror_mode": {
    "name": "ipython",
    "version": 3
   },
   "file_extension": ".py",
   "mimetype": "text/x-python",
   "name": "python",
   "nbconvert_exporter": "python",
   "pygments_lexer": "ipython3",
   "version": "3.11.5"
  }
 },
 "nbformat": 4,
 "nbformat_minor": 5
}
