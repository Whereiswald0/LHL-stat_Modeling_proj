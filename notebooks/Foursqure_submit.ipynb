{
 "cells": [
  {
   "cell_type": "markdown",
   "id": "3bc97190-5057-40ac-a38f-df511d086c09",
   "metadata": {},
   "source": [
    "# Your tasks are as follows:\n",
    "\n",
    "##### Connect to the Foursquare API\n",
    "##### Connect to the Yelp API. This API offers similar services as Foursquare.\n",
    "##### For each of the bike stations in Part 1, query both APIs to retrieve information for the following in that location:\n",
    "##### Restaurants or bars\n",
    "##### Various POIs (points of interest) of your choice\n",
    "##### Create a DataFrame for the Yelp results and Foursquare results.\n",
    "##### Compare the quality of the Yelp and Foursquare API. For your location, which API gives you the most complete information/better coverage? NOTE: Your definition of 'coverage' is up to you. It could be simple 'number of POIs in the area', but it could also be something more specific like 'number of reviews per POI', or 'number of different attributes of each POI'.\n",
    "## Complete the yelp_foursquare_EDA.ipynb notebook to demonstrate how you executed the tasks above."
   ]
  },
  {
   "cell_type": "code",
   "execution_count": 5,
   "id": "8cba21ff-f25e-4166-8037-251cedc41073",
   "metadata": {
    "tags": []
   },
   "outputs": [],
   "source": [
    "import pandas as pd\n",
    "import os # use this to access your environment variables\n",
    "import requests # this will be used to call the APIs\n",
    "import numpy as np\n",
    "import statsmodels.api as sm\n",
    "import statsmodels.formula.api as smf\n",
    "import scipy\n",
    "import json #json parsing libraries"
   ]
  },
  {
   "cell_type": "code",
   "execution_count": 11,
   "id": "4008aacc-a3bc-418a-a42c-0a00636cdea7",
   "metadata": {
    "tags": []
   },
   "outputs": [],
   "source": [
    "YELP_API_KEY = os.getenv('YELP_API_KEY')\n",
    "FOURSQUARE_KEY = os.getenv('FOUR_SQUARE_API_KEY')"
   ]
  },
  {
   "cell_type": "code",
   "execution_count": 2,
   "id": "2b4184d2-d570-4825-a278-a3d6e9b9c357",
   "metadata": {
    "tags": []
   },
   "outputs": [],
   "source": [
    "def get_venues_yelp(latitude, longitude, radius, api_key, categories):\n",
    "    \"\"\"\n",
    "    Gets venues from yelp with a specified place type and coordinates.\n",
    "    Args:\n",
    "        latitude (float): latitude for query (must be combined with longitude)\n",
    "        longitude (float): longitude for query (must be combined with latitude)\n",
    "        api_key (str): Yelp API key to use for query\n",
    "        categories (str) : Place types as found in https://docs.developer.yelp.com/docs/resources-categories\n",
    "            If not passed no type will be specified. Separate ids with commas\n",
    "    \n",
    "    Returns:\n",
    "        response: response object from the requests library.\n",
    "    \"\"\"\n",
    "    url = \"https://api.yelp.com/v3/businesses/search?\"\n",
    "\n",
    "    headers = {\n",
    "        \"accept\": \"application/json\",\n",
    "        \"Authorization\": f\"Bearer {api_key}\"\n",
    "        }\n",
    "\n",
    "    params = {\n",
    "        \"latitude\": float(latitude),\n",
    "        \"longitude\": float(longitude),\n",
    "        'radius': radius,\n",
    "        'categories': categories\n",
    "    }\n",
    "\n",
    "    response = requests.request(\"GET\", url, headers=headers, params=params)\n",
    "    return response"
   ]
  },
  {
   "cell_type": "code",
   "execution_count": 13,
   "id": "051bfdd9-bfb4-4896-9506-8a20322d7659",
   "metadata": {
    "tags": []
   },
   "outputs": [],
   "source": [
    "def get_venues_fs(latitude, longitude, radius, api_key, categories):\n",
    "    \"\"\"\n",
    "    Gets venues from foursquare with a specified place type and coordinates.\n",
    "    Args:\n",
    "        latitude (float): latitude for query (must be combined with longitude)\n",
    "        longitude (float): longitude for query (must be combined with latitude)\n",
    "        api_key (str): foursquare API key to use for query\n",
    "        categories (str) : Foursquare-recognized place types listed in: https://location.foursquare.com/places/docs/categories\n",
    "            If not passed no place_type will be specified. Separate ids with commas\n",
    "    \n",
    "    Returns:\n",
    "        response: response object from the requests library.\n",
    "    \"\"\"\n",
    "    url = \"https://api.foursquare.com/v3/places/search\"\n",
    "    params = {\n",
    "        \"ll\": f\"{latitude},{longitude}\",\n",
    "        'radius': radius,\n",
    "        'categories': categories\n",
    "    }\n",
    "    headers = {\n",
    "        \"Accept\": \"application/json\",\n",
    "        \"Authorization\": api_key\n",
    "    }\n",
    "    response = requests.request(\"GET\", url, headers=headers, params=params)\n",
    "    return response"
   ]
  },
  {
   "cell_type": "code",
   "execution_count": null,
   "id": "a8571c92-c7ba-4a7d-b062-cc5904256c8c",
   "metadata": {},
   "outputs": [],
   "source": [
    "#These queries will allow us to call the Four Square and Yelp APIs to get information about locations \n",
    "#within a certain radius of the lat. and long. \n",
    "# But another function will need to be written to pass the data provided by the City Bikes API"
   ]
  },
  {
   "cell_type": "code",
   "execution_count": 15,
   "id": "dcd9efb9-2fea-492a-ae47-1c6736cb41d2",
   "metadata": {},
   "outputs": [],
   "source": [
    "def station_query(row):\n",
    "    api_key = FOURSQUARE_KEY\n",
    "    response = get_venues_fs(float(row['latitude']), float(row['longitude']), 5000, api_key, 19046)\n",
    "    response = response.json()\n",
    "    return response\n",
    "    #19046 = CTA L station\n",
    "    #19043 = Bus Stop\n",
    "    #19054 = all public transit"
   ]
  },
  {
   "cell_type": "code",
   "execution_count": null,
   "id": "bbc3ae8a-1f49-4529-9b1c-62ca0e122d22",
   "metadata": {},
   "outputs": [],
   "source": [
    "def station_query_yelp(row):\n",
    "    api_key = YELP_API_KEY\n",
    "    response = get_venues_yelp(float(row['latitude']), float(row['longitude']), 5000, api_key, 'bikeshop')\n",
    "    response = response.json()\n",
    "    return response\n",
    "    #19046 = CTA L station\n",
    "    #19043 = Bus Stop\n",
    "    #19054 = all public transit"
   ]
  },
  {
   "cell_type": "code",
   "execution_count": null,
   "id": "31566c5f-efd9-4e08-b2b2-fc6cd1b9264f",
   "metadata": {},
   "outputs": [],
   "source": [
    "#the two functions above will apply the data from our previous query to the functions querying Four Square and Yelp"
   ]
  },
  {
   "cell_type": "code",
   "execution_count": null,
   "id": "f209ed70-7dbd-47a7-b9c9-eea6ce8c413b",
   "metadata": {},
   "outputs": [],
   "source": [
    "data = pd.read_json(r'chi_six30_fri.json')"
   ]
  },
  {
   "cell_type": "code",
   "execution_count": null,
   "id": "e8a011f1-a13d-4476-9b8a-20a1efce0401",
   "metadata": {},
   "outputs": [],
   "source": [
    "response = data.apply(lambda row: station_query(row), axis=1) \n",
    "#I very nearly understand how these lambda functions are working, \n",
    "#they are applying the calls to query the API to each row and returning the result. This is good"
   ]
  },
  {
   "cell_type": "code",
   "execution_count": null,
   "id": "e7a803a6-9280-4e70-ba28-4217140c5691",
   "metadata": {},
   "outputs": [],
   "source": [
    "response2 = data.apply(lambda row: station_query_yelp(row), axis=1)"
   ]
  },
  {
   "cell_type": "code",
   "execution_count": null,
   "id": "14614184-4b8b-4a15-840d-56d47a7f52ee",
   "metadata": {},
   "outputs": [],
   "source": [
    "response2[1]['businesses'] #exploring the data received from Yelp, we see that we have made a poor choice.\n",
    "len(response2) #while the correct length is returned"
   ]
  },
  {
   "cell_type": "code",
   "execution_count": null,
   "id": "07c5d075-ef5a-40f7-8f86-f3fbea8f81a1",
   "metadata": {},
   "outputs": [],
   "source": [
    "#writing a small function to parse the data and see how many results we get:"
   ]
  },
  {
   "cell_type": "code",
   "execution_count": null,
   "id": "e7d54e6a-a9aa-46e4-a8b3-c1907c1d4fa8",
   "metadata": {},
   "outputs": [],
   "source": [
    "#Now the question is, what information do we need to investigate our question. \n",
    "# As addressed in the readme, I have elected to look at the relationship between public transit \n",
    "#and the bikeshare program in Chicago."
   ]
  },
  {
   "cell_type": "markdown",
   "id": "31574fb5-8595-4df4-bcc6-91c37bc9091d",
   "metadata": {
    "tags": []
   },
   "source": [
    "##### Information to get per bike station:\n",
    "#####  how close is the closest 'l' stop?\n",
    "##### how many stations are w/i 1.6km? (1 mi)\n",
    "##### how many w/i 3k? (2 mi)"
   ]
  },
  {
   "cell_type": "code",
   "execution_count": null,
   "id": "a627e007-baf3-4ce8-b57a-b08274b98b6e",
   "metadata": {},
   "outputs": [],
   "source": [
    "# The data from Four Square, however, is exactly what we are looking for and will be processed."
   ]
  },
  {
   "cell_type": "code",
   "execution_count": null,
   "id": "0d49f7c5-0739-4ae6-ae63-40929cdd5f1a",
   "metadata": {},
   "outputs": [],
   "source": [
    "print(response[0].keys())\n",
    "print(response[0]['results'][0].keys())\n",
    "print(response[0]['results'][0]['distance'])\n",
    "print(response[0]['results'][0]['location'])"
   ]
  },
  {
   "cell_type": "code",
   "execution_count": null,
   "id": "d5e0794b-2235-455e-86e5-3a0320dda2c4",
   "metadata": {},
   "outputs": [],
   "source": [
    "# from these little probings we can see that the fields we want are within the results. \n",
    "# each query will return a list of CTA stations and give their distance from the lat. and long. provided"
   ]
  },
  {
   "cell_type": "code",
   "execution_count": null,
   "id": "1cafbf8f-40b7-46bc-8eb0-c8707aece559",
   "metadata": {},
   "outputs": [],
   "source": [
    "distance = []\n",
    "near_station = []\n",
    "num_stations_1mi = []\n",
    "num_stations_2mi = []\n",
    "def fs_append(response):\n",
    "    for i in response:\n",
    "        count1 = 0\n",
    "        count2 = 0\n",
    "        for l in i['results']:### adds to the count of stations, which will give an idea of public transit density and bike-share infrastructure\n",
    "            if l['distance'] <1700:\n",
    "                count1+=1\n",
    "            elif l['distance'] < 3400:\n",
    "                count2+=1\n",
    "            else: \n",
    "                continue\n",
    "        if len(i['results']) < 1:### if no results are returned, due to too small of a radius, this block will return 9999 as an error code\n",
    "            distance.append(9999)\n",
    "            near_station.append(9999)\n",
    "            num_stations_1mi.append(9999)\n",
    "            num_stations_2mi.append(9999)\n",
    "            continue\n",
    "        distance.append(i['results'][0]['distance']) ### Thankfully, four square returns results based on distance from the lat.,long. queried\n",
    "        near_station.append(i['results'][0]['location']['formatted_address']) ### station name can be used to associate local densities of bike stations around CTA station\n",
    "        num_stations_1mi.append(count1) ### according to statistics released by Divvy, most rides are quite short so we should expect the heaviest use by commuters to be at the stations within 1-2 miles of CTA stations \n",
    "        num_stations_2mi.append(count2)"
   ]
  },
  {
   "cell_type": "code",
   "execution_count": null,
   "id": "353be3df-cf7e-41c8-b48f-258266f44363",
   "metadata": {},
   "outputs": [],
   "source": [
    "fs_append(response)"
   ]
  },
  {
   "cell_type": "code",
   "execution_count": null,
   "id": "424483fb-bec8-4e79-a38d-80b5f18b1e5c",
   "metadata": {},
   "outputs": [],
   "source": [
    "len(distance) #since this returns the expected value, we can merge these locations with our data from divvy"
   ]
  },
  {
   "cell_type": "code",
   "execution_count": null,
   "id": "e9392ab9-1245-4f04-8168-abad1d0086d7",
   "metadata": {},
   "outputs": [],
   "source": []
  }
 ],
 "metadata": {
  "kernelspec": {
   "display_name": "Python 3 (ipykernel)",
   "language": "python",
   "name": "python3"
  },
  "language_info": {
   "codemirror_mode": {
    "name": "ipython",
    "version": 3
   },
   "file_extension": ".py",
   "mimetype": "text/x-python",
   "name": "python",
   "nbconvert_exporter": "python",
   "pygments_lexer": "ipython3",
   "version": "3.11.5"
  }
 },
 "nbformat": 4,
 "nbformat_minor": 5
}
