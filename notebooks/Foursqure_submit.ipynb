{
 "cells": [
  {
   "cell_type": "markdown",
   "id": "3bc97190-5057-40ac-a38f-df511d086c09",
   "metadata": {},
   "source": [
    "##### Connect to the Foursquare API\n",
    "##### Connect to the Yelp API. This API offers similar services as Foursquare.\n",
    "##### For each of the bike stations in Part 1, query both APIs to retrieve information for the following in that location:\n",
    "##### Restaurants or bars\n",
    "##### Various POIs (points of interest) of your choice\n",
    "##### Create a DataFrame for the Yelp results and Foursquare results.\n",
    "##### Compare the quality of the Yelp and Foursquare API. For your location, which API gives you the most complete information/better coverage? NOTE: Your definition of 'coverage' is up to you. It could be simple 'number of POIs in the area', but it could also be something more specific like 'number of reviews per POI', or 'number of different attributes of each POI'.\n",
    "## Complete the yelp_foursquare_EDA.ipynb notebook to demonstrate how you executed the tasks above."
   ]
  },
  {
   "cell_type": "code",
   "execution_count": 1,
   "id": "8cba21ff-f25e-4166-8037-251cedc41073",
   "metadata": {
    "tags": []
   },
   "outputs": [],
   "source": [
    "import pandas as pd\n",
    "import os # use this to access your environment variables\n",
    "import requests # this will be used to call the APIs\n",
    "import numpy as np\n",
    "import json #json parsing libraries"
   ]
  },
  {
   "cell_type": "code",
   "execution_count": 2,
   "id": "4008aacc-a3bc-418a-a42c-0a00636cdea7",
   "metadata": {
    "tags": []
   },
   "outputs": [],
   "source": [
    "YELP_API_KEY = os.getenv('YELP_API_KEY')\n",
    "FOURSQUARE_KEY = os.getenv('FOUR_SQUARE_API_KEY')"
   ]
  },
  {
   "cell_type": "code",
   "execution_count": 3,
   "id": "2b4184d2-d570-4825-a278-a3d6e9b9c357",
   "metadata": {
    "tags": []
   },
   "outputs": [],
   "source": [
    "def get_venues_yelp(latitude, longitude, radius, api_key, categories):\n",
    "    \"\"\"\n",
    "    Gets venues from yelp with a specified place type and coordinates.\n",
    "    Args:\n",
    "        latitude (float): latitude for query (must be combined with longitude)\n",
    "        longitude (float): longitude for query (must be combined with latitude)\n",
    "        api_key (str): Yelp API key to use for query\n",
    "        categories (str) : Place types as found in https://docs.developer.yelp.com/docs/resources-categories\n",
    "            If not passed no type will be specified. Separate ids with commas\n",
    "    \n",
    "    Returns:\n",
    "        response: response object from the requests library.\n",
    "    \"\"\"\n",
    "    url = \"https://api.yelp.com/v3/businesses/search?\"\n",
    "\n",
    "    headers = {\n",
    "        \"accept\": \"application/json\",\n",
    "        \"Authorization\": f\"Bearer {api_key}\"\n",
    "        }\n",
    "\n",
    "    params = {\n",
    "        \"latitude\": float(latitude),\n",
    "        \"longitude\": float(longitude),\n",
    "        'radius': radius,\n",
    "        'categories': categories\n",
    "    }\n",
    "\n",
    "    response = requests.request(\"GET\", url, headers=headers, params=params)\n",
    "    return response"
   ]
  },
  {
   "cell_type": "code",
   "execution_count": 4,
   "id": "051bfdd9-bfb4-4896-9506-8a20322d7659",
   "metadata": {
    "tags": []
   },
   "outputs": [],
   "source": [
    "def get_venues_fs(latitude, longitude, radius, api_key, categories):\n",
    "    \"\"\"\n",
    "    Gets venues from foursquare with a specified place type and coordinates.\n",
    "    Args:\n",
    "        latitude (float): latitude for query (must be combined with longitude)\n",
    "        longitude (float): longitude for query (must be combined with latitude)\n",
    "        api_key (str): foursquare API key to use for query\n",
    "        categories (str) : Foursquare-recognized place types listed in: https://location.foursquare.com/places/docs/categories\n",
    "            If not passed no place_type will be specified. Separate ids with commas\n",
    "    \n",
    "    Returns:\n",
    "        response: response object from the requests library.\n",
    "    \"\"\"\n",
    "    url = \"https://api.foursquare.com/v3/places/search\"\n",
    "    params = {\n",
    "        \"ll\": f\"{latitude},{longitude}\",\n",
    "        'radius': radius,\n",
    "        'categories': categories\n",
    "    }\n",
    "    headers = {\n",
    "        \"Accept\": \"application/json\",\n",
    "        \"Authorization\": api_key\n",
    "    }\n",
    "    response = requests.request(\"GET\", url, headers=headers, params=params)\n",
    "    return response"
   ]
  },
  {
   "cell_type": "code",
   "execution_count": 5,
   "id": "a8571c92-c7ba-4a7d-b062-cc5904256c8c",
   "metadata": {},
   "outputs": [],
   "source": [
    "#These queries will allow us to call the Four Square and Yelp APIs to get information about locations \n",
    "#within a certain radius of the lat. and long. \n",
    "# But another function will need to be written to pass the data provided by the City Bikes API"
   ]
  },
  {
   "cell_type": "code",
   "execution_count": 6,
   "id": "dcd9efb9-2fea-492a-ae47-1c6736cb41d2",
   "metadata": {},
   "outputs": [],
   "source": [
    "def station_query(row):\n",
    "    api_key = FOURSQUARE_KEY\n",
    "    response = get_venues_fs(float(row['latitude']), float(row['longitude']), 5000, api_key, 19046)\n",
    "    response = response.json()\n",
    "    return response\n",
    "    #19046 = CTA L station\n",
    "    #19043 = Bus Stop\n",
    "    #19054 = all public transit"
   ]
  },
  {
   "cell_type": "code",
   "execution_count": 14,
   "id": "bbc3ae8a-1f49-4529-9b1c-62ca0e122d22",
   "metadata": {},
   "outputs": [],
   "source": [
    "def station_query_yelp(row):\n",
    "    api_key = YELP_API_KEY\n",
    "    response = get_venues_yelp(float(row['latitude']), float(row['longitude']), 5000, api_key, 'bikeshop')\n",
    "    response = response.json()\n",
    "    return response\n",
    "#information about public transit is completely missing from Yelp, here I have elected to examine nearby bikeshops, \n",
    "#since my experience with bikeshare programs is related to returning somewhere after dropping off a bike to be repaired, \n",
    "#and wondering if such usage could be detected, since existing bike riders might be good customers to advertise to."
   ]
  },
  {
   "cell_type": "code",
   "execution_count": 8,
   "id": "31566c5f-efd9-4e08-b2b2-fc6cd1b9264f",
   "metadata": {},
   "outputs": [],
   "source": [
    "#the two functions above will apply the data from our previous query to the functions querying Four Square and Yelp"
   ]
  },
  {
   "cell_type": "code",
   "execution_count": 11,
   "id": "f209ed70-7dbd-47a7-b9c9-eea6ce8c413b",
   "metadata": {},
   "outputs": [
    {
     "data": {
      "text/html": [
       "<div>\n",
       "<style scoped>\n",
       "    .dataframe tbody tr th:only-of-type {\n",
       "        vertical-align: middle;\n",
       "    }\n",
       "\n",
       "    .dataframe tbody tr th {\n",
       "        vertical-align: top;\n",
       "    }\n",
       "\n",
       "    .dataframe thead th {\n",
       "        text-align: right;\n",
       "    }\n",
       "</style>\n",
       "<table border=\"1\" class=\"dataframe\">\n",
       "  <thead>\n",
       "    <tr style=\"text-align: right;\">\n",
       "      <th></th>\n",
       "      <th>comp_id</th>\n",
       "      <th>name</th>\n",
       "      <th>latitude</th>\n",
       "      <th>longitude</th>\n",
       "      <th>slots</th>\n",
       "      <th>free_bikes</th>\n",
       "      <th>renting</th>\n",
       "      <th>timestamp</th>\n",
       "    </tr>\n",
       "  </thead>\n",
       "  <tbody>\n",
       "    <tr>\n",
       "      <th>0</th>\n",
       "      <td>divvy</td>\n",
       "      <td>Lake Park Ave &amp; 56th St</td>\n",
       "      <td>41.793242</td>\n",
       "      <td>-87.587782</td>\n",
       "      <td>19</td>\n",
       "      <td>13</td>\n",
       "      <td>1</td>\n",
       "      <td>2023-11-20 15:01:15.831</td>\n",
       "    </tr>\n",
       "    <tr>\n",
       "      <th>1</th>\n",
       "      <td>divvy</td>\n",
       "      <td>Ada St &amp; Washington Blvd</td>\n",
       "      <td>41.882830</td>\n",
       "      <td>-87.661206</td>\n",
       "      <td>15</td>\n",
       "      <td>10</td>\n",
       "      <td>1</td>\n",
       "      <td>2023-11-20 15:01:13.757</td>\n",
       "    </tr>\n",
       "    <tr>\n",
       "      <th>2</th>\n",
       "      <td>divvy</td>\n",
       "      <td>Ashland Ave &amp; Grace St</td>\n",
       "      <td>41.950687</td>\n",
       "      <td>-87.668700</td>\n",
       "      <td>15</td>\n",
       "      <td>13</td>\n",
       "      <td>1</td>\n",
       "      <td>2023-11-20 15:01:16.001</td>\n",
       "    </tr>\n",
       "    <tr>\n",
       "      <th>3</th>\n",
       "      <td>divvy</td>\n",
       "      <td>Clark St &amp; Wrightwood Ave</td>\n",
       "      <td>41.929546</td>\n",
       "      <td>-87.643118</td>\n",
       "      <td>15</td>\n",
       "      <td>7</td>\n",
       "      <td>1</td>\n",
       "      <td>2023-11-20 15:01:13.758</td>\n",
       "    </tr>\n",
       "    <tr>\n",
       "      <th>4</th>\n",
       "      <td>divvy</td>\n",
       "      <td>Adler Planetarium</td>\n",
       "      <td>41.866095</td>\n",
       "      <td>-87.607267</td>\n",
       "      <td>39</td>\n",
       "      <td>12</td>\n",
       "      <td>1</td>\n",
       "      <td>2023-11-20 15:01:14.360</td>\n",
       "    </tr>\n",
       "    <tr>\n",
       "      <th>...</th>\n",
       "      <td>...</td>\n",
       "      <td>...</td>\n",
       "      <td>...</td>\n",
       "      <td>...</td>\n",
       "      <td>...</td>\n",
       "      <td>...</td>\n",
       "      <td>...</td>\n",
       "      <td>...</td>\n",
       "    </tr>\n",
       "    <tr>\n",
       "      <th>1658</th>\n",
       "      <td>divvy</td>\n",
       "      <td>Exchange Ave &amp; 79th St</td>\n",
       "      <td>41.752029</td>\n",
       "      <td>-87.552096</td>\n",
       "      <td>11</td>\n",
       "      <td>3</td>\n",
       "      <td>1</td>\n",
       "      <td>2023-11-20 15:01:13.716</td>\n",
       "    </tr>\n",
       "    <tr>\n",
       "      <th>1659</th>\n",
       "      <td>divvy</td>\n",
       "      <td>Rainbow - Beach</td>\n",
       "      <td>41.757871</td>\n",
       "      <td>-87.549386</td>\n",
       "      <td>15</td>\n",
       "      <td>0</td>\n",
       "      <td>1</td>\n",
       "      <td>2023-11-20 15:01:14.071</td>\n",
       "    </tr>\n",
       "    <tr>\n",
       "      <th>1660</th>\n",
       "      <td>divvy</td>\n",
       "      <td>Noble St &amp; Milwaukee Ave</td>\n",
       "      <td>41.900700</td>\n",
       "      <td>-87.662607</td>\n",
       "      <td>15</td>\n",
       "      <td>7</td>\n",
       "      <td>1</td>\n",
       "      <td>2023-11-20 15:01:15.367</td>\n",
       "    </tr>\n",
       "    <tr>\n",
       "      <th>1661</th>\n",
       "      <td>divvy</td>\n",
       "      <td>Columbus Ave &amp; 79th St</td>\n",
       "      <td>41.749119</td>\n",
       "      <td>-87.704263</td>\n",
       "      <td>7</td>\n",
       "      <td>3</td>\n",
       "      <td>1</td>\n",
       "      <td>2023-11-20 15:01:15.516</td>\n",
       "    </tr>\n",
       "    <tr>\n",
       "      <th>1662</th>\n",
       "      <td>divvy</td>\n",
       "      <td>Columbus Ave &amp; 83rd Pl</td>\n",
       "      <td>41.741346</td>\n",
       "      <td>-87.713696</td>\n",
       "      <td>15</td>\n",
       "      <td>7</td>\n",
       "      <td>1</td>\n",
       "      <td>2023-11-20 15:01:15.642</td>\n",
       "    </tr>\n",
       "  </tbody>\n",
       "</table>\n",
       "<p>1663 rows × 8 columns</p>\n",
       "</div>"
      ],
      "text/plain": [
       "     comp_id                       name   latitude  longitude  slots  \\\n",
       "0      divvy    Lake Park Ave & 56th St  41.793242 -87.587782     19   \n",
       "1      divvy   Ada St & Washington Blvd  41.882830 -87.661206     15   \n",
       "2      divvy     Ashland Ave & Grace St  41.950687 -87.668700     15   \n",
       "3      divvy  Clark St & Wrightwood Ave  41.929546 -87.643118     15   \n",
       "4      divvy          Adler Planetarium  41.866095 -87.607267     39   \n",
       "...      ...                        ...        ...        ...    ...   \n",
       "1658   divvy     Exchange Ave & 79th St  41.752029 -87.552096     11   \n",
       "1659   divvy            Rainbow - Beach  41.757871 -87.549386     15   \n",
       "1660   divvy   Noble St & Milwaukee Ave  41.900700 -87.662607     15   \n",
       "1661   divvy     Columbus Ave & 79th St  41.749119 -87.704263      7   \n",
       "1662   divvy     Columbus Ave & 83rd Pl  41.741346 -87.713696     15   \n",
       "\n",
       "      free_bikes  renting               timestamp  \n",
       "0             13        1 2023-11-20 15:01:15.831  \n",
       "1             10        1 2023-11-20 15:01:13.757  \n",
       "2             13        1 2023-11-20 15:01:16.001  \n",
       "3              7        1 2023-11-20 15:01:13.758  \n",
       "4             12        1 2023-11-20 15:01:14.360  \n",
       "...          ...      ...                     ...  \n",
       "1658           3        1 2023-11-20 15:01:13.716  \n",
       "1659           0        1 2023-11-20 15:01:14.071  \n",
       "1660           7        1 2023-11-20 15:01:15.367  \n",
       "1661           3        1 2023-11-20 15:01:15.516  \n",
       "1662           7        1 2023-11-20 15:01:15.642  \n",
       "\n",
       "[1663 rows x 8 columns]"
      ]
     },
     "execution_count": 11,
     "metadata": {},
     "output_type": "execute_result"
    }
   ],
   "source": [
    "data = pd.read_json(r'unprocessed/Chi_9am_mon(raw).json')\n",
    "data \n",
    "#an issue to be examined: the timestamp column appears to have lost information about the timezone, my attempts to reinsert that information failed, timestamps remain in GMT"
   ]
  },
  {
   "cell_type": "code",
   "execution_count": 13,
   "id": "a3809011-050d-43f5-a896-fb7e05d01188",
   "metadata": {
    "tags": []
   },
   "outputs": [
    {
     "data": {
      "text/html": [
       "<div>\n",
       "<style scoped>\n",
       "    .dataframe tbody tr th:only-of-type {\n",
       "        vertical-align: middle;\n",
       "    }\n",
       "\n",
       "    .dataframe tbody tr th {\n",
       "        vertical-align: top;\n",
       "    }\n",
       "\n",
       "    .dataframe thead th {\n",
       "        text-align: right;\n",
       "    }\n",
       "</style>\n",
       "<table border=\"1\" class=\"dataframe\">\n",
       "  <thead>\n",
       "    <tr style=\"text-align: right;\">\n",
       "      <th></th>\n",
       "      <th>latitude</th>\n",
       "      <th>longitude</th>\n",
       "      <th>slots</th>\n",
       "      <th>free_bikes</th>\n",
       "      <th>renting</th>\n",
       "      <th>timestamp</th>\n",
       "    </tr>\n",
       "  </thead>\n",
       "  <tbody>\n",
       "    <tr>\n",
       "      <th>count</th>\n",
       "      <td>1663.000000</td>\n",
       "      <td>1663.000000</td>\n",
       "      <td>1663.000000</td>\n",
       "      <td>1663.000000</td>\n",
       "      <td>1663.000000</td>\n",
       "      <td>1663</td>\n",
       "    </tr>\n",
       "    <tr>\n",
       "      <th>mean</th>\n",
       "      <td>41.850887</td>\n",
       "      <td>-87.678532</td>\n",
       "      <td>9.049910</td>\n",
       "      <td>3.600120</td>\n",
       "      <td>0.997595</td>\n",
       "      <td>2023-11-20 15:01:14.925148416</td>\n",
       "    </tr>\n",
       "    <tr>\n",
       "      <th>min</th>\n",
       "      <td>41.648501</td>\n",
       "      <td>-87.843960</td>\n",
       "      <td>1.000000</td>\n",
       "      <td>0.000000</td>\n",
       "      <td>0.000000</td>\n",
       "      <td>2023-11-20 15:01:13.130000</td>\n",
       "    </tr>\n",
       "    <tr>\n",
       "      <th>25%</th>\n",
       "      <td>41.766388</td>\n",
       "      <td>-87.720899</td>\n",
       "      <td>2.000000</td>\n",
       "      <td>0.000000</td>\n",
       "      <td>1.000000</td>\n",
       "      <td>2023-11-20 15:01:14.154500096</td>\n",
       "    </tr>\n",
       "    <tr>\n",
       "      <th>50%</th>\n",
       "      <td>41.867226</td>\n",
       "      <td>-87.677180</td>\n",
       "      <td>9.000000</td>\n",
       "      <td>1.000000</td>\n",
       "      <td>1.000000</td>\n",
       "      <td>2023-11-20 15:01:15.017999872</td>\n",
       "    </tr>\n",
       "    <tr>\n",
       "      <th>75%</th>\n",
       "      <td>41.931753</td>\n",
       "      <td>-87.634429</td>\n",
       "      <td>15.000000</td>\n",
       "      <td>6.000000</td>\n",
       "      <td>1.000000</td>\n",
       "      <td>2023-11-20 15:01:15.729499904</td>\n",
       "    </tr>\n",
       "    <tr>\n",
       "      <th>max</th>\n",
       "      <td>42.064854</td>\n",
       "      <td>-87.528232</td>\n",
       "      <td>55.000000</td>\n",
       "      <td>34.000000</td>\n",
       "      <td>1.000000</td>\n",
       "      <td>2023-11-20 15:01:16.501000</td>\n",
       "    </tr>\n",
       "    <tr>\n",
       "      <th>std</th>\n",
       "      <td>0.097214</td>\n",
       "      <td>0.063382</td>\n",
       "      <td>8.543893</td>\n",
       "      <td>4.783966</td>\n",
       "      <td>0.048999</td>\n",
       "      <td>NaN</td>\n",
       "    </tr>\n",
       "  </tbody>\n",
       "</table>\n",
       "</div>"
      ],
      "text/plain": [
       "          latitude    longitude        slots   free_bikes      renting  \\\n",
       "count  1663.000000  1663.000000  1663.000000  1663.000000  1663.000000   \n",
       "mean     41.850887   -87.678532     9.049910     3.600120     0.997595   \n",
       "min      41.648501   -87.843960     1.000000     0.000000     0.000000   \n",
       "25%      41.766388   -87.720899     2.000000     0.000000     1.000000   \n",
       "50%      41.867226   -87.677180     9.000000     1.000000     1.000000   \n",
       "75%      41.931753   -87.634429    15.000000     6.000000     1.000000   \n",
       "max      42.064854   -87.528232    55.000000    34.000000     1.000000   \n",
       "std       0.097214     0.063382     8.543893     4.783966     0.048999   \n",
       "\n",
       "                           timestamp  \n",
       "count                           1663  \n",
       "mean   2023-11-20 15:01:14.925148416  \n",
       "min       2023-11-20 15:01:13.130000  \n",
       "25%    2023-11-20 15:01:14.154500096  \n",
       "50%    2023-11-20 15:01:15.017999872  \n",
       "75%    2023-11-20 15:01:15.729499904  \n",
       "max       2023-11-20 15:01:16.501000  \n",
       "std                              NaN  "
      ]
     },
     "execution_count": 13,
     "metadata": {},
     "output_type": "execute_result"
    }
   ],
   "source": [
    "data.describe() \n",
    "#here we can start to see some issues we might have in the future, \n",
    "#since the number of stations with zero or one bikes appears very high.\n",
    "#to be watched"
   ]
  },
  {
   "cell_type": "code",
   "execution_count": null,
   "id": "e8a011f1-a13d-4476-9b8a-20a1efce0401",
   "metadata": {},
   "outputs": [],
   "source": [
    "response = data.apply(lambda row: station_query(row), axis=1) \n",
    "#I very nearly understand how these lambda functions are working, \n",
    "#they are applying the calls to query the API to each row and returning the result. This is good."
   ]
  },
  {
   "cell_type": "code",
   "execution_count": null,
   "id": "e7a803a6-9280-4e70-ba28-4217140c5691",
   "metadata": {},
   "outputs": [],
   "source": [
    "response2 = data.apply(lambda row: station_query_yelp(row), axis=1)\n",
    "#same for yelp"
   ]
  },
  {
   "cell_type": "code",
   "execution_count": null,
   "id": "14614184-4b8b-4a15-840d-56d47a7f52ee",
   "metadata": {},
   "outputs": [],
   "source": [
    "response2[1]['businesses'] #exploring the data received from Yelp, we see that we have made a poor choice.\n",
    "len(response2) #while the correct length is returned"
   ]
  },
  {
   "cell_type": "code",
   "execution_count": null,
   "id": "b12ad1c4-3ff8-4283-8aea-0bb7f5bb0c53",
   "metadata": {},
   "outputs": [],
   "source": [
    "#Since the data from Yelp is not helpful for investigating the relationship between CTA stations and bike stations\n",
    "#We will be continuing with only the Four Square data"
   ]
  },
  {
   "cell_type": "code",
   "execution_count": null,
   "id": "e7d54e6a-a9aa-46e4-a8b3-c1907c1d4fa8",
   "metadata": {},
   "outputs": [],
   "source": [
    "#Now the question is, what information do we need to investigate our question. \n",
    "# As addressed in the readme, I have elected to look at the relationship between public transit \n",
    "#and the bikeshare program in Chicago."
   ]
  },
  {
   "cell_type": "markdown",
   "id": "31574fb5-8595-4df4-bcc6-91c37bc9091d",
   "metadata": {
    "tags": []
   },
   "source": [
    "##### Information to get per bike station:\n",
    "#####  how close is the closest 'l' stop?\n",
    "##### how many stations are w/i 1.6km? (1 mi)\n",
    "##### how many w/i 3k? (2 mi)"
   ]
  },
  {
   "cell_type": "code",
   "execution_count": null,
   "id": "0d49f7c5-0739-4ae6-ae63-40929cdd5f1a",
   "metadata": {},
   "outputs": [],
   "source": [
    "print(response[0].keys())\n",
    "print(response[0]['results'][0].keys())\n",
    "print(response[0]['results'][0]['distance'])\n",
    "print(response[0]['results'][0]['location'])"
   ]
  },
  {
   "cell_type": "code",
   "execution_count": null,
   "id": "d5e0794b-2235-455e-86e5-3a0320dda2c4",
   "metadata": {},
   "outputs": [],
   "source": [
    "# from these little probings we can see that the fields we want are within the results. \n",
    "# each query will return a list of CTA stations and give their distance from the lat. and long. provided"
   ]
  },
  {
   "cell_type": "code",
   "execution_count": null,
   "id": "1cafbf8f-40b7-46bc-8eb0-c8707aece559",
   "metadata": {},
   "outputs": [],
   "source": [
    "distance = []\n",
    "near_station = []\n",
    "num_stations_1mi = []\n",
    "num_stations_2mi = []\n",
    "def fs_append(response):\n",
    "    for i in response:\n",
    "        count1 = 0\n",
    "        count2 = 0\n",
    "        for l in i['results']:### adds to the count of stations, which will give an idea of public transit density and bike-share infrastructure\n",
    "            if l['distance'] <1700:\n",
    "                count1+=1\n",
    "            elif l['distance'] < 3400:\n",
    "                count2+=1\n",
    "            else: \n",
    "                continue\n",
    "        if len(i['results']) < 1:### if no results are returned, due to too small of a radius, this block will return 9999 as an error code\n",
    "            distance.append(9999)\n",
    "            near_station.append(9999)\n",
    "            num_stations_1mi.append(9999)\n",
    "            num_stations_2mi.append(9999)\n",
    "            continue\n",
    "        distance.append(i['results'][0]['distance']) ### Thankfully, four square returns results based on distance from the lat.,long. queried\n",
    "        near_station.append(i['results'][0]['location']['formatted_address']) ### station name can be used to associate local densities of bike stations around CTA station\n",
    "        num_stations_1mi.append(count1) ### according to statistics released by Divvy, most rides are quite short so we should expect the heaviest use by commuters to be at the stations within 1-2 miles of CTA stations \n",
    "        num_stations_2mi.append(count2)"
   ]
  },
  {
   "cell_type": "code",
   "execution_count": null,
   "id": "353be3df-cf7e-41c8-b48f-258266f44363",
   "metadata": {},
   "outputs": [],
   "source": [
    "fs_append(response)"
   ]
  },
  {
   "cell_type": "code",
   "execution_count": null,
   "id": "424483fb-bec8-4e79-a38d-80b5f18b1e5c",
   "metadata": {},
   "outputs": [],
   "source": [
    "len(distance) #since this returns the expected value, we have received the number of responses we expect and can build a dataframe from the results to examine further"
   ]
  },
  {
   "cell_type": "code",
   "execution_count": null,
   "id": "7ade4324-b97b-4a3f-b9f9-2c44fa265c8d",
   "metadata": {
    "tags": []
   },
   "outputs": [],
   "source": [
    "df1 = pd.DataFrame()\n",
    "df1['distance'] = distance\n",
    "df1['near_station'] = near_station\n",
    "df1['num_stations_1mi'] = num_stations_1mi\n",
    "df1['num_stations_2mi'] = num_stations_2mi\n",
    "df1['all_stations'] = df1['num_stations_1mi'] + df1['num_stations_2mi'] #this column could be dropped, but I wanted to keep it in case the total was needed for some calculation later"
   ]
  },
  {
   "cell_type": "code",
   "execution_count": null,
   "id": "fa9d983d-a37e-442a-bc0a-b1f2d816ebbf",
   "metadata": {
    "tags": []
   },
   "outputs": [],
   "source": [
    "df1.loc[df1['distance']==9999] #check to see which entries have given us missing or incomplete data, which will appear as '9999'"
   ]
  },
  {
   "cell_type": "code",
   "execution_count": null,
   "id": "0d568cf9-5f8e-485a-886e-861cf8aead13",
   "metadata": {},
   "outputs": [],
   "source": [
    "#Any 9999 values should be dropped from the final table, but more importantly they will indicate that those stations are outside the area we are curious about, \n",
    "# the locations most likely to be used by commuters who have also accessed the CTA"
   ]
  },
  {
   "cell_type": "code",
   "execution_count": null,
   "id": "3f8b158f-52b4-4aae-9831-15515c5bb27a",
   "metadata": {
    "tags": []
   },
   "outputs": [],
   "source": [
    "df1.to_json(r'four_square_9am_mon.json') #these results will be saved as a .json to populate fields from our city bikes queries.\n",
    "#since we do not expect either CTA stations or Divvy bike stations to move, this data will apply to all future sets."
   ]
  },
  {
   "cell_type": "code",
   "execution_count": 21,
   "id": "1c6403e3-6496-474d-995c-4ab558408e60",
   "metadata": {
    "tags": []
   },
   "outputs": [],
   "source": [
    "df2 = pd.read_json('Chi_8am_mon_fs.json')"
   ]
  },
  {
   "cell_type": "code",
   "execution_count": 17,
   "id": "7ce7eec6-0a5b-497a-b1f1-5c7cff22ff51",
   "metadata": {
    "tags": []
   },
   "outputs": [],
   "source": [
    "df3 = pd.read_json('Chi_640am_mon_fs.json')"
   ]
  },
  {
   "cell_type": "code",
   "execution_count": 22,
   "id": "fb8e69af-1dd9-42a2-9c7a-61ed29967cf3",
   "metadata": {
    "tags": []
   },
   "outputs": [
    {
     "data": {
      "text/html": [
       "<div>\n",
       "<style scoped>\n",
       "    .dataframe tbody tr th:only-of-type {\n",
       "        vertical-align: middle;\n",
       "    }\n",
       "\n",
       "    .dataframe tbody tr th {\n",
       "        vertical-align: top;\n",
       "    }\n",
       "\n",
       "    .dataframe thead th {\n",
       "        text-align: right;\n",
       "    }\n",
       "</style>\n",
       "<table border=\"1\" class=\"dataframe\">\n",
       "  <thead>\n",
       "    <tr style=\"text-align: right;\">\n",
       "      <th></th>\n",
       "      <th>latitude</th>\n",
       "      <th>longitude</th>\n",
       "      <th>slots</th>\n",
       "      <th>free_bikes</th>\n",
       "      <th>renting</th>\n",
       "      <th>timestamp</th>\n",
       "      <th>distance</th>\n",
       "      <th>num_stations_1mi</th>\n",
       "      <th>num_stations_2mi</th>\n",
       "      <th>transit_cat</th>\n",
       "    </tr>\n",
       "  </thead>\n",
       "  <tbody>\n",
       "    <tr>\n",
       "      <th>count</th>\n",
       "      <td>1663.000000</td>\n",
       "      <td>1663.000000</td>\n",
       "      <td>1663.000000</td>\n",
       "      <td>1663.000000</td>\n",
       "      <td>1663.000000</td>\n",
       "      <td>1663</td>\n",
       "      <td>1663.000000</td>\n",
       "      <td>1663.000000</td>\n",
       "      <td>1663.000000</td>\n",
       "      <td>1663.000000</td>\n",
       "    </tr>\n",
       "    <tr>\n",
       "      <th>mean</th>\n",
       "      <td>41.850887</td>\n",
       "      <td>-87.678532</td>\n",
       "      <td>9.049910</td>\n",
       "      <td>3.594107</td>\n",
       "      <td>0.998196</td>\n",
       "      <td>2023-11-20 14:05:46.840000</td>\n",
       "      <td>1577.116657</td>\n",
       "      <td>4.146723</td>\n",
       "      <td>5.364402</td>\n",
       "      <td>0.994588</td>\n",
       "    </tr>\n",
       "    <tr>\n",
       "      <th>min</th>\n",
       "      <td>41.648501</td>\n",
       "      <td>-87.843960</td>\n",
       "      <td>1.000000</td>\n",
       "      <td>0.000000</td>\n",
       "      <td>0.000000</td>\n",
       "      <td>2023-11-20 14:05:46.840000</td>\n",
       "      <td>3.000000</td>\n",
       "      <td>0.000000</td>\n",
       "      <td>0.000000</td>\n",
       "      <td>0.000000</td>\n",
       "    </tr>\n",
       "    <tr>\n",
       "      <th>25%</th>\n",
       "      <td>41.766388</td>\n",
       "      <td>-87.720899</td>\n",
       "      <td>2.000000</td>\n",
       "      <td>0.000000</td>\n",
       "      <td>1.000000</td>\n",
       "      <td>2023-11-20 14:05:46.840000</td>\n",
       "      <td>709.000000</td>\n",
       "      <td>2.000000</td>\n",
       "      <td>3.000000</td>\n",
       "      <td>1.000000</td>\n",
       "    </tr>\n",
       "    <tr>\n",
       "      <th>50%</th>\n",
       "      <td>41.867226</td>\n",
       "      <td>-87.677180</td>\n",
       "      <td>9.000000</td>\n",
       "      <td>1.000000</td>\n",
       "      <td>1.000000</td>\n",
       "      <td>2023-11-20 14:05:46.840000</td>\n",
       "      <td>1365.000000</td>\n",
       "      <td>3.000000</td>\n",
       "      <td>6.000000</td>\n",
       "      <td>1.000000</td>\n",
       "    </tr>\n",
       "    <tr>\n",
       "      <th>75%</th>\n",
       "      <td>41.931753</td>\n",
       "      <td>-87.634429</td>\n",
       "      <td>15.000000</td>\n",
       "      <td>6.000000</td>\n",
       "      <td>1.000000</td>\n",
       "      <td>2023-11-20 14:05:46.840000</td>\n",
       "      <td>2433.500000</td>\n",
       "      <td>6.000000</td>\n",
       "      <td>8.000000</td>\n",
       "      <td>1.000000</td>\n",
       "    </tr>\n",
       "    <tr>\n",
       "      <th>max</th>\n",
       "      <td>42.064854</td>\n",
       "      <td>-87.528232</td>\n",
       "      <td>55.000000</td>\n",
       "      <td>31.000000</td>\n",
       "      <td>1.000000</td>\n",
       "      <td>2023-11-20 14:05:46.840000</td>\n",
       "      <td>3515.000000</td>\n",
       "      <td>10.000000</td>\n",
       "      <td>10.000000</td>\n",
       "      <td>1.000000</td>\n",
       "    </tr>\n",
       "    <tr>\n",
       "      <th>std</th>\n",
       "      <td>0.097214</td>\n",
       "      <td>0.063382</td>\n",
       "      <td>8.543893</td>\n",
       "      <td>4.685733</td>\n",
       "      <td>0.042448</td>\n",
       "      <td>NaN</td>\n",
       "      <td>1034.226487</td>\n",
       "      <td>3.111660</td>\n",
       "      <td>2.915700</td>\n",
       "      <td>0.073388</td>\n",
       "    </tr>\n",
       "  </tbody>\n",
       "</table>\n",
       "</div>"
      ],
      "text/plain": [
       "          latitude    longitude        slots   free_bikes      renting  \\\n",
       "count  1663.000000  1663.000000  1663.000000  1663.000000  1663.000000   \n",
       "mean     41.850887   -87.678532     9.049910     3.594107     0.998196   \n",
       "min      41.648501   -87.843960     1.000000     0.000000     0.000000   \n",
       "25%      41.766388   -87.720899     2.000000     0.000000     1.000000   \n",
       "50%      41.867226   -87.677180     9.000000     1.000000     1.000000   \n",
       "75%      41.931753   -87.634429    15.000000     6.000000     1.000000   \n",
       "max      42.064854   -87.528232    55.000000    31.000000     1.000000   \n",
       "std       0.097214     0.063382     8.543893     4.685733     0.042448   \n",
       "\n",
       "                        timestamp     distance  num_stations_1mi  \\\n",
       "count                        1663  1663.000000       1663.000000   \n",
       "mean   2023-11-20 14:05:46.840000  1577.116657          4.146723   \n",
       "min    2023-11-20 14:05:46.840000     3.000000          0.000000   \n",
       "25%    2023-11-20 14:05:46.840000   709.000000          2.000000   \n",
       "50%    2023-11-20 14:05:46.840000  1365.000000          3.000000   \n",
       "75%    2023-11-20 14:05:46.840000  2433.500000          6.000000   \n",
       "max    2023-11-20 14:05:46.840000  3515.000000         10.000000   \n",
       "std                           NaN  1034.226487          3.111660   \n",
       "\n",
       "       num_stations_2mi  transit_cat  \n",
       "count       1663.000000  1663.000000  \n",
       "mean           5.364402     0.994588  \n",
       "min            0.000000     0.000000  \n",
       "25%            3.000000     1.000000  \n",
       "50%            6.000000     1.000000  \n",
       "75%            8.000000     1.000000  \n",
       "max           10.000000     1.000000  \n",
       "std            2.915700     0.073388  "
      ]
     },
     "execution_count": 22,
     "metadata": {},
     "output_type": "execute_result"
    }
   ],
   "source": [
    "df2.describe()"
   ]
  },
  {
   "cell_type": "code",
   "execution_count": 28,
   "id": "3e3fbf49-9d4e-4691-9362-0ff72df2f659",
   "metadata": {
    "tags": []
   },
   "outputs": [],
   "source": [
    "df = pd.DataFrame()\n",
    "df['distance'] = df2['distance']\n",
    "df['near_station'] = df2['near_station']\n",
    "df['num_stations_1mi'] = df2['num_stations_1mi']\n",
    "df['num_stations_2mi'] = df2['num_stations_2mi']\n",
    "df['all_stations'] = df['num_stations_1mi'] + df['num_stations_2mi']"
   ]
  },
  {
   "cell_type": "code",
   "execution_count": 29,
   "id": "341efb5d-a7fa-4de4-a7f9-41014c1a794c",
   "metadata": {
    "tags": []
   },
   "outputs": [],
   "source": [
    "df.to_json(r'four_square_9am_mon.json')"
   ]
  },
  {
   "cell_type": "code",
   "execution_count": 26,
   "id": "38b58ffe-aa8d-4aca-8618-8f0e78a16053",
   "metadata": {
    "tags": []
   },
   "outputs": [
    {
     "data": {
      "text/html": [
       "<div>\n",
       "<style scoped>\n",
       "    .dataframe tbody tr th:only-of-type {\n",
       "        vertical-align: middle;\n",
       "    }\n",
       "\n",
       "    .dataframe tbody tr th {\n",
       "        vertical-align: top;\n",
       "    }\n",
       "\n",
       "    .dataframe thead th {\n",
       "        text-align: right;\n",
       "    }\n",
       "</style>\n",
       "<table border=\"1\" class=\"dataframe\">\n",
       "  <thead>\n",
       "    <tr style=\"text-align: right;\">\n",
       "      <th></th>\n",
       "      <th>distance</th>\n",
       "      <th>num_stations_1mi</th>\n",
       "      <th>num_stations_2mi</th>\n",
       "      <th>all_stations</th>\n",
       "    </tr>\n",
       "  </thead>\n",
       "  <tbody>\n",
       "    <tr>\n",
       "      <th>0</th>\n",
       "      <td>653</td>\n",
       "      <td>8</td>\n",
       "      <td>2</td>\n",
       "      <td>10</td>\n",
       "    </tr>\n",
       "    <tr>\n",
       "      <th>1</th>\n",
       "      <td>384</td>\n",
       "      <td>9</td>\n",
       "      <td>1</td>\n",
       "      <td>10</td>\n",
       "    </tr>\n",
       "    <tr>\n",
       "      <th>2</th>\n",
       "      <td>432</td>\n",
       "      <td>10</td>\n",
       "      <td>0</td>\n",
       "      <td>10</td>\n",
       "    </tr>\n",
       "    <tr>\n",
       "      <th>3</th>\n",
       "      <td>500</td>\n",
       "      <td>10</td>\n",
       "      <td>0</td>\n",
       "      <td>10</td>\n",
       "    </tr>\n",
       "    <tr>\n",
       "      <th>4</th>\n",
       "      <td>1421</td>\n",
       "      <td>5</td>\n",
       "      <td>5</td>\n",
       "      <td>10</td>\n",
       "    </tr>\n",
       "    <tr>\n",
       "      <th>...</th>\n",
       "      <td>...</td>\n",
       "      <td>...</td>\n",
       "      <td>...</td>\n",
       "      <td>...</td>\n",
       "    </tr>\n",
       "    <tr>\n",
       "      <th>1658</th>\n",
       "      <td>3007</td>\n",
       "      <td>1</td>\n",
       "      <td>6</td>\n",
       "      <td>7</td>\n",
       "    </tr>\n",
       "    <tr>\n",
       "      <th>1659</th>\n",
       "      <td>3133</td>\n",
       "      <td>2</td>\n",
       "      <td>6</td>\n",
       "      <td>8</td>\n",
       "    </tr>\n",
       "    <tr>\n",
       "      <th>1660</th>\n",
       "      <td>1193</td>\n",
       "      <td>7</td>\n",
       "      <td>3</td>\n",
       "      <td>10</td>\n",
       "    </tr>\n",
       "    <tr>\n",
       "      <th>1661</th>\n",
       "      <td>1838</td>\n",
       "      <td>4</td>\n",
       "      <td>6</td>\n",
       "      <td>10</td>\n",
       "    </tr>\n",
       "    <tr>\n",
       "      <th>1662</th>\n",
       "      <td>674</td>\n",
       "      <td>3</td>\n",
       "      <td>6</td>\n",
       "      <td>9</td>\n",
       "    </tr>\n",
       "  </tbody>\n",
       "</table>\n",
       "<p>1663 rows × 4 columns</p>\n",
       "</div>"
      ],
      "text/plain": [
       "      distance  num_stations_1mi  num_stations_2mi  all_stations\n",
       "0          653                 8                 2            10\n",
       "1          384                 9                 1            10\n",
       "2          432                10                 0            10\n",
       "3          500                10                 0            10\n",
       "4         1421                 5                 5            10\n",
       "...        ...               ...               ...           ...\n",
       "1658      3007                 1                 6             7\n",
       "1659      3133                 2                 6             8\n",
       "1660      1193                 7                 3            10\n",
       "1661      1838                 4                 6            10\n",
       "1662       674                 3                 6             9\n",
       "\n",
       "[1663 rows x 4 columns]"
      ]
     },
     "execution_count": 26,
     "metadata": {},
     "output_type": "execute_result"
    }
   ],
   "source": [
    "df"
   ]
  },
  {
   "cell_type": "code",
   "execution_count": null,
   "id": "e8c68c3a-4b5c-4e9f-9659-501bdae5f25a",
   "metadata": {
    "tags": []
   },
   "outputs": [],
   "source": [
    "import datetime as dt\n",
    "import pytz"
   ]
  },
  {
   "cell_type": "code",
   "execution_count": null,
   "id": "dd88826e-3c45-42af-bb05-da397c941e05",
   "metadata": {
    "tags": []
   },
   "outputs": [],
   "source": [
    "df1['timestamp'] = df1['timestamp'].dt.tz_convert('US/Central')"
   ]
  },
  {
   "cell_type": "code",
   "execution_count": null,
   "id": "ee4811bb-42df-455e-b8f7-e07a44226e07",
   "metadata": {
    "tags": []
   },
   "outputs": [],
   "source": [
    "df3['timestamp'] = df3['timestamp'].dt.tz_localize(pytz.timezone('US/Central')).dt.tz_convert(pytz.timezone('UTC'))\n",
    "#FOR unknown reasons, at one point the above formula converted my data to central time, but in samples from the next day \n",
    "#the following days, the below example did.\n",
    "#as far as I know I did not change anything"
   ]
  },
  {
   "cell_type": "code",
   "execution_count": null,
   "id": "e76e5560-55e6-48bf-935d-a7c222b2ec58",
   "metadata": {
    "tags": []
   },
   "outputs": [],
   "source": [
    "df1 = pd.read_json('Chi_8am_mon.json')"
   ]
  },
  {
   "cell_type": "code",
   "execution_count": null,
   "id": "135f9060-fd1c-4b76-8f58-fe3661afa0af",
   "metadata": {
    "tags": []
   },
   "outputs": [],
   "source": [
    "df1.head()"
   ]
  },
  {
   "cell_type": "code",
   "execution_count": null,
   "id": "00f800a3-a8dd-4398-951b-95a73ca87a94",
   "metadata": {
    "tags": []
   },
   "outputs": [],
   "source": [
    "len(df1.loc[(df1['distance']==9999)])"
   ]
  },
  {
   "cell_type": "code",
   "execution_count": null,
   "id": "9bd84f9c-d083-408a-b53e-11c1fc6783eb",
   "metadata": {
    "tags": []
   },
   "outputs": [],
   "source": [
    "df2 = pd.read_json('Chi_f30_Fri_fs.json')\n",
    "df1 = pd.read_json('Chi_9am_mon_fs.json')"
   ]
  },
  {
   "cell_type": "code",
   "execution_count": null,
   "id": "85aaf085-54bf-4181-9230-f6b0c147bafb",
   "metadata": {
    "tags": []
   },
   "outputs": [],
   "source": [
    "df2.loc[(df2['distance']==9999)]"
   ]
  },
  {
   "cell_type": "code",
   "execution_count": null,
   "id": "7f7fe495-cbe1-4e66-aac4-90c2dbf6ab24",
   "metadata": {
    "tags": []
   },
   "outputs": [],
   "source": [
    "df1['distance'] = df2['distance']\n",
    "df1['near_station'] = df2['near_station']\n",
    "df1['num_stations_1mi'] = df2['num_stations_1mi']\n",
    "df1['num_stations_2mi'] = df2['num_stations_2mi']\n",
    "df1['all_stations'] = df2['all_stations']"
   ]
  },
  {
   "cell_type": "code",
   "execution_count": null,
   "id": "0953bafa-75fa-4df9-b5e0-af8d7851fbf4",
   "metadata": {
    "tags": []
   },
   "outputs": [],
   "source": [
    "df2['transit_cat'] = 0 ### this will track stations which are beside (or nearly so) CTA stations\n",
    "df2.loc[(df2['distance']<=50, 'transit_cat')] = 0 #w/in 50m (150ft) of an L station\n",
    "df2.loc[(df2['distance']>50, 'transit_cat')] = 1 #outside 150ft of an L station"
   ]
  },
  {
   "cell_type": "code",
   "execution_count": null,
   "id": "efea22b1-9797-4558-a91a-5506edcae384",
   "metadata": {
    "tags": []
   },
   "outputs": [],
   "source": [
    "df1['transit_cat'] = 0 ### this will track stations which are beside (or nearly so) CTA stations\n",
    "df1.loc[(df1['distance']<=50, 'transit_cat')] = 0 #w/in 50m (150ft) of an L station\n",
    "df1.loc[(df1['distance']>50, 'transit_cat')] = 1 #outside 150ft of an L station"
   ]
  },
  {
   "cell_type": "code",
   "execution_count": null,
   "id": "d50f83a5-4bf4-407a-9d96-6d11f7903bea",
   "metadata": {
    "tags": []
   },
   "outputs": [],
   "source": [
    "df2"
   ]
  },
  {
   "cell_type": "code",
   "execution_count": null,
   "id": "083220f4-17d5-41a2-b22a-7e4e6f69bdae",
   "metadata": {
    "tags": []
   },
   "outputs": [],
   "source": [
    "dl = pd.read_json('Chi_9am_mon_fs.json')"
   ]
  },
  {
   "cell_type": "code",
   "execution_count": null,
   "id": "751134f3-fb75-484a-851f-136bbbe6833b",
   "metadata": {
    "tags": []
   },
   "outputs": [],
   "source": [
    "len(dl.loc[dl['transit_cat']==0])"
   ]
  },
  {
   "cell_type": "code",
   "execution_count": null,
   "id": "fdd59e6f-1756-49d9-8d66-9a3a8175c6df",
   "metadata": {
    "tags": []
   },
   "outputs": [],
   "source": [
    "len(df1.loc[df1['transit_cat']==0])"
   ]
  },
  {
   "cell_type": "code",
   "execution_count": null,
   "id": "ea53e895-04e7-4a32-8362-d7749b3a7c5c",
   "metadata": {},
   "outputs": [],
   "source": [
    "data.describe()"
   ]
  },
  {
   "cell_type": "code",
   "execution_count": null,
   "id": "83f125f8-3ece-4b89-b81b-63f6df8d7630",
   "metadata": {
    "tags": []
   },
   "outputs": [],
   "source": [
    "data = pd.read_json(r'chi_five30_thurs.json')"
   ]
  }
 ],
 "metadata": {
  "kernelspec": {
   "display_name": "Python 3 (ipykernel)",
   "language": "python",
   "name": "python3"
  },
  "language_info": {
   "codemirror_mode": {
    "name": "ipython",
    "version": 3
   },
   "file_extension": ".py",
   "mimetype": "text/x-python",
   "name": "python",
   "nbconvert_exporter": "python",
   "pygments_lexer": "ipython3",
   "version": "3.11.5"
  }
 },
 "nbformat": 4,
 "nbformat_minor": 5
}
