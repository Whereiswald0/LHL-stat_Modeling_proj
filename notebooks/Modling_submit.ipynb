{
 "cells": [
  {
   "cell_type": "code",
   "execution_count": 1,
   "id": "d5e9a621-507e-4568-9c7b-e56376ffc90c",
   "metadata": {
    "tags": []
   },
   "outputs": [],
   "source": [
    "import pandas as pd\n",
    "import os # use this to access your environment variables\n",
    "import requests # this will be |used to call the APIs\n",
    "import numpy as np\n",
    "import statsmodels.api as sm\n",
    "import statsmodels.formula.api as smf\n",
    "import scipy\n",
    "from scipy import stats\n",
    "import json #json parsing libraries"
   ]
  },
  {
   "cell_type": "markdown",
   "id": "481a82a9-1738-47e4-b3a6-9210d47f46e3",
   "metadata": {},
   "source": [
    "##### 1.Build a regression model using Python’s statsmodels module that demonstrates a relationship between the number of bikes in a particular location and the characteristics of the POIs in that location.\n",
    "##### 2.Interpret results. Expand on the model output, and derive insights from your model.\n",
    "##### 3.Stretch: can you think of a way to turn the above regression problem into a classification one? Without coding, can you sketch out how you would cast the problem specifically, and lay out your approaches?"
   ]
  },
  {
   "cell_type": "code",
   "execution_count": 2,
   "id": "6ff2c8f9-89f0-498e-98e7-90effe233ccd",
   "metadata": {
    "tags": []
   },
   "outputs": [],
   "source": [
    "df = pd.read_json(r'Chi_9am_mon_fulldata.json')"
   ]
  },
  {
   "cell_type": "code",
   "execution_count": 38,
   "id": "942a81b4-6726-406c-9647-a8ec13e63ac8",
   "metadata": {
    "tags": []
   },
   "outputs": [],
   "source": [
    "#now let's create a dataframe just holding the information we care about\n",
    "df2 = df[['slots','avail_bikes_9am','change_8_to_830','change_830_to_9','change_8_to_9','distance','num_stations_1mi','num_stations_2mi','all_stations','transit_cat']]"
   ]
  },
  {
   "cell_type": "code",
   "execution_count": 39,
   "id": "decd7fbf-0b17-41fe-92c5-0d54950b31c0",
   "metadata": {
    "tags": []
   },
   "outputs": [
    {
     "data": {
      "text/html": [
       "<div>\n",
       "<style scoped>\n",
       "    .dataframe tbody tr th:only-of-type {\n",
       "        vertical-align: middle;\n",
       "    }\n",
       "\n",
       "    .dataframe tbody tr th {\n",
       "        vertical-align: top;\n",
       "    }\n",
       "\n",
       "    .dataframe thead th {\n",
       "        text-align: right;\n",
       "    }\n",
       "</style>\n",
       "<table border=\"1\" class=\"dataframe\">\n",
       "  <thead>\n",
       "    <tr style=\"text-align: right;\">\n",
       "      <th></th>\n",
       "      <th>slots</th>\n",
       "      <th>avail_bikes_9am</th>\n",
       "      <th>change_8_to_830</th>\n",
       "      <th>change_830_to_9</th>\n",
       "      <th>change_8_to_9</th>\n",
       "      <th>distance</th>\n",
       "      <th>num_stations_1mi</th>\n",
       "      <th>num_stations_2mi</th>\n",
       "      <th>all_stations</th>\n",
       "      <th>transit_cat</th>\n",
       "    </tr>\n",
       "  </thead>\n",
       "  <tbody>\n",
       "    <tr>\n",
       "      <th>0</th>\n",
       "      <td>19</td>\n",
       "      <td>13</td>\n",
       "      <td>-1</td>\n",
       "      <td>-1</td>\n",
       "      <td>-2</td>\n",
       "      <td>653</td>\n",
       "      <td>8</td>\n",
       "      <td>2</td>\n",
       "      <td>10</td>\n",
       "      <td>3</td>\n",
       "    </tr>\n",
       "  </tbody>\n",
       "</table>\n",
       "</div>"
      ],
      "text/plain": [
       "   slots  avail_bikes_9am  change_8_to_830  change_830_to_9  change_8_to_9  \\\n",
       "0     19               13               -1               -1             -2   \n",
       "\n",
       "   distance  num_stations_1mi  num_stations_2mi  all_stations  transit_cat  \n",
       "0       653                 8                 2            10            3  "
      ]
     },
     "execution_count": 39,
     "metadata": {},
     "output_type": "execute_result"
    }
   ],
   "source": [
    "df2.head(1)"
   ]
  },
  {
   "cell_type": "code",
   "execution_count": 54,
   "id": "d41183e2-cb92-4a86-92ed-47540feca720",
   "metadata": {
    "tags": []
   },
   "outputs": [
    {
     "name": "stdout",
     "output_type": "stream",
     "text": [
      "Index(['slots', 'avail_bikes_9am', 'change_8_to_830', 'change_830_to_9',\n",
      "       'distance', 'num_stations_1mi', 'num_stations_2mi', 'all_stations',\n",
      "       'transit_cat'],\n",
      "      dtype='object')\n"
     ]
    },
    {
     "data": {
      "text/html": [
       "<div>\n",
       "<style scoped>\n",
       "    .dataframe tbody tr th:only-of-type {\n",
       "        vertical-align: middle;\n",
       "    }\n",
       "\n",
       "    .dataframe tbody tr th {\n",
       "        vertical-align: top;\n",
       "    }\n",
       "\n",
       "    .dataframe thead th {\n",
       "        text-align: right;\n",
       "    }\n",
       "</style>\n",
       "<table border=\"1\" class=\"dataframe\">\n",
       "  <thead>\n",
       "    <tr style=\"text-align: right;\">\n",
       "      <th></th>\n",
       "      <th>const</th>\n",
       "      <th>avail_bikes_9am</th>\n",
       "    </tr>\n",
       "  </thead>\n",
       "  <tbody>\n",
       "    <tr>\n",
       "      <th>0</th>\n",
       "      <td>1.0</td>\n",
       "      <td>13</td>\n",
       "    </tr>\n",
       "    <tr>\n",
       "      <th>1</th>\n",
       "      <td>1.0</td>\n",
       "      <td>10</td>\n",
       "    </tr>\n",
       "    <tr>\n",
       "      <th>2</th>\n",
       "      <td>1.0</td>\n",
       "      <td>13</td>\n",
       "    </tr>\n",
       "    <tr>\n",
       "      <th>3</th>\n",
       "      <td>1.0</td>\n",
       "      <td>7</td>\n",
       "    </tr>\n",
       "    <tr>\n",
       "      <th>4</th>\n",
       "      <td>1.0</td>\n",
       "      <td>12</td>\n",
       "    </tr>\n",
       "    <tr>\n",
       "      <th>...</th>\n",
       "      <td>...</td>\n",
       "      <td>...</td>\n",
       "    </tr>\n",
       "    <tr>\n",
       "      <th>1658</th>\n",
       "      <td>1.0</td>\n",
       "      <td>3</td>\n",
       "    </tr>\n",
       "    <tr>\n",
       "      <th>1659</th>\n",
       "      <td>1.0</td>\n",
       "      <td>0</td>\n",
       "    </tr>\n",
       "    <tr>\n",
       "      <th>1660</th>\n",
       "      <td>1.0</td>\n",
       "      <td>7</td>\n",
       "    </tr>\n",
       "    <tr>\n",
       "      <th>1661</th>\n",
       "      <td>1.0</td>\n",
       "      <td>3</td>\n",
       "    </tr>\n",
       "    <tr>\n",
       "      <th>1662</th>\n",
       "      <td>1.0</td>\n",
       "      <td>7</td>\n",
       "    </tr>\n",
       "  </tbody>\n",
       "</table>\n",
       "<p>1663 rows × 2 columns</p>\n",
       "</div>"
      ],
      "text/plain": [
       "      const  avail_bikes_9am\n",
       "0       1.0               13\n",
       "1       1.0               10\n",
       "2       1.0               13\n",
       "3       1.0                7\n",
       "4       1.0               12\n",
       "...     ...              ...\n",
       "1658    1.0                3\n",
       "1659    1.0                0\n",
       "1660    1.0                7\n",
       "1661    1.0                3\n",
       "1662    1.0                7\n",
       "\n",
       "[1663 rows x 2 columns]"
      ]
     },
     "execution_count": 54,
     "metadata": {},
     "output_type": "execute_result"
    }
   ],
   "source": [
    "y = df2['change_8_to_9']\n",
    "df_new = df2.drop(columns=['change_8_to_9'])\n",
    "\n",
    "print(df_new.columns)\n",
    "\n",
    "X = [sm.add_constant(df_new[column]) for column in df_new.columns]\n",
    "X[1]"
   ]
  },
  {
   "cell_type": "code",
   "execution_count": 55,
   "id": "c5c9f037-d342-4d0f-8612-a6fec7319602",
   "metadata": {
    "tags": []
   },
   "outputs": [
    {
     "data": {
      "text/html": [
       "<div>\n",
       "<style scoped>\n",
       "    .dataframe tbody tr th:only-of-type {\n",
       "        vertical-align: middle;\n",
       "    }\n",
       "\n",
       "    .dataframe tbody tr th {\n",
       "        vertical-align: top;\n",
       "    }\n",
       "\n",
       "    .dataframe thead th {\n",
       "        text-align: right;\n",
       "    }\n",
       "</style>\n",
       "<table border=\"1\" class=\"dataframe\">\n",
       "  <thead>\n",
       "    <tr style=\"text-align: right;\">\n",
       "      <th></th>\n",
       "      <th>const</th>\n",
       "      <th>change_8_to_830</th>\n",
       "    </tr>\n",
       "  </thead>\n",
       "  <tbody>\n",
       "    <tr>\n",
       "      <th>0</th>\n",
       "      <td>1.0</td>\n",
       "      <td>-1</td>\n",
       "    </tr>\n",
       "    <tr>\n",
       "      <th>1</th>\n",
       "      <td>1.0</td>\n",
       "      <td>-1</td>\n",
       "    </tr>\n",
       "    <tr>\n",
       "      <th>2</th>\n",
       "      <td>1.0</td>\n",
       "      <td>0</td>\n",
       "    </tr>\n",
       "    <tr>\n",
       "      <th>3</th>\n",
       "      <td>1.0</td>\n",
       "      <td>-2</td>\n",
       "    </tr>\n",
       "    <tr>\n",
       "      <th>4</th>\n",
       "      <td>1.0</td>\n",
       "      <td>0</td>\n",
       "    </tr>\n",
       "    <tr>\n",
       "      <th>...</th>\n",
       "      <td>...</td>\n",
       "      <td>...</td>\n",
       "    </tr>\n",
       "    <tr>\n",
       "      <th>1658</th>\n",
       "      <td>1.0</td>\n",
       "      <td>0</td>\n",
       "    </tr>\n",
       "    <tr>\n",
       "      <th>1659</th>\n",
       "      <td>1.0</td>\n",
       "      <td>0</td>\n",
       "    </tr>\n",
       "    <tr>\n",
       "      <th>1660</th>\n",
       "      <td>1.0</td>\n",
       "      <td>0</td>\n",
       "    </tr>\n",
       "    <tr>\n",
       "      <th>1661</th>\n",
       "      <td>1.0</td>\n",
       "      <td>0</td>\n",
       "    </tr>\n",
       "    <tr>\n",
       "      <th>1662</th>\n",
       "      <td>1.0</td>\n",
       "      <td>0</td>\n",
       "    </tr>\n",
       "  </tbody>\n",
       "</table>\n",
       "<p>1663 rows × 2 columns</p>\n",
       "</div>"
      ],
      "text/plain": [
       "      const  change_8_to_830\n",
       "0       1.0               -1\n",
       "1       1.0               -1\n",
       "2       1.0                0\n",
       "3       1.0               -2\n",
       "4       1.0                0\n",
       "...     ...              ...\n",
       "1658    1.0                0\n",
       "1659    1.0                0\n",
       "1660    1.0                0\n",
       "1661    1.0                0\n",
       "1662    1.0                0\n",
       "\n",
       "[1663 rows x 2 columns]"
      ]
     },
     "execution_count": 55,
     "metadata": {},
     "output_type": "execute_result"
    }
   ],
   "source": [
    "X[2]"
   ]
  },
  {
   "cell_type": "code",
   "execution_count": 56,
   "id": "e33d2e2e-315d-42c7-b4fc-6563407e3850",
   "metadata": {},
   "outputs": [],
   "source": [
    "Models = [sm.OLS(y,x) for x in X] #list of models\n",
    "Results = [model.fit() for model in Models] #list of results\n",
    "Adj_Rsquared = [results.rsquared_adj for results in Results] #list of rsquared\n",
    "Pval = [results.pvalues for results in Results] #list of p-values"
   ]
  },
  {
   "cell_type": "code",
   "execution_count": 57,
   "id": "4db8da53-3ac0-4b3f-84c1-e9bb34b106d9",
   "metadata": {
    "tags": []
   },
   "outputs": [
    {
     "name": "stdout",
     "output_type": "stream",
     "text": [
      "adj_R2: 0.013, P-values: (0.0007898493290166014, 1.4956518539117485e-06), column: slots\n",
      "adj_R2: 0.041, P-values: (8.747339303813141e-07, 4.0847238829841874e-17), column: avail_bikes_9am\n",
      "adj_R2: 0.502, P-values: (0.8073707956824908, 2.8031446609050668e-254), column: change_8_to_830\n",
      "adj_R2: 0.658, P-values: (0.5618556775234632, 0.0), column: change_830_to_9\n",
      "adj_R2: -0.000, P-values: (0.39806577867145676, 0.38506986375387753), column: change_8_to_9\n",
      "adj_R2: 0.004, P-values: (0.03801048248930684, 0.005871351692641564), column: distance\n",
      "adj_R2: 0.005, P-values: (0.007611843001945874, 0.00351191034499684), column: num_stations_1mi\n",
      "adj_R2: -0.001, P-values: (0.9685077762487294, 0.9501893086905262), column: num_stations_2mi\n",
      "adj_R2: 0.006, P-values: (0.0009687781829920468, 0.0009086458466180611), column: all_stations\n"
     ]
    }
   ],
   "source": [
    "for i in range(len(Adj_Rsquared)):\n",
    "     print(f'adj_R2: {Adj_Rsquared[i]:.3f}, P-values: {*Pval[i],}, column: {df2.columns[i]}')"
   ]
  },
  {
   "cell_type": "code",
   "execution_count": 58,
   "id": "4c34cd56-bd58-4e2c-b140-5ca56757f938",
   "metadata": {
    "tags": []
   },
   "outputs": [
    {
     "data": {
      "text/html": [
       "<div>\n",
       "<style scoped>\n",
       "    .dataframe tbody tr th:only-of-type {\n",
       "        vertical-align: middle;\n",
       "    }\n",
       "\n",
       "    .dataframe tbody tr th {\n",
       "        vertical-align: top;\n",
       "    }\n",
       "\n",
       "    .dataframe thead th {\n",
       "        text-align: right;\n",
       "    }\n",
       "</style>\n",
       "<table border=\"1\" class=\"dataframe\">\n",
       "  <thead>\n",
       "    <tr style=\"text-align: right;\">\n",
       "      <th></th>\n",
       "      <th>slots</th>\n",
       "      <th>avail_bikes_9am</th>\n",
       "      <th>distance</th>\n",
       "      <th>num_stations_1mi</th>\n",
       "      <th>num_stations_2mi</th>\n",
       "      <th>all_stations</th>\n",
       "      <th>transit_cat</th>\n",
       "    </tr>\n",
       "  </thead>\n",
       "  <tbody>\n",
       "    <tr>\n",
       "      <th>0</th>\n",
       "      <td>19</td>\n",
       "      <td>13</td>\n",
       "      <td>653</td>\n",
       "      <td>8</td>\n",
       "      <td>2</td>\n",
       "      <td>10</td>\n",
       "      <td>3</td>\n",
       "    </tr>\n",
       "    <tr>\n",
       "      <th>1</th>\n",
       "      <td>15</td>\n",
       "      <td>10</td>\n",
       "      <td>384</td>\n",
       "      <td>9</td>\n",
       "      <td>1</td>\n",
       "      <td>10</td>\n",
       "      <td>3</td>\n",
       "    </tr>\n",
       "    <tr>\n",
       "      <th>2</th>\n",
       "      <td>15</td>\n",
       "      <td>13</td>\n",
       "      <td>432</td>\n",
       "      <td>10</td>\n",
       "      <td>0</td>\n",
       "      <td>10</td>\n",
       "      <td>3</td>\n",
       "    </tr>\n",
       "    <tr>\n",
       "      <th>3</th>\n",
       "      <td>15</td>\n",
       "      <td>7</td>\n",
       "      <td>500</td>\n",
       "      <td>10</td>\n",
       "      <td>0</td>\n",
       "      <td>10</td>\n",
       "      <td>3</td>\n",
       "    </tr>\n",
       "    <tr>\n",
       "      <th>4</th>\n",
       "      <td>39</td>\n",
       "      <td>12</td>\n",
       "      <td>1421</td>\n",
       "      <td>5</td>\n",
       "      <td>5</td>\n",
       "      <td>10</td>\n",
       "      <td>3</td>\n",
       "    </tr>\n",
       "  </tbody>\n",
       "</table>\n",
       "</div>"
      ],
      "text/plain": [
       "   slots  avail_bikes_9am  distance  num_stations_1mi  num_stations_2mi  \\\n",
       "0     19               13       653                 8                 2   \n",
       "1     15               10       384                 9                 1   \n",
       "2     15               13       432                10                 0   \n",
       "3     15                7       500                10                 0   \n",
       "4     39               12      1421                 5                 5   \n",
       "\n",
       "   all_stations  transit_cat  \n",
       "0            10            3  \n",
       "1            10            3  \n",
       "2            10            3  \n",
       "3            10            3  \n",
       "4            10            3  "
      ]
     },
     "execution_count": 58,
     "metadata": {},
     "output_type": "execute_result"
    }
   ],
   "source": [
    "remaining_var = df2.drop(['change_8_to_9', 'change_830_to_9','change_8_to_830'], axis=1)\n",
    "remaining_var.head()"
   ]
  },
  {
   "cell_type": "code",
   "execution_count": 59,
   "id": "78951d5c-44e6-439c-a60b-b97b8e0b42eb",
   "metadata": {
    "tags": []
   },
   "outputs": [
    {
     "data": {
      "text/html": [
       "<div>\n",
       "<style scoped>\n",
       "    .dataframe tbody tr th:only-of-type {\n",
       "        vertical-align: middle;\n",
       "    }\n",
       "\n",
       "    .dataframe tbody tr th {\n",
       "        vertical-align: top;\n",
       "    }\n",
       "\n",
       "    .dataframe thead th {\n",
       "        text-align: right;\n",
       "    }\n",
       "</style>\n",
       "<table border=\"1\" class=\"dataframe\">\n",
       "  <thead>\n",
       "    <tr style=\"text-align: right;\">\n",
       "      <th></th>\n",
       "      <th>change_830_to_9</th>\n",
       "      <th>change_8_to_830</th>\n",
       "    </tr>\n",
       "  </thead>\n",
       "  <tbody>\n",
       "    <tr>\n",
       "      <th>0</th>\n",
       "      <td>-1</td>\n",
       "      <td>-1</td>\n",
       "    </tr>\n",
       "    <tr>\n",
       "      <th>1</th>\n",
       "      <td>-1</td>\n",
       "      <td>-1</td>\n",
       "    </tr>\n",
       "    <tr>\n",
       "      <th>2</th>\n",
       "      <td>-1</td>\n",
       "      <td>0</td>\n",
       "    </tr>\n",
       "    <tr>\n",
       "      <th>3</th>\n",
       "      <td>-2</td>\n",
       "      <td>-2</td>\n",
       "    </tr>\n",
       "    <tr>\n",
       "      <th>4</th>\n",
       "      <td>0</td>\n",
       "      <td>0</td>\n",
       "    </tr>\n",
       "    <tr>\n",
       "      <th>...</th>\n",
       "      <td>...</td>\n",
       "      <td>...</td>\n",
       "    </tr>\n",
       "    <tr>\n",
       "      <th>1658</th>\n",
       "      <td>0</td>\n",
       "      <td>0</td>\n",
       "    </tr>\n",
       "    <tr>\n",
       "      <th>1659</th>\n",
       "      <td>0</td>\n",
       "      <td>0</td>\n",
       "    </tr>\n",
       "    <tr>\n",
       "      <th>1660</th>\n",
       "      <td>-1</td>\n",
       "      <td>0</td>\n",
       "    </tr>\n",
       "    <tr>\n",
       "      <th>1661</th>\n",
       "      <td>0</td>\n",
       "      <td>0</td>\n",
       "    </tr>\n",
       "    <tr>\n",
       "      <th>1662</th>\n",
       "      <td>0</td>\n",
       "      <td>0</td>\n",
       "    </tr>\n",
       "  </tbody>\n",
       "</table>\n",
       "<p>1663 rows × 2 columns</p>\n",
       "</div>"
      ],
      "text/plain": [
       "      change_830_to_9  change_8_to_830\n",
       "0                  -1               -1\n",
       "1                  -1               -1\n",
       "2                  -1                0\n",
       "3                  -2               -2\n",
       "4                   0                0\n",
       "...               ...              ...\n",
       "1658                0                0\n",
       "1659                0                0\n",
       "1660               -1                0\n",
       "1661                0                0\n",
       "1662                0                0\n",
       "\n",
       "[1663 rows x 2 columns]"
      ]
     },
     "execution_count": 59,
     "metadata": {},
     "output_type": "execute_result"
    }
   ],
   "source": [
    "included_df = df2[['change_830_to_9','change_8_to_830']]\n",
    "included_df"
   ]
  },
  {
   "cell_type": "code",
   "execution_count": 60,
   "id": "45c580ed-b9f4-4d82-aab9-2baa44598389",
   "metadata": {
    "tags": []
   },
   "outputs": [
    {
     "data": {
      "text/html": [
       "<div>\n",
       "<style scoped>\n",
       "    .dataframe tbody tr th:only-of-type {\n",
       "        vertical-align: middle;\n",
       "    }\n",
       "\n",
       "    .dataframe tbody tr th {\n",
       "        vertical-align: top;\n",
       "    }\n",
       "\n",
       "    .dataframe thead th {\n",
       "        text-align: right;\n",
       "    }\n",
       "</style>\n",
       "<table border=\"1\" class=\"dataframe\">\n",
       "  <thead>\n",
       "    <tr style=\"text-align: right;\">\n",
       "      <th></th>\n",
       "      <th>const</th>\n",
       "      <th>change_830_to_9</th>\n",
       "      <th>change_8_to_830</th>\n",
       "      <th>distance</th>\n",
       "    </tr>\n",
       "  </thead>\n",
       "  <tbody>\n",
       "    <tr>\n",
       "      <th>0</th>\n",
       "      <td>1.0</td>\n",
       "      <td>-1</td>\n",
       "      <td>-1</td>\n",
       "      <td>653</td>\n",
       "    </tr>\n",
       "    <tr>\n",
       "      <th>1</th>\n",
       "      <td>1.0</td>\n",
       "      <td>-1</td>\n",
       "      <td>-1</td>\n",
       "      <td>384</td>\n",
       "    </tr>\n",
       "    <tr>\n",
       "      <th>2</th>\n",
       "      <td>1.0</td>\n",
       "      <td>-1</td>\n",
       "      <td>0</td>\n",
       "      <td>432</td>\n",
       "    </tr>\n",
       "    <tr>\n",
       "      <th>3</th>\n",
       "      <td>1.0</td>\n",
       "      <td>-2</td>\n",
       "      <td>-2</td>\n",
       "      <td>500</td>\n",
       "    </tr>\n",
       "    <tr>\n",
       "      <th>4</th>\n",
       "      <td>1.0</td>\n",
       "      <td>0</td>\n",
       "      <td>0</td>\n",
       "      <td>1421</td>\n",
       "    </tr>\n",
       "    <tr>\n",
       "      <th>...</th>\n",
       "      <td>...</td>\n",
       "      <td>...</td>\n",
       "      <td>...</td>\n",
       "      <td>...</td>\n",
       "    </tr>\n",
       "    <tr>\n",
       "      <th>1658</th>\n",
       "      <td>1.0</td>\n",
       "      <td>0</td>\n",
       "      <td>0</td>\n",
       "      <td>3007</td>\n",
       "    </tr>\n",
       "    <tr>\n",
       "      <th>1659</th>\n",
       "      <td>1.0</td>\n",
       "      <td>0</td>\n",
       "      <td>0</td>\n",
       "      <td>3133</td>\n",
       "    </tr>\n",
       "    <tr>\n",
       "      <th>1660</th>\n",
       "      <td>1.0</td>\n",
       "      <td>-1</td>\n",
       "      <td>0</td>\n",
       "      <td>1193</td>\n",
       "    </tr>\n",
       "    <tr>\n",
       "      <th>1661</th>\n",
       "      <td>1.0</td>\n",
       "      <td>0</td>\n",
       "      <td>0</td>\n",
       "      <td>1838</td>\n",
       "    </tr>\n",
       "    <tr>\n",
       "      <th>1662</th>\n",
       "      <td>1.0</td>\n",
       "      <td>0</td>\n",
       "      <td>0</td>\n",
       "      <td>674</td>\n",
       "    </tr>\n",
       "  </tbody>\n",
       "</table>\n",
       "<p>1663 rows × 4 columns</p>\n",
       "</div>"
      ],
      "text/plain": [
       "      const  change_830_to_9  change_8_to_830  distance\n",
       "0       1.0               -1               -1       653\n",
       "1       1.0               -1               -1       384\n",
       "2       1.0               -1                0       432\n",
       "3       1.0               -2               -2       500\n",
       "4       1.0                0                0      1421\n",
       "...     ...              ...              ...       ...\n",
       "1658    1.0                0                0      3007\n",
       "1659    1.0                0                0      3133\n",
       "1660    1.0               -1                0      1193\n",
       "1661    1.0                0                0      1838\n",
       "1662    1.0                0                0       674\n",
       "\n",
       "[1663 rows x 4 columns]"
      ]
     },
     "execution_count": 60,
     "metadata": {},
     "output_type": "execute_result"
    }
   ],
   "source": [
    "X = [sm.add_constant(pd.merge(included_df,remaining_var[column], right_index = True, left_index = True)) for column in remaining_var.columns] \n",
    "X[2]"
   ]
  },
  {
   "cell_type": "code",
   "execution_count": 61,
   "id": "f2409787-4f77-4075-9436-90b68fdae152",
   "metadata": {
    "tags": []
   },
   "outputs": [
    {
     "name": "stdout",
     "output_type": "stream",
     "text": [
      "adj_R2: 1.000, P-values: (2.2433488881410967e-148, 0.0, 0.0, 0.0013371554460581087), column: slots\n",
      "adj_R2: 1.000, P-values: (3.9212149784721485e-228, 0.0, 0.0, 4.939144575066503e-172), column: avail_bikes_9am\n",
      "adj_R2: 1.000, P-values: (3.7753071068573634e-34, 0.0, 0.0, 2.5617507207173706e-26), column: distance\n",
      "adj_R2: 1.000, P-values: (3.4752722097722666e-58, 0.0, 0.0, 1.3943399645890594e-177), column: num_stations_1mi\n",
      "adj_R2: 1.000, P-values: (2.503491827993701e-84, 0.0, 0.0, 0.0015208516671614057), column: num_stations_2mi\n",
      "adj_R2: 1.000, P-values: (9.263131177119168e-12, 0.0, 0.0, 0.0041533608960754404), column: all_stations\n",
      "adj_R2: 1.000, P-values: (6.006122534318659e-05, 0.0, 0.0, 1.9996942001809218e-08), column: transit_cat\n"
     ]
    }
   ],
   "source": [
    "Models = [sm.OLS(y,x) for x in X] #list of models\n",
    "Results = [model.fit() for model in Models] #list of results\n",
    "Adj_Rsquared = [results.rsquared_adj for results in Results] #list of rsquared\n",
    "Pval = [results.pvalues for results in Results] #list of list of p-values\n",
    "\n",
    "for i in range(len(Adj_Rsquared)):\n",
    "     print(f'adj_R2: {Adj_Rsquared[i]:.3f}, P-values: {*Pval[i],}, column: {remaining_var.columns[i]}')"
   ]
  },
  {
   "cell_type": "code",
   "execution_count": null,
   "id": "6f661bef-9f62-4dea-8d1b-a8eb2aba4408",
   "metadata": {},
   "outputs": [],
   "source": [
    "#Well! This is a strange issue! R values are all one\n",
    "#Of course it makes sense for the change between 8-8:30 and 8:30 to 9 to result in some great change, but this suggests\n",
    "#something very strange could be going on"
   ]
  },
  {
   "cell_type": "code",
   "execution_count": 52,
   "id": "2577bd13-6c1e-4839-861d-5fcd17340fbf",
   "metadata": {
    "tags": []
   },
   "outputs": [],
   "source": [
    "# Let's run this again but without those two columns included from the beginning..."
   ]
  },
  {
   "cell_type": "code",
   "execution_count": 53,
   "id": "5b3c6bcc-8db1-4b7b-98f9-f8252e9b571b",
   "metadata": {
    "tags": []
   },
   "outputs": [],
   "source": [
    "#now let's create a dataframe just holding the information we care about\n",
    "df3 = df[['slots','avail_bikes_9am','change_8_to_9','distance','num_stations_1mi','num_stations_2mi','all_stations','transit_cat']]"
   ]
  },
  {
   "cell_type": "code",
   "execution_count": 62,
   "id": "2f5b6b42-b081-47eb-af3a-5ba1965ac38e",
   "metadata": {
    "tags": []
   },
   "outputs": [
    {
     "name": "stdout",
     "output_type": "stream",
     "text": [
      "Index(['slots', 'avail_bikes_9am', 'distance', 'num_stations_1mi',\n",
      "       'num_stations_2mi', 'all_stations', 'transit_cat'],\n",
      "      dtype='object')\n"
     ]
    },
    {
     "data": {
      "text/html": [
       "<div>\n",
       "<style scoped>\n",
       "    .dataframe tbody tr th:only-of-type {\n",
       "        vertical-align: middle;\n",
       "    }\n",
       "\n",
       "    .dataframe tbody tr th {\n",
       "        vertical-align: top;\n",
       "    }\n",
       "\n",
       "    .dataframe thead th {\n",
       "        text-align: right;\n",
       "    }\n",
       "</style>\n",
       "<table border=\"1\" class=\"dataframe\">\n",
       "  <thead>\n",
       "    <tr style=\"text-align: right;\">\n",
       "      <th></th>\n",
       "      <th>const</th>\n",
       "      <th>avail_bikes_9am</th>\n",
       "    </tr>\n",
       "  </thead>\n",
       "  <tbody>\n",
       "    <tr>\n",
       "      <th>0</th>\n",
       "      <td>1.0</td>\n",
       "      <td>13</td>\n",
       "    </tr>\n",
       "    <tr>\n",
       "      <th>1</th>\n",
       "      <td>1.0</td>\n",
       "      <td>10</td>\n",
       "    </tr>\n",
       "    <tr>\n",
       "      <th>2</th>\n",
       "      <td>1.0</td>\n",
       "      <td>13</td>\n",
       "    </tr>\n",
       "    <tr>\n",
       "      <th>3</th>\n",
       "      <td>1.0</td>\n",
       "      <td>7</td>\n",
       "    </tr>\n",
       "    <tr>\n",
       "      <th>4</th>\n",
       "      <td>1.0</td>\n",
       "      <td>12</td>\n",
       "    </tr>\n",
       "    <tr>\n",
       "      <th>...</th>\n",
       "      <td>...</td>\n",
       "      <td>...</td>\n",
       "    </tr>\n",
       "    <tr>\n",
       "      <th>1658</th>\n",
       "      <td>1.0</td>\n",
       "      <td>3</td>\n",
       "    </tr>\n",
       "    <tr>\n",
       "      <th>1659</th>\n",
       "      <td>1.0</td>\n",
       "      <td>0</td>\n",
       "    </tr>\n",
       "    <tr>\n",
       "      <th>1660</th>\n",
       "      <td>1.0</td>\n",
       "      <td>7</td>\n",
       "    </tr>\n",
       "    <tr>\n",
       "      <th>1661</th>\n",
       "      <td>1.0</td>\n",
       "      <td>3</td>\n",
       "    </tr>\n",
       "    <tr>\n",
       "      <th>1662</th>\n",
       "      <td>1.0</td>\n",
       "      <td>7</td>\n",
       "    </tr>\n",
       "  </tbody>\n",
       "</table>\n",
       "<p>1663 rows × 2 columns</p>\n",
       "</div>"
      ],
      "text/plain": [
       "      const  avail_bikes_9am\n",
       "0       1.0               13\n",
       "1       1.0               10\n",
       "2       1.0               13\n",
       "3       1.0                7\n",
       "4       1.0               12\n",
       "...     ...              ...\n",
       "1658    1.0                3\n",
       "1659    1.0                0\n",
       "1660    1.0                7\n",
       "1661    1.0                3\n",
       "1662    1.0                7\n",
       "\n",
       "[1663 rows x 2 columns]"
      ]
     },
     "execution_count": 62,
     "metadata": {},
     "output_type": "execute_result"
    }
   ],
   "source": [
    "y = df3['change_8_to_9']\n",
    "df_new = df3.drop(columns=['change_8_to_9'])\n",
    "\n",
    "print(df_new.columns)\n",
    "\n",
    "X = [sm.add_constant(df_new[column]) for column in df_new.columns]\n",
    "X[1]"
   ]
  },
  {
   "cell_type": "code",
   "execution_count": 63,
   "id": "b5ca7b1c-ac34-46a5-bb00-2c654b16d6cc",
   "metadata": {
    "tags": []
   },
   "outputs": [],
   "source": [
    "Models = [sm.OLS(y,x) for x in X] #list of models\n",
    "Results = [model.fit() for model in Models] #list of results\n",
    "Adj_Rsquared = [results.rsquared_adj for results in Results] #list of rsquared\n",
    "Pval = [results.pvalues for results in Results] #list of p-values"
   ]
  },
  {
   "cell_type": "code",
   "execution_count": 64,
   "id": "fcdd0d9b-7a85-4169-82ca-60f87b9ddfee",
   "metadata": {
    "tags": []
   },
   "outputs": [
    {
     "name": "stdout",
     "output_type": "stream",
     "text": [
      "adj_R2: 0.013, P-values: (0.0007898493290166014, 1.4956518539117485e-06), column: slots\n",
      "adj_R2: 0.041, P-values: (8.747339303813141e-07, 4.0847238829841874e-17), column: avail_bikes_9am\n",
      "adj_R2: -0.000, P-values: (0.39806577867145676, 0.38506986375387753), column: change_8_to_830\n",
      "adj_R2: 0.004, P-values: (0.03801048248930684, 0.005871351692641564), column: change_830_to_9\n",
      "adj_R2: 0.005, P-values: (0.007611843001945874, 0.00351191034499684), column: change_8_to_9\n",
      "adj_R2: -0.001, P-values: (0.9685077762487294, 0.9501893086905262), column: distance\n",
      "adj_R2: 0.006, P-values: (0.0009687781829920468, 0.0009086458466180611), column: num_stations_1mi\n"
     ]
    }
   ],
   "source": [
    "for i in range(len(Adj_Rsquared)):\n",
    "     print(f'adj_R2: {Adj_Rsquared[i]:.3f}, P-values: {*Pval[i],}, column: {df2.columns[i]}')"
   ]
  },
  {
   "cell_type": "code",
   "execution_count": null,
   "id": "973f65d4-9361-4ff2-9371-81bc3892c5b1",
   "metadata": {},
   "outputs": [],
   "source": [
    "#here we have very low adj. Rs, suggesting these values may not be doing very much\n",
    "#distance now has a very high p-value"
   ]
  },
  {
   "cell_type": "code",
   "execution_count": 66,
   "id": "6ab6b06e-23c5-4839-9966-f0c064506cdf",
   "metadata": {
    "tags": []
   },
   "outputs": [
    {
     "name": "stdout",
     "output_type": "stream",
     "text": [
      "                            OLS Regression Results                            \n",
      "==============================================================================\n",
      "Dep. Variable:          change_8_to_9   R-squared:                       1.000\n",
      "Model:                            OLS   Adj. R-squared:                  1.000\n",
      "Method:                 Least Squares   F-statistic:                 6.675e+31\n",
      "Date:                Mon, 20 Nov 2023   Prob (F-statistic):               0.00\n",
      "Time:                        14:00:48   Log-Likelihood:                 53932.\n",
      "No. Observations:                1663   AIC:                        -1.078e+05\n",
      "Df Residuals:                    1654   BIC:                        -1.078e+05\n",
      "Df Model:                           8                                         \n",
      "Covariance Type:            nonrobust                                         \n",
      "====================================================================================\n",
      "                       coef    std err          t      P>|t|      [0.025      0.975]\n",
      "------------------------------------------------------------------------------------\n",
      "const            -5.808e-15   6.01e-16     -9.656      0.000   -6.99e-15   -4.63e-15\n",
      "slots            -2.767e-16   9.47e-18    -29.217      0.000   -2.95e-16   -2.58e-16\n",
      "avail_bikes_9am   5.707e-16   1.61e-17     35.395      0.000    5.39e-16    6.02e-16\n",
      "change_8_to_830      1.0000   7.46e-17   1.34e+16      0.000       1.000       1.000\n",
      "change_830_to_9      1.0000   6.23e-17   1.61e+16      0.000       1.000       1.000\n",
      "distance         -5.285e-19   7.11e-20     -7.438      0.000   -6.68e-19   -3.89e-19\n",
      "num_stations_1mi  -1.11e-16   2.26e-17     -4.907      0.000   -1.55e-16   -6.66e-17\n",
      "num_stations_2mi -1.769e-16   2.04e-17     -8.679      0.000   -2.17e-16   -1.37e-16\n",
      "all_stations      4.901e-16   3.58e-17     13.694      0.000     4.2e-16     5.6e-16\n",
      "transit_cat       1.207e-15   1.03e-16     11.690      0.000       1e-15    1.41e-15\n",
      "==============================================================================\n",
      "Omnibus:                      116.377   Durbin-Watson:                   1.892\n",
      "Prob(Omnibus):                  0.000   Jarque-Bera (JB):              562.637\n",
      "Skew:                          -0.013   Prob(JB):                    6.68e-123\n",
      "Kurtosis:                       5.849   Cond. No.                     2.10e+18\n",
      "==============================================================================\n",
      "\n",
      "Notes:\n",
      "[1] Standard Errors assume that the covariance matrix of the errors is correctly specified.\n",
      "[2] The smallest eigenvalue is 1.34e-27. This might indicate that there are\n",
      "strong multicollinearity problems or that the design matrix is singular.\n"
     ]
    }
   ],
   "source": [
    "#this can be seen more clearly by running the full model\n",
    "y = df2['change_8_to_9']\n",
    "X = df2.drop('change_8_to_9', axis=1)\n",
    "X = sm.add_constant(X) #adds a column of 1's so the model will contain an intercept\n",
    "\n",
    "model = sm.OLS(y, X)\n",
    "results = model.fit()\n",
    "print(results.summary())"
   ]
  },
  {
   "cell_type": "code",
   "execution_count": null,
   "id": "194ec6b2-0b1f-48af-9746-15657fe007bc",
   "metadata": {},
   "outputs": [],
   "source": [
    "#Awful"
   ]
  },
  {
   "cell_type": "markdown",
   "id": "73017c28-2b1d-4288-808b-9593f56ce818",
   "metadata": {},
   "source": [
    "We should investigate what meta-issues we think might be effecting this.\n",
    "\n",
    "First, the granularity of our sampling may be off. Pulling data every half-hour could be too large of a sampling window.\n",
    "\n",
    "Second, we are currently unable to track if a bike has been returned and then checked out, so total volume is missing from this data set.\n",
    "\n",
    "Third, there might not actually be any statistically significant relationship at all."
   ]
  },
  {
   "cell_type": "markdown",
   "id": "2fcc82a6-f294-4702-b8b3-92a776a90ed7",
   "metadata": {},
   "source": [
    "Continuing and developing this project will require several additional step."
   ]
  }
 ],
 "metadata": {
  "kernelspec": {
   "display_name": "Python 3 (ipykernel)",
   "language": "python",
   "name": "python3"
  },
  "language_info": {
   "codemirror_mode": {
    "name": "ipython",
    "version": 3
   },
   "file_extension": ".py",
   "mimetype": "text/x-python",
   "name": "python",
   "nbconvert_exporter": "python",
   "pygments_lexer": "ipython3",
   "version": "3.11.5"
  }
 },
 "nbformat": 4,
 "nbformat_minor": 5
}
