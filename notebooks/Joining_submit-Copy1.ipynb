{
 "cells": [
  {
   "cell_type": "markdown",
   "id": "f326f2a1-b8c1-4a24-add5-e4c3b66a396d",
   "metadata": {},
   "source": [
    "##### 1. Join the data from Part 1 with the data from Part 2 to create a new dataframe.\n",
    "##### 2. Use data visualization to explore the data.\n",
    "##### 3. Create your own SQLite database and store the data you've collected on the POIs. Put some thought into the structure of your database. We've used and created sqlite3 databases before in the activity SQL in Python. Validate your data."
   ]
  },
  {
   "cell_type": "code",
   "execution_count": 1,
   "id": "4ff7f184-fcab-4c00-aa90-3d0fc83ed58a",
   "metadata": {},
   "outputs": [],
   "source": [
    "import pandas as pd\n",
    "import os # use this to access your environment variables\n",
    "import requests # this will be used to call the APIs\n",
    "import numpy as np\n",
    "import statsmodels.api as sm\n",
    "import statsmodels.formula.api as smf\n",
    "import scipy\n",
    "from scipy import stats\n",
    "import json #json parsing libraries\n",
    "import datetime"
   ]
  },
  {
   "cell_type": "code",
   "execution_count": 30,
   "id": "8c02fe2c-b1ca-42c7-868e-bb61aa8daf7e",
   "metadata": {},
   "outputs": [],
   "source": [
    "import matplotlib.pyplot as plt #both these offer visualization tools\n",
    "import seaborn as sns"
   ]
  },
  {
   "cell_type": "code",
   "execution_count": 2,
   "id": "a4b2ac8c-a6bb-41d1-bf64-54bb26872d9d",
   "metadata": {},
   "outputs": [],
   "source": [
    "#Now that we have the Four Square data, obtained with the fs_append function, seen in the previous section\n",
    "#we can join it to the .json files we have created. This process will be repeated for each dataset."
   ]
  },
  {
   "cell_type": "code",
   "execution_count": 3,
   "id": "629966b9-cda7-42dc-a77b-a68a38e6cf97",
   "metadata": {},
   "outputs": [
    {
     "name": "stdout",
     "output_type": "stream",
     "text": [
      "<class 'pandas.core.frame.DataFrame'>\n",
      "Index: 1663 entries, 0 to 1662\n",
      "Data columns (total 8 columns):\n",
      " #   Column      Non-Null Count  Dtype         \n",
      "---  ------      --------------  -----         \n",
      " 0   comp_id     1663 non-null   object        \n",
      " 1   name        1663 non-null   object        \n",
      " 2   latitude    1663 non-null   float64       \n",
      " 3   longitude   1663 non-null   float64       \n",
      " 4   slots       1663 non-null   int64         \n",
      " 5   free_bikes  1663 non-null   int64         \n",
      " 6   renting     1663 non-null   int64         \n",
      " 7   timestamp   1663 non-null   datetime64[ns]\n",
      "dtypes: datetime64[ns](1), float64(2), int64(3), object(2)\n",
      "memory usage: 116.9+ KB\n",
      "None\n"
     ]
    },
    {
     "data": {
      "text/html": [
       "<div>\n",
       "<style scoped>\n",
       "    .dataframe tbody tr th:only-of-type {\n",
       "        vertical-align: middle;\n",
       "    }\n",
       "\n",
       "    .dataframe tbody tr th {\n",
       "        vertical-align: top;\n",
       "    }\n",
       "\n",
       "    .dataframe thead th {\n",
       "        text-align: right;\n",
       "    }\n",
       "</style>\n",
       "<table border=\"1\" class=\"dataframe\">\n",
       "  <thead>\n",
       "    <tr style=\"text-align: right;\">\n",
       "      <th></th>\n",
       "      <th>comp_id</th>\n",
       "      <th>name</th>\n",
       "      <th>latitude</th>\n",
       "      <th>longitude</th>\n",
       "      <th>slots</th>\n",
       "      <th>free_bikes</th>\n",
       "      <th>renting</th>\n",
       "      <th>timestamp</th>\n",
       "    </tr>\n",
       "  </thead>\n",
       "  <tbody>\n",
       "    <tr>\n",
       "      <th>0</th>\n",
       "      <td>divvy</td>\n",
       "      <td>Lake Park Ave &amp; 56th St</td>\n",
       "      <td>41.793242</td>\n",
       "      <td>-87.587782</td>\n",
       "      <td>19</td>\n",
       "      <td>13</td>\n",
       "      <td>1</td>\n",
       "      <td>2023-11-20 15:01:15.831</td>\n",
       "    </tr>\n",
       "  </tbody>\n",
       "</table>\n",
       "</div>"
      ],
      "text/plain": [
       "  comp_id                     name   latitude  longitude  slots  free_bikes  \\\n",
       "0   divvy  Lake Park Ave & 56th St  41.793242 -87.587782     19          13   \n",
       "\n",
       "   renting               timestamp  \n",
       "0        1 2023-11-20 15:01:15.831  "
      ]
     },
     "execution_count": 3,
     "metadata": {},
     "output_type": "execute_result"
    }
   ],
   "source": [
    "data1 = pd.read_json(r'unprocessed/Chi_9am_mon(raw).json')\n",
    "df = pd.DataFrame(data1)\n",
    "print(df.info())\n",
    "df.head(1)"
   ]
  },
  {
   "cell_type": "code",
   "execution_count": 6,
   "id": "86715525-0a38-42ce-a3ce-a9b64592e027",
   "metadata": {
    "tags": []
   },
   "outputs": [],
   "source": [
    "df_fs = pd.read_json('four_square_9am_mon.json')"
   ]
  },
  {
   "cell_type": "code",
   "execution_count": 8,
   "id": "b09c5315-0d00-4518-8cf9-6aea8f31dc57",
   "metadata": {},
   "outputs": [],
   "source": [
    "#now we join the data from Four Square obtained by calling fs_append on the response from the \n",
    "df['distance'] = df_fs['distance']\n",
    "df['near_station'] = df_fs['near_station']\n",
    "df['num_stations_1mi'] = df_fs['num_stations_1mi']\n",
    "df['num_stations_2mi'] = df_fs['num_stations_2mi']\n",
    "df['all_stations'] = df_fs['all_stations'] #this column could be dropped, but I wanted to keep it in case the total was needed for some calculation later"
   ]
  },
  {
   "cell_type": "code",
   "execution_count": 9,
   "id": "7bd25599-0842-43b3-a711-296022c2133a",
   "metadata": {},
   "outputs": [],
   "source": [
    "# previously, only two transit categories were used, looking at divvy stations within 150ft of a CTA station, and then all others.\n",
    "# this did not produce adequate results, so additional categories were added\n",
    "#I hope this will give the data greater explanitory power\n",
    "df['transit_cat'] = 0 ### this will track stations which are beside (or nearly so) CTA stations\n",
    "df.loc[(df['distance']<=50, 'transit_cat')] = 0 #w/in 50m (150ft) of an L station\n",
    "df.loc[(df['distance'].between(51, 182), 'transit_cat')] = 1 #between 150ft and 600 feet of an L station\n",
    "df.loc[(df['distance'].between(183, 365), 'transit_cat')] = 2 #between 601 and 1200 feet\n",
    "df.loc[(df['distance']>365, 'transit_cat')] = 3 #greater than 1200 feet from an L station"
   ]
  },
  {
   "cell_type": "code",
   "execution_count": 10,
   "id": "0484ddd1-5cc4-4886-8624-e1766e452977",
   "metadata": {},
   "outputs": [],
   "source": [
    "#the above processes are repeated for the other snapshots taken during rushhour,\n",
    "#creating separate dataframes which will be processed to show the useage over time\n",
    "#this will also be archived as .json to preseve data"
   ]
  },
  {
   "cell_type": "code",
   "execution_count": 11,
   "id": "01647969-d8a3-4f3d-a1a7-5220adec51ac",
   "metadata": {
    "tags": []
   },
   "outputs": [
    {
     "name": "stdout",
     "output_type": "stream",
     "text": [
      "<class 'pandas.core.frame.DataFrame'>\n",
      "Index: 1663 entries, 0 to 1662\n",
      "Data columns (total 14 columns):\n",
      " #   Column            Non-Null Count  Dtype         \n",
      "---  ------            --------------  -----         \n",
      " 0   comp_id           1663 non-null   object        \n",
      " 1   name              1663 non-null   object        \n",
      " 2   latitude          1663 non-null   float64       \n",
      " 3   longitude         1663 non-null   float64       \n",
      " 4   slots             1663 non-null   int64         \n",
      " 5   free_bikes        1663 non-null   int64         \n",
      " 6   renting           1663 non-null   int64         \n",
      " 7   timestamp         1663 non-null   datetime64[ns]\n",
      " 8   distance          1663 non-null   int64         \n",
      " 9   near_station      1663 non-null   object        \n",
      " 10  num_stations_1mi  1663 non-null   int64         \n",
      " 11  num_stations_2mi  1663 non-null   int64         \n",
      " 12  all_stations      1663 non-null   int64         \n",
      " 13  transit_cat       1663 non-null   int64         \n",
      "dtypes: datetime64[ns](1), float64(2), int64(8), object(3)\n",
      "memory usage: 194.9+ KB\n"
     ]
    }
   ],
   "source": [
    "#checking to be sure the rows and datatypes match, which will indicate all processes have been completed correctly\n",
    "df.info()"
   ]
  },
  {
   "cell_type": "code",
   "execution_count": 12,
   "id": "95aaa1e7-44fd-4d1d-b3a4-ea4b10923a73",
   "metadata": {
    "tags": []
   },
   "outputs": [
    {
     "name": "stdout",
     "output_type": "stream",
     "text": [
      "          latitude    longitude        slots   free_bikes      renting  \\\n",
      "count  1663.000000  1663.000000  1663.000000  1663.000000  1663.000000   \n",
      "mean     41.850887   -87.678532     9.049910     3.600120     0.997595   \n",
      "min      41.648501   -87.843960     1.000000     0.000000     0.000000   \n",
      "25%      41.766388   -87.720899     2.000000     0.000000     1.000000   \n",
      "50%      41.867226   -87.677180     9.000000     1.000000     1.000000   \n",
      "75%      41.931753   -87.634429    15.000000     6.000000     1.000000   \n",
      "max      42.064854   -87.528232    55.000000    34.000000     1.000000   \n",
      "std       0.097214     0.063382     8.543893     4.783966     0.048999   \n",
      "\n",
      "                           timestamp     distance  num_stations_1mi  \\\n",
      "count                           1663  1663.000000       1663.000000   \n",
      "mean   2023-11-20 15:01:14.925148416  1577.116657          4.146723   \n",
      "min       2023-11-20 15:01:13.130000     3.000000          0.000000   \n",
      "25%    2023-11-20 15:01:14.154500096   709.000000          2.000000   \n",
      "50%    2023-11-20 15:01:15.017999872  1365.000000          3.000000   \n",
      "75%    2023-11-20 15:01:15.729499904  2433.500000          6.000000   \n",
      "max       2023-11-20 15:01:16.501000  3515.000000         10.000000   \n",
      "std                              NaN  1034.226487          3.111660   \n",
      "\n",
      "       num_stations_2mi  all_stations  transit_cat  \n",
      "count       1663.000000   1663.000000  1663.000000  \n",
      "mean           5.364402      9.511124     2.821407  \n",
      "min            0.000000      2.000000     0.000000  \n",
      "25%            3.000000      9.000000     3.000000  \n",
      "50%            6.000000     10.000000     3.000000  \n",
      "75%            8.000000     10.000000     3.000000  \n",
      "max           10.000000     10.000000     3.000000  \n",
      "std            2.915700      1.001066     0.537386  \n",
      "  comp_id                       name   latitude  longitude  slots  free_bikes  \\\n",
      "0   divvy    Lake Park Ave & 56th St  41.793242 -87.587782     19          13   \n",
      "1   divvy   Ada St & Washington Blvd  41.882830 -87.661206     15          10   \n",
      "2   divvy     Ashland Ave & Grace St  41.950687 -87.668700     15          13   \n",
      "3   divvy  Clark St & Wrightwood Ave  41.929546 -87.643118     15           7   \n",
      "4   divvy          Adler Planetarium  41.866095 -87.607267     39          12   \n",
      "\n",
      "   renting               timestamp  distance  \\\n",
      "0        1 2023-11-20 15:01:15.831       653   \n",
      "1        1 2023-11-20 15:01:13.757       384   \n",
      "2        1 2023-11-20 15:01:16.001       432   \n",
      "3        1 2023-11-20 15:01:13.758       500   \n",
      "4        1 2023-11-20 15:01:14.360      1421   \n",
      "\n",
      "                                        near_station  num_stations_1mi  \\\n",
      "0  5311 S Lake Park Ave (at 53rd St), Chicago, IL...                 8   \n",
      "1              1200 W Randolph St, Chicago, IL 60607                 9   \n",
      "2  1612 W Irving Park Rd (btwn Ashland Ave. & Pau...                10   \n",
      "3  2548 N Halsted St (at Wrightwood Ave), Chicago...                10   \n",
      "4             1416 S Michigan Ave, Chicago, IL 60605                 5   \n",
      "\n",
      "   num_stations_2mi  all_stations  transit_cat  \n",
      "0                 2            10            3  \n",
      "1                 1            10            3  \n",
      "2                 0            10            3  \n",
      "3                 0            10            3  \n",
      "4                 5            10            3  \n"
     ]
    }
   ],
   "source": [
    "print(df.describe())\n",
    "print(df.head())"
   ]
  },
  {
   "cell_type": "code",
   "execution_count": 13,
   "id": "80c99595-b8f3-4b5e-a2a4-1cd9e5116705",
   "metadata": {},
   "outputs": [],
   "source": [
    "df.rename(columns={'free_bikes': 'avail_bikes_9am'}, inplace=True) #creating the columns we'll need to examine data across time periods\n",
    "df['change_8_to_830'] = 0\n",
    "df['change_830_to_9'] = 0\n",
    "df['change_8_to_9'] = 0"
   ]
  },
  {
   "cell_type": "code",
   "execution_count": 14,
   "id": "9ebd91d3-02f9-4016-a2f8-1cf844173854",
   "metadata": {
    "tags": []
   },
   "outputs": [],
   "source": [
    "#now we will add the usage data from our other snapshots\n",
    "data1 = pd.read_json(r'unprocessed/Chi_8am_mon(raw).json')\n",
    "data2 = pd.read_json(r'unprocessed/Chi_830am_mon(raw).json')"
   ]
  },
  {
   "cell_type": "code",
   "execution_count": 20,
   "id": "f6a5ece0-9281-4198-9d6a-4e0741ca787a",
   "metadata": {
    "tags": []
   },
   "outputs": [
    {
     "data": {
      "text/html": [
       "<div>\n",
       "<style scoped>\n",
       "    .dataframe tbody tr th:only-of-type {\n",
       "        vertical-align: middle;\n",
       "    }\n",
       "\n",
       "    .dataframe tbody tr th {\n",
       "        vertical-align: top;\n",
       "    }\n",
       "\n",
       "    .dataframe thead th {\n",
       "        text-align: right;\n",
       "    }\n",
       "</style>\n",
       "<table border=\"1\" class=\"dataframe\">\n",
       "  <thead>\n",
       "    <tr style=\"text-align: right;\">\n",
       "      <th></th>\n",
       "      <th>comp_id</th>\n",
       "      <th>name</th>\n",
       "      <th>latitude</th>\n",
       "      <th>longitude</th>\n",
       "      <th>slots</th>\n",
       "      <th>free_bikes</th>\n",
       "      <th>renting</th>\n",
       "      <th>timestamp</th>\n",
       "    </tr>\n",
       "  </thead>\n",
       "  <tbody>\n",
       "    <tr>\n",
       "      <th>0</th>\n",
       "      <td>divvy</td>\n",
       "      <td>Lake Park Ave &amp; 56th St</td>\n",
       "      <td>41.793242</td>\n",
       "      <td>-87.587782</td>\n",
       "      <td>19</td>\n",
       "      <td>15</td>\n",
       "      <td>1</td>\n",
       "      <td>2023-11-20 14:05:46.840</td>\n",
       "    </tr>\n",
       "    <tr>\n",
       "      <th>1</th>\n",
       "      <td>divvy</td>\n",
       "      <td>Ada St &amp; Washington Blvd</td>\n",
       "      <td>41.882830</td>\n",
       "      <td>-87.661206</td>\n",
       "      <td>15</td>\n",
       "      <td>12</td>\n",
       "      <td>1</td>\n",
       "      <td>2023-11-20 14:05:46.840</td>\n",
       "    </tr>\n",
       "    <tr>\n",
       "      <th>2</th>\n",
       "      <td>divvy</td>\n",
       "      <td>Ashland Ave &amp; Grace St</td>\n",
       "      <td>41.950687</td>\n",
       "      <td>-87.668700</td>\n",
       "      <td>15</td>\n",
       "      <td>14</td>\n",
       "      <td>1</td>\n",
       "      <td>2023-11-20 14:05:46.840</td>\n",
       "    </tr>\n",
       "    <tr>\n",
       "      <th>3</th>\n",
       "      <td>divvy</td>\n",
       "      <td>Clark St &amp; Wrightwood Ave</td>\n",
       "      <td>41.929546</td>\n",
       "      <td>-87.643118</td>\n",
       "      <td>15</td>\n",
       "      <td>11</td>\n",
       "      <td>1</td>\n",
       "      <td>2023-11-20 14:05:46.840</td>\n",
       "    </tr>\n",
       "    <tr>\n",
       "      <th>4</th>\n",
       "      <td>divvy</td>\n",
       "      <td>Adler Planetarium</td>\n",
       "      <td>41.866095</td>\n",
       "      <td>-87.607267</td>\n",
       "      <td>39</td>\n",
       "      <td>12</td>\n",
       "      <td>1</td>\n",
       "      <td>2023-11-20 14:05:46.840</td>\n",
       "    </tr>\n",
       "  </tbody>\n",
       "</table>\n",
       "</div>"
      ],
      "text/plain": [
       "  comp_id                       name   latitude  longitude  slots  free_bikes  \\\n",
       "0   divvy    Lake Park Ave & 56th St  41.793242 -87.587782     19          15   \n",
       "1   divvy   Ada St & Washington Blvd  41.882830 -87.661206     15          12   \n",
       "2   divvy     Ashland Ave & Grace St  41.950687 -87.668700     15          14   \n",
       "3   divvy  Clark St & Wrightwood Ave  41.929546 -87.643118     15          11   \n",
       "4   divvy          Adler Planetarium  41.866095 -87.607267     39          12   \n",
       "\n",
       "   renting               timestamp  \n",
       "0        1 2023-11-20 14:05:46.840  \n",
       "1        1 2023-11-20 14:05:46.840  \n",
       "2        1 2023-11-20 14:05:46.840  \n",
       "3        1 2023-11-20 14:05:46.840  \n",
       "4        1 2023-11-20 14:05:46.840  "
      ]
     },
     "execution_count": 20,
     "metadata": {},
     "output_type": "execute_result"
    }
   ],
   "source": [
    "data1.head()"
   ]
  },
  {
   "cell_type": "code",
   "execution_count": 21,
   "id": "7329874f-d188-436d-8836-8c4b3e0119ac",
   "metadata": {
    "tags": []
   },
   "outputs": [
    {
     "data": {
      "text/html": [
       "<div>\n",
       "<style scoped>\n",
       "    .dataframe tbody tr th:only-of-type {\n",
       "        vertical-align: middle;\n",
       "    }\n",
       "\n",
       "    .dataframe tbody tr th {\n",
       "        vertical-align: top;\n",
       "    }\n",
       "\n",
       "    .dataframe thead th {\n",
       "        text-align: right;\n",
       "    }\n",
       "</style>\n",
       "<table border=\"1\" class=\"dataframe\">\n",
       "  <thead>\n",
       "    <tr style=\"text-align: right;\">\n",
       "      <th></th>\n",
       "      <th>comp_id</th>\n",
       "      <th>name</th>\n",
       "      <th>latitude</th>\n",
       "      <th>longitude</th>\n",
       "      <th>slots</th>\n",
       "      <th>free_bikes</th>\n",
       "      <th>renting</th>\n",
       "      <th>timestamp</th>\n",
       "    </tr>\n",
       "  </thead>\n",
       "  <tbody>\n",
       "    <tr>\n",
       "      <th>0</th>\n",
       "      <td>divvy</td>\n",
       "      <td>Lake Park Ave &amp; 56th St</td>\n",
       "      <td>41.793242</td>\n",
       "      <td>-87.587782</td>\n",
       "      <td>19</td>\n",
       "      <td>14</td>\n",
       "      <td>1</td>\n",
       "      <td>2023-11-20 14:25:43.977</td>\n",
       "    </tr>\n",
       "    <tr>\n",
       "      <th>1</th>\n",
       "      <td>divvy</td>\n",
       "      <td>Ada St &amp; Washington Blvd</td>\n",
       "      <td>41.882830</td>\n",
       "      <td>-87.661206</td>\n",
       "      <td>15</td>\n",
       "      <td>11</td>\n",
       "      <td>1</td>\n",
       "      <td>2023-11-20 14:25:43.977</td>\n",
       "    </tr>\n",
       "    <tr>\n",
       "      <th>2</th>\n",
       "      <td>divvy</td>\n",
       "      <td>Ashland Ave &amp; Grace St</td>\n",
       "      <td>41.950687</td>\n",
       "      <td>-87.668700</td>\n",
       "      <td>15</td>\n",
       "      <td>14</td>\n",
       "      <td>1</td>\n",
       "      <td>2023-11-20 14:25:43.977</td>\n",
       "    </tr>\n",
       "    <tr>\n",
       "      <th>3</th>\n",
       "      <td>divvy</td>\n",
       "      <td>Clark St &amp; Wrightwood Ave</td>\n",
       "      <td>41.929546</td>\n",
       "      <td>-87.643118</td>\n",
       "      <td>15</td>\n",
       "      <td>9</td>\n",
       "      <td>1</td>\n",
       "      <td>2023-11-20 14:25:43.977</td>\n",
       "    </tr>\n",
       "    <tr>\n",
       "      <th>4</th>\n",
       "      <td>divvy</td>\n",
       "      <td>Adler Planetarium</td>\n",
       "      <td>41.866095</td>\n",
       "      <td>-87.607267</td>\n",
       "      <td>39</td>\n",
       "      <td>12</td>\n",
       "      <td>1</td>\n",
       "      <td>2023-11-20 14:25:43.977</td>\n",
       "    </tr>\n",
       "  </tbody>\n",
       "</table>\n",
       "</div>"
      ],
      "text/plain": [
       "  comp_id                       name   latitude  longitude  slots  free_bikes  \\\n",
       "0   divvy    Lake Park Ave & 56th St  41.793242 -87.587782     19          14   \n",
       "1   divvy   Ada St & Washington Blvd  41.882830 -87.661206     15          11   \n",
       "2   divvy     Ashland Ave & Grace St  41.950687 -87.668700     15          14   \n",
       "3   divvy  Clark St & Wrightwood Ave  41.929546 -87.643118     15           9   \n",
       "4   divvy          Adler Planetarium  41.866095 -87.607267     39          12   \n",
       "\n",
       "   renting               timestamp  \n",
       "0        1 2023-11-20 14:25:43.977  \n",
       "1        1 2023-11-20 14:25:43.977  \n",
       "2        1 2023-11-20 14:25:43.977  \n",
       "3        1 2023-11-20 14:25:43.977  \n",
       "4        1 2023-11-20 14:25:43.977  "
      ]
     },
     "execution_count": 21,
     "metadata": {},
     "output_type": "execute_result"
    }
   ],
   "source": [
    "data2.head()"
   ]
  },
  {
   "cell_type": "code",
   "execution_count": 22,
   "id": "957f44ff-f92d-4612-a0c0-28485f06b5b0",
   "metadata": {
    "tags": []
   },
   "outputs": [],
   "source": [
    "change_8_to_830 = data2['free_bikes'] - data1['free_bikes'] #the difference in bikes avail. between 8am and 830\n",
    "change_830_to_9 = df['avail_bikes_9am'] - data2['free_bikes'] #the difference in bikes avail. between 830am and 9\n",
    "change_8_to_9 = df['avail_bikes_9am'] - data1['free_bikes'] #the difference in bikes avail. between 8am and 9\n",
    "df['change_8_to_830'] = change_8_to_830\n",
    "df['change_830_to_9'] = change_830_to_9\n",
    "df['change_8_to_9'] = change_8_to_9"
   ]
  },
  {
   "cell_type": "code",
   "execution_count": 23,
   "id": "772e289c-a403-4edf-95d2-508b4953f0e6",
   "metadata": {
    "tags": []
   },
   "outputs": [
    {
     "data": {
      "text/html": [
       "<div>\n",
       "<style scoped>\n",
       "    .dataframe tbody tr th:only-of-type {\n",
       "        vertical-align: middle;\n",
       "    }\n",
       "\n",
       "    .dataframe tbody tr th {\n",
       "        vertical-align: top;\n",
       "    }\n",
       "\n",
       "    .dataframe thead th {\n",
       "        text-align: right;\n",
       "    }\n",
       "</style>\n",
       "<table border=\"1\" class=\"dataframe\">\n",
       "  <thead>\n",
       "    <tr style=\"text-align: right;\">\n",
       "      <th></th>\n",
       "      <th>comp_id</th>\n",
       "      <th>name</th>\n",
       "      <th>latitude</th>\n",
       "      <th>longitude</th>\n",
       "      <th>slots</th>\n",
       "      <th>avail_bikes_9am</th>\n",
       "      <th>renting</th>\n",
       "      <th>timestamp</th>\n",
       "      <th>distance</th>\n",
       "      <th>near_station</th>\n",
       "      <th>num_stations_1mi</th>\n",
       "      <th>num_stations_2mi</th>\n",
       "      <th>all_stations</th>\n",
       "      <th>transit_cat</th>\n",
       "      <th>change_8_to_830</th>\n",
       "      <th>change_830_to_9</th>\n",
       "      <th>change_8_to_9</th>\n",
       "    </tr>\n",
       "  </thead>\n",
       "  <tbody>\n",
       "    <tr>\n",
       "      <th>0</th>\n",
       "      <td>divvy</td>\n",
       "      <td>Lake Park Ave &amp; 56th St</td>\n",
       "      <td>41.793242</td>\n",
       "      <td>-87.587782</td>\n",
       "      <td>19</td>\n",
       "      <td>13</td>\n",
       "      <td>1</td>\n",
       "      <td>2023-11-20 15:01:15.831</td>\n",
       "      <td>653</td>\n",
       "      <td>5311 S Lake Park Ave (at 53rd St), Chicago, IL...</td>\n",
       "      <td>8</td>\n",
       "      <td>2</td>\n",
       "      <td>10</td>\n",
       "      <td>3</td>\n",
       "      <td>-1</td>\n",
       "      <td>-1</td>\n",
       "      <td>-2</td>\n",
       "    </tr>\n",
       "    <tr>\n",
       "      <th>1</th>\n",
       "      <td>divvy</td>\n",
       "      <td>Ada St &amp; Washington Blvd</td>\n",
       "      <td>41.882830</td>\n",
       "      <td>-87.661206</td>\n",
       "      <td>15</td>\n",
       "      <td>10</td>\n",
       "      <td>1</td>\n",
       "      <td>2023-11-20 15:01:13.757</td>\n",
       "      <td>384</td>\n",
       "      <td>1200 W Randolph St, Chicago, IL 60607</td>\n",
       "      <td>9</td>\n",
       "      <td>1</td>\n",
       "      <td>10</td>\n",
       "      <td>3</td>\n",
       "      <td>-1</td>\n",
       "      <td>-1</td>\n",
       "      <td>-2</td>\n",
       "    </tr>\n",
       "    <tr>\n",
       "      <th>2</th>\n",
       "      <td>divvy</td>\n",
       "      <td>Ashland Ave &amp; Grace St</td>\n",
       "      <td>41.950687</td>\n",
       "      <td>-87.668700</td>\n",
       "      <td>15</td>\n",
       "      <td>13</td>\n",
       "      <td>1</td>\n",
       "      <td>2023-11-20 15:01:16.001</td>\n",
       "      <td>432</td>\n",
       "      <td>1612 W Irving Park Rd (btwn Ashland Ave. &amp; Pau...</td>\n",
       "      <td>10</td>\n",
       "      <td>0</td>\n",
       "      <td>10</td>\n",
       "      <td>3</td>\n",
       "      <td>0</td>\n",
       "      <td>-1</td>\n",
       "      <td>-1</td>\n",
       "    </tr>\n",
       "    <tr>\n",
       "      <th>3</th>\n",
       "      <td>divvy</td>\n",
       "      <td>Clark St &amp; Wrightwood Ave</td>\n",
       "      <td>41.929546</td>\n",
       "      <td>-87.643118</td>\n",
       "      <td>15</td>\n",
       "      <td>7</td>\n",
       "      <td>1</td>\n",
       "      <td>2023-11-20 15:01:13.758</td>\n",
       "      <td>500</td>\n",
       "      <td>2548 N Halsted St (at Wrightwood Ave), Chicago...</td>\n",
       "      <td>10</td>\n",
       "      <td>0</td>\n",
       "      <td>10</td>\n",
       "      <td>3</td>\n",
       "      <td>-2</td>\n",
       "      <td>-2</td>\n",
       "      <td>-4</td>\n",
       "    </tr>\n",
       "    <tr>\n",
       "      <th>4</th>\n",
       "      <td>divvy</td>\n",
       "      <td>Adler Planetarium</td>\n",
       "      <td>41.866095</td>\n",
       "      <td>-87.607267</td>\n",
       "      <td>39</td>\n",
       "      <td>12</td>\n",
       "      <td>1</td>\n",
       "      <td>2023-11-20 15:01:14.360</td>\n",
       "      <td>1421</td>\n",
       "      <td>1416 S Michigan Ave, Chicago, IL 60605</td>\n",
       "      <td>5</td>\n",
       "      <td>5</td>\n",
       "      <td>10</td>\n",
       "      <td>3</td>\n",
       "      <td>0</td>\n",
       "      <td>0</td>\n",
       "      <td>0</td>\n",
       "    </tr>\n",
       "  </tbody>\n",
       "</table>\n",
       "</div>"
      ],
      "text/plain": [
       "  comp_id                       name   latitude  longitude  slots  \\\n",
       "0   divvy    Lake Park Ave & 56th St  41.793242 -87.587782     19   \n",
       "1   divvy   Ada St & Washington Blvd  41.882830 -87.661206     15   \n",
       "2   divvy     Ashland Ave & Grace St  41.950687 -87.668700     15   \n",
       "3   divvy  Clark St & Wrightwood Ave  41.929546 -87.643118     15   \n",
       "4   divvy          Adler Planetarium  41.866095 -87.607267     39   \n",
       "\n",
       "   avail_bikes_9am  renting               timestamp  distance  \\\n",
       "0               13        1 2023-11-20 15:01:15.831       653   \n",
       "1               10        1 2023-11-20 15:01:13.757       384   \n",
       "2               13        1 2023-11-20 15:01:16.001       432   \n",
       "3                7        1 2023-11-20 15:01:13.758       500   \n",
       "4               12        1 2023-11-20 15:01:14.360      1421   \n",
       "\n",
       "                                        near_station  num_stations_1mi  \\\n",
       "0  5311 S Lake Park Ave (at 53rd St), Chicago, IL...                 8   \n",
       "1              1200 W Randolph St, Chicago, IL 60607                 9   \n",
       "2  1612 W Irving Park Rd (btwn Ashland Ave. & Pau...                10   \n",
       "3  2548 N Halsted St (at Wrightwood Ave), Chicago...                10   \n",
       "4             1416 S Michigan Ave, Chicago, IL 60605                 5   \n",
       "\n",
       "   num_stations_2mi  all_stations  transit_cat  change_8_to_830  \\\n",
       "0                 2            10            3               -1   \n",
       "1                 1            10            3               -1   \n",
       "2                 0            10            3                0   \n",
       "3                 0            10            3               -2   \n",
       "4                 5            10            3                0   \n",
       "\n",
       "   change_830_to_9  change_8_to_9  \n",
       "0               -1             -2  \n",
       "1               -1             -2  \n",
       "2               -1             -1  \n",
       "3               -2             -4  \n",
       "4                0              0  "
      ]
     },
     "execution_count": 23,
     "metadata": {},
     "output_type": "execute_result"
    }
   ],
   "source": [
    "df.head() #examining the data to make sure everything looks good"
   ]
  },
  {
   "cell_type": "code",
   "execution_count": 24,
   "id": "e2e89bcf-bfd0-4a77-90e0-6d724261b906",
   "metadata": {
    "tags": []
   },
   "outputs": [
    {
     "data": {
      "text/html": [
       "<div>\n",
       "<style scoped>\n",
       "    .dataframe tbody tr th:only-of-type {\n",
       "        vertical-align: middle;\n",
       "    }\n",
       "\n",
       "    .dataframe tbody tr th {\n",
       "        vertical-align: top;\n",
       "    }\n",
       "\n",
       "    .dataframe thead th {\n",
       "        text-align: right;\n",
       "    }\n",
       "</style>\n",
       "<table border=\"1\" class=\"dataframe\">\n",
       "  <thead>\n",
       "    <tr style=\"text-align: right;\">\n",
       "      <th></th>\n",
       "      <th>latitude</th>\n",
       "      <th>longitude</th>\n",
       "      <th>slots</th>\n",
       "      <th>avail_bikes_9am</th>\n",
       "      <th>renting</th>\n",
       "      <th>timestamp</th>\n",
       "      <th>distance</th>\n",
       "      <th>num_stations_1mi</th>\n",
       "      <th>num_stations_2mi</th>\n",
       "      <th>all_stations</th>\n",
       "      <th>transit_cat</th>\n",
       "      <th>change_8_to_830</th>\n",
       "      <th>change_830_to_9</th>\n",
       "      <th>change_8_to_9</th>\n",
       "    </tr>\n",
       "  </thead>\n",
       "  <tbody>\n",
       "    <tr>\n",
       "      <th>count</th>\n",
       "      <td>1663.000000</td>\n",
       "      <td>1663.000000</td>\n",
       "      <td>1663.000000</td>\n",
       "      <td>1663.000000</td>\n",
       "      <td>1663.000000</td>\n",
       "      <td>1663</td>\n",
       "      <td>1663.000000</td>\n",
       "      <td>1663.000000</td>\n",
       "      <td>1663.000000</td>\n",
       "      <td>1663.000000</td>\n",
       "      <td>1663.000000</td>\n",
       "      <td>1663.000000</td>\n",
       "      <td>1663.000000</td>\n",
       "      <td>1663.000000</td>\n",
       "    </tr>\n",
       "    <tr>\n",
       "      <th>mean</th>\n",
       "      <td>41.850887</td>\n",
       "      <td>-87.678532</td>\n",
       "      <td>9.049910</td>\n",
       "      <td>3.600120</td>\n",
       "      <td>0.997595</td>\n",
       "      <td>2023-11-20 15:01:14.925148416</td>\n",
       "      <td>1577.116657</td>\n",
       "      <td>4.146723</td>\n",
       "      <td>5.364402</td>\n",
       "      <td>9.511124</td>\n",
       "      <td>2.821407</td>\n",
       "      <td>0.009020</td>\n",
       "      <td>-0.003007</td>\n",
       "      <td>0.006013</td>\n",
       "    </tr>\n",
       "    <tr>\n",
       "      <th>min</th>\n",
       "      <td>41.648501</td>\n",
       "      <td>-87.843960</td>\n",
       "      <td>1.000000</td>\n",
       "      <td>0.000000</td>\n",
       "      <td>0.000000</td>\n",
       "      <td>2023-11-20 15:01:13.130000</td>\n",
       "      <td>3.000000</td>\n",
       "      <td>0.000000</td>\n",
       "      <td>0.000000</td>\n",
       "      <td>2.000000</td>\n",
       "      <td>0.000000</td>\n",
       "      <td>-4.000000</td>\n",
       "      <td>-10.000000</td>\n",
       "      <td>-10.000000</td>\n",
       "    </tr>\n",
       "    <tr>\n",
       "      <th>25%</th>\n",
       "      <td>41.766388</td>\n",
       "      <td>-87.720899</td>\n",
       "      <td>2.000000</td>\n",
       "      <td>0.000000</td>\n",
       "      <td>1.000000</td>\n",
       "      <td>2023-11-20 15:01:14.154500096</td>\n",
       "      <td>709.000000</td>\n",
       "      <td>2.000000</td>\n",
       "      <td>3.000000</td>\n",
       "      <td>9.000000</td>\n",
       "      <td>3.000000</td>\n",
       "      <td>0.000000</td>\n",
       "      <td>0.000000</td>\n",
       "      <td>0.000000</td>\n",
       "    </tr>\n",
       "    <tr>\n",
       "      <th>50%</th>\n",
       "      <td>41.867226</td>\n",
       "      <td>-87.677180</td>\n",
       "      <td>9.000000</td>\n",
       "      <td>1.000000</td>\n",
       "      <td>1.000000</td>\n",
       "      <td>2023-11-20 15:01:15.017999872</td>\n",
       "      <td>1365.000000</td>\n",
       "      <td>3.000000</td>\n",
       "      <td>6.000000</td>\n",
       "      <td>10.000000</td>\n",
       "      <td>3.000000</td>\n",
       "      <td>0.000000</td>\n",
       "      <td>0.000000</td>\n",
       "      <td>0.000000</td>\n",
       "    </tr>\n",
       "    <tr>\n",
       "      <th>75%</th>\n",
       "      <td>41.931753</td>\n",
       "      <td>-87.634429</td>\n",
       "      <td>15.000000</td>\n",
       "      <td>6.000000</td>\n",
       "      <td>1.000000</td>\n",
       "      <td>2023-11-20 15:01:15.729499904</td>\n",
       "      <td>2433.500000</td>\n",
       "      <td>6.000000</td>\n",
       "      <td>8.000000</td>\n",
       "      <td>10.000000</td>\n",
       "      <td>3.000000</td>\n",
       "      <td>0.000000</td>\n",
       "      <td>0.000000</td>\n",
       "      <td>0.000000</td>\n",
       "    </tr>\n",
       "    <tr>\n",
       "      <th>max</th>\n",
       "      <td>42.064854</td>\n",
       "      <td>-87.528232</td>\n",
       "      <td>55.000000</td>\n",
       "      <td>34.000000</td>\n",
       "      <td>1.000000</td>\n",
       "      <td>2023-11-20 15:01:16.501000</td>\n",
       "      <td>3515.000000</td>\n",
       "      <td>10.000000</td>\n",
       "      <td>10.000000</td>\n",
       "      <td>10.000000</td>\n",
       "      <td>3.000000</td>\n",
       "      <td>9.000000</td>\n",
       "      <td>8.000000</td>\n",
       "      <td>13.000000</td>\n",
       "    </tr>\n",
       "    <tr>\n",
       "      <th>std</th>\n",
       "      <td>0.097214</td>\n",
       "      <td>0.063382</td>\n",
       "      <td>8.543893</td>\n",
       "      <td>4.783966</td>\n",
       "      <td>0.048999</td>\n",
       "      <td>NaN</td>\n",
       "      <td>1034.226487</td>\n",
       "      <td>3.111660</td>\n",
       "      <td>2.915700</td>\n",
       "      <td>1.001066</td>\n",
       "      <td>0.537386</td>\n",
       "      <td>0.671253</td>\n",
       "      <td>0.809460</td>\n",
       "      <td>1.132588</td>\n",
       "    </tr>\n",
       "  </tbody>\n",
       "</table>\n",
       "</div>"
      ],
      "text/plain": [
       "          latitude    longitude        slots  avail_bikes_9am      renting  \\\n",
       "count  1663.000000  1663.000000  1663.000000      1663.000000  1663.000000   \n",
       "mean     41.850887   -87.678532     9.049910         3.600120     0.997595   \n",
       "min      41.648501   -87.843960     1.000000         0.000000     0.000000   \n",
       "25%      41.766388   -87.720899     2.000000         0.000000     1.000000   \n",
       "50%      41.867226   -87.677180     9.000000         1.000000     1.000000   \n",
       "75%      41.931753   -87.634429    15.000000         6.000000     1.000000   \n",
       "max      42.064854   -87.528232    55.000000        34.000000     1.000000   \n",
       "std       0.097214     0.063382     8.543893         4.783966     0.048999   \n",
       "\n",
       "                           timestamp     distance  num_stations_1mi  \\\n",
       "count                           1663  1663.000000       1663.000000   \n",
       "mean   2023-11-20 15:01:14.925148416  1577.116657          4.146723   \n",
       "min       2023-11-20 15:01:13.130000     3.000000          0.000000   \n",
       "25%    2023-11-20 15:01:14.154500096   709.000000          2.000000   \n",
       "50%    2023-11-20 15:01:15.017999872  1365.000000          3.000000   \n",
       "75%    2023-11-20 15:01:15.729499904  2433.500000          6.000000   \n",
       "max       2023-11-20 15:01:16.501000  3515.000000         10.000000   \n",
       "std                              NaN  1034.226487          3.111660   \n",
       "\n",
       "       num_stations_2mi  all_stations  transit_cat  change_8_to_830  \\\n",
       "count       1663.000000   1663.000000  1663.000000      1663.000000   \n",
       "mean           5.364402      9.511124     2.821407         0.009020   \n",
       "min            0.000000      2.000000     0.000000        -4.000000   \n",
       "25%            3.000000      9.000000     3.000000         0.000000   \n",
       "50%            6.000000     10.000000     3.000000         0.000000   \n",
       "75%            8.000000     10.000000     3.000000         0.000000   \n",
       "max           10.000000     10.000000     3.000000         9.000000   \n",
       "std            2.915700      1.001066     0.537386         0.671253   \n",
       "\n",
       "       change_830_to_9  change_8_to_9  \n",
       "count      1663.000000    1663.000000  \n",
       "mean         -0.003007       0.006013  \n",
       "min         -10.000000     -10.000000  \n",
       "25%           0.000000       0.000000  \n",
       "50%           0.000000       0.000000  \n",
       "75%           0.000000       0.000000  \n",
       "max           8.000000      13.000000  \n",
       "std           0.809460       1.132588  "
      ]
     },
     "execution_count": 24,
     "metadata": {},
     "output_type": "execute_result"
    }
   ],
   "source": [
    "df.describe()"
   ]
  },
  {
   "cell_type": "code",
   "execution_count": 25,
   "id": "b88ccd19-4575-43ae-ab36-22547efbe472",
   "metadata": {
    "tags": []
   },
   "outputs": [
    {
     "data": {
      "text/plain": [
       "Index(['comp_id', 'name', 'latitude', 'longitude', 'slots', 'avail_bikes_9am',\n",
       "       'renting', 'timestamp', 'distance', 'near_station', 'num_stations_1mi',\n",
       "       'num_stations_2mi', 'all_stations', 'transit_cat', 'change_8_to_830',\n",
       "       'change_830_to_9', 'change_8_to_9'],\n",
       "      dtype='object')"
      ]
     },
     "execution_count": 25,
     "metadata": {},
     "output_type": "execute_result"
    }
   ],
   "source": [
    "df.columns"
   ]
  },
  {
   "cell_type": "code",
   "execution_count": 19,
   "id": "96f55dfb-5509-4a39-a0c5-22f8079da147",
   "metadata": {},
   "outputs": [],
   "source": [
    "#variables to consider:\n",
    "#slots = the number of possible bikes per station\n",
    "#avail_bikes_9am = number of bikes actually present at 9am\n",
    "#distance = distance from nearest CTA station\n",
    "#num_stations_1mi = number of stations within 1 miles\n",
    "#num_stations_2mi = number of stations within 2 miles\n",
    "#"
   ]
  },
  {
   "cell_type": "code",
   "execution_count": 26,
   "id": "af9242a0-62a5-4804-a13d-05d3b79bd26b",
   "metadata": {
    "tags": []
   },
   "outputs": [],
   "source": [
    "#first, let's capture this view so that it can be compared to data from other days and at other times\n",
    "df.to_json(r'Chi_9am_mon_fulldata.json')"
   ]
  },
  {
   "cell_type": "code",
   "execution_count": 27,
   "id": "a11f5ab0-e358-4632-a66b-35366808b1de",
   "metadata": {
    "tags": []
   },
   "outputs": [],
   "source": [
    "#now let's create a dataframe just holding the information we care about, we can drop lat. and long. since any effect those would have will also be captured by 'distance'\n",
    "df2 = df[['comp_id','name','slots','avail_bikes_9am','change_8_to_830','change_830_to_9','change_8_to_9','distance','num_stations_1mi','num_stations_2mi','all_stations','transit_cat']]"
   ]
  },
  {
   "cell_type": "code",
   "execution_count": 28,
   "id": "e036a33b-079e-4320-bf39-050fee57dbd0",
   "metadata": {
    "tags": []
   },
   "outputs": [
    {
     "data": {
      "text/html": [
       "<div>\n",
       "<style scoped>\n",
       "    .dataframe tbody tr th:only-of-type {\n",
       "        vertical-align: middle;\n",
       "    }\n",
       "\n",
       "    .dataframe tbody tr th {\n",
       "        vertical-align: top;\n",
       "    }\n",
       "\n",
       "    .dataframe thead th {\n",
       "        text-align: right;\n",
       "    }\n",
       "</style>\n",
       "<table border=\"1\" class=\"dataframe\">\n",
       "  <thead>\n",
       "    <tr style=\"text-align: right;\">\n",
       "      <th></th>\n",
       "      <th>comp_id</th>\n",
       "      <th>name</th>\n",
       "      <th>slots</th>\n",
       "      <th>avail_bikes_9am</th>\n",
       "      <th>change_8_to_830</th>\n",
       "      <th>change_830_to_9</th>\n",
       "      <th>change_8_to_9</th>\n",
       "      <th>distance</th>\n",
       "      <th>num_stations_1mi</th>\n",
       "      <th>num_stations_2mi</th>\n",
       "      <th>all_stations</th>\n",
       "      <th>transit_cat</th>\n",
       "    </tr>\n",
       "  </thead>\n",
       "  <tbody>\n",
       "    <tr>\n",
       "      <th>0</th>\n",
       "      <td>divvy</td>\n",
       "      <td>Lake Park Ave &amp; 56th St</td>\n",
       "      <td>19</td>\n",
       "      <td>13</td>\n",
       "      <td>-1</td>\n",
       "      <td>-1</td>\n",
       "      <td>-2</td>\n",
       "      <td>653</td>\n",
       "      <td>8</td>\n",
       "      <td>2</td>\n",
       "      <td>10</td>\n",
       "      <td>3</td>\n",
       "    </tr>\n",
       "    <tr>\n",
       "      <th>1</th>\n",
       "      <td>divvy</td>\n",
       "      <td>Ada St &amp; Washington Blvd</td>\n",
       "      <td>15</td>\n",
       "      <td>10</td>\n",
       "      <td>-1</td>\n",
       "      <td>-1</td>\n",
       "      <td>-2</td>\n",
       "      <td>384</td>\n",
       "      <td>9</td>\n",
       "      <td>1</td>\n",
       "      <td>10</td>\n",
       "      <td>3</td>\n",
       "    </tr>\n",
       "    <tr>\n",
       "      <th>2</th>\n",
       "      <td>divvy</td>\n",
       "      <td>Ashland Ave &amp; Grace St</td>\n",
       "      <td>15</td>\n",
       "      <td>13</td>\n",
       "      <td>0</td>\n",
       "      <td>-1</td>\n",
       "      <td>-1</td>\n",
       "      <td>432</td>\n",
       "      <td>10</td>\n",
       "      <td>0</td>\n",
       "      <td>10</td>\n",
       "      <td>3</td>\n",
       "    </tr>\n",
       "    <tr>\n",
       "      <th>3</th>\n",
       "      <td>divvy</td>\n",
       "      <td>Clark St &amp; Wrightwood Ave</td>\n",
       "      <td>15</td>\n",
       "      <td>7</td>\n",
       "      <td>-2</td>\n",
       "      <td>-2</td>\n",
       "      <td>-4</td>\n",
       "      <td>500</td>\n",
       "      <td>10</td>\n",
       "      <td>0</td>\n",
       "      <td>10</td>\n",
       "      <td>3</td>\n",
       "    </tr>\n",
       "    <tr>\n",
       "      <th>4</th>\n",
       "      <td>divvy</td>\n",
       "      <td>Adler Planetarium</td>\n",
       "      <td>39</td>\n",
       "      <td>12</td>\n",
       "      <td>0</td>\n",
       "      <td>0</td>\n",
       "      <td>0</td>\n",
       "      <td>1421</td>\n",
       "      <td>5</td>\n",
       "      <td>5</td>\n",
       "      <td>10</td>\n",
       "      <td>3</td>\n",
       "    </tr>\n",
       "  </tbody>\n",
       "</table>\n",
       "</div>"
      ],
      "text/plain": [
       "  comp_id                       name  slots  avail_bikes_9am  change_8_to_830  \\\n",
       "0   divvy    Lake Park Ave & 56th St     19               13               -1   \n",
       "1   divvy   Ada St & Washington Blvd     15               10               -1   \n",
       "2   divvy     Ashland Ave & Grace St     15               13                0   \n",
       "3   divvy  Clark St & Wrightwood Ave     15                7               -2   \n",
       "4   divvy          Adler Planetarium     39               12                0   \n",
       "\n",
       "   change_830_to_9  change_8_to_9  distance  num_stations_1mi  \\\n",
       "0               -1             -2       653                 8   \n",
       "1               -1             -2       384                 9   \n",
       "2               -1             -1       432                10   \n",
       "3               -2             -4       500                10   \n",
       "4                0              0      1421                 5   \n",
       "\n",
       "   num_stations_2mi  all_stations  transit_cat  \n",
       "0                 2            10            3  \n",
       "1                 1            10            3  \n",
       "2                 0            10            3  \n",
       "3                 0            10            3  \n",
       "4                 5            10            3  "
      ]
     },
     "execution_count": 28,
     "metadata": {},
     "output_type": "execute_result"
    }
   ],
   "source": [
    "df2.head()"
   ]
  },
  {
   "cell_type": "code",
   "execution_count": 31,
   "id": "b95a52d1-8e42-4136-a153-43242d81d358",
   "metadata": {},
   "outputs": [
    {
     "data": {
      "image/png": "[encoded data removed]",
      "text/plain": [
       "<Figure size 640x480 with 1 Axes>"
      ]
     },
     "metadata": {},
     "output_type": "display_data"
    }
   ],
   "source": [
    "sns.histplot(df2['avail_bikes_9am']).set(title='Tot. Bikes Available at 9am')\n",
    "plt.show()\n",
    "#lots of empty bike stations.. this COULD be due to an error either in my code, or a defect in the city_bike API"
   ]
  },
  {
   "cell_type": "code",
   "execution_count": 32,
   "id": "211219f7-4f49-4866-b0a8-1007dd608561",
   "metadata": {
    "tags": []
   },
   "outputs": [
    {
     "data": {
      "text/plain": [
       "695"
      ]
     },
     "execution_count": 32,
     "metadata": {},
     "output_type": "execute_result"
    }
   ],
   "source": [
    "len(df2.loc[df2['avail_bikes_9am']<1]) \n",
    "# the number of stations showing zero available bikes at 9 am is VERY high, nearly 1/3 of all stations, \n",
    "#this should be investigated"
   ]
  },
  {
   "cell_type": "code",
   "execution_count": 33,
   "id": "be02dd47-bddc-45b7-ab7d-e82fedc7ba5e",
   "metadata": {
    "tags": []
   },
   "outputs": [
    {
     "data": {
      "text/plain": [
       "181"
      ]
     },
     "execution_count": 33,
     "metadata": {},
     "output_type": "execute_result"
    }
   ],
   "source": [
    "len(df2.loc[df2['change_8_to_9']<0]) \n",
    "# number of stations with fewer bikes than at 8am"
   ]
  },
  {
   "cell_type": "code",
   "execution_count": 34,
   "id": "1888fcd8-3f8d-4da6-bc6d-ac1d360375e0",
   "metadata": {
    "tags": []
   },
   "outputs": [
    {
     "data": {
      "text/plain": [
       "138"
      ]
     },
     "execution_count": 34,
     "metadata": {},
     "output_type": "execute_result"
    }
   ],
   "source": [
    "len(df2.loc[df2['change_8_to_9']>0]) \n",
    "# number of stations with more bikes than at 8am"
   ]
  },
  {
   "cell_type": "code",
   "execution_count": 35,
   "id": "5583674a-8fc1-48fe-b8e5-f85f9b7ca473",
   "metadata": {
    "tags": []
   },
   "outputs": [
    {
     "data": {
      "text/plain": [
       "1344"
      ]
     },
     "execution_count": 35,
     "metadata": {},
     "output_type": "execute_result"
    }
   ],
   "source": [
    "len(df2.loc[df2['change_8_to_9']==0]) \n",
    "# number of stations with no change from 8am to 9am"
   ]
  },
  {
   "cell_type": "code",
   "execution_count": 36,
   "id": "c01c4464-eb80-4541-b647-e538dcfdc811",
   "metadata": {},
   "outputs": [],
   "source": [
    "#now let's run these while sorting by proximity to a station \n",
    "#(denoted by transit_cat value between 0 and 3, with 0 meaning it is near a CTA station and 3 meaning it isn't, with gradients in between )"
   ]
  },
  {
   "cell_type": "code",
   "execution_count": 37,
   "id": "22de49b2-66bc-44c7-9a1b-3bf2bc167d6d",
   "metadata": {
    "tags": []
   },
   "outputs": [
    {
     "name": "stdout",
     "output_type": "stream",
     "text": [
      "22\n",
      "52\n",
      "127\n",
      "1462\n"
     ]
    }
   ],
   "source": [
    "print(len(df2.loc[df2['transit_cat']==0]))\n",
    "print(len(df2.loc[df2['transit_cat']==1]))\n",
    "print(len(df2.loc[df2['transit_cat']==2]))\n",
    "print(len(df2.loc[df2['transit_cat']==3]))\n",
    "#returns the size of our transit_cat groups\n",
    "#examining the size of our transit categories, which will give some ideas about how likely we are to find results\n",
    "#larger sizes should give us more hope"
   ]
  },
  {
   "cell_type": "code",
   "execution_count": 38,
   "id": "b00ecc2d-adad-43cc-95e3-b98b4f2471ea",
   "metadata": {
    "tags": []
   },
   "outputs": [
    {
     "data": {
      "image/png": "[encoded data removed]",
      "text/plain": [
       "<Figure size 640x480 with 1 Axes>"
      ]
     },
     "metadata": {},
     "output_type": "display_data"
    }
   ],
   "source": [
    "sns.histplot(df2.loc[df2['transit_cat']==0]['avail_bikes_9am']).set(title='Bikes Available for Cat. 0')\n",
    "plt.show()"
   ]
  },
  {
   "cell_type": "code",
   "execution_count": 39,
   "id": "a44858d6-2660-42c7-85e8-4212e2a5a8cb",
   "metadata": {
    "tags": []
   },
   "outputs": [
    {
     "data": {
      "image/png": "[encoded data removed]",
      "text/plain": [
       "<Figure size 640x480 with 1 Axes>"
      ]
     },
     "metadata": {},
     "output_type": "display_data"
    }
   ],
   "source": [
    "sns.histplot(df2.loc[df2['transit_cat']==1]['avail_bikes_9am']).set(title='Bikes Available for Cat. 1')\n",
    "plt.show()"
   ]
  },
  {
   "cell_type": "code",
   "execution_count": 40,
   "id": "ab78f8bd-273e-43aa-80f0-2871a9ff7fbf",
   "metadata": {
    "tags": []
   },
   "outputs": [
    {
     "data": {
      "image/png": "[encoded data removed]",
      "text/plain": [
       "<Figure size 640x480 with 1 Axes>"
      ]
     },
     "metadata": {},
     "output_type": "display_data"
    }
   ],
   "source": [
    "sns.histplot(df2.loc[df2['transit_cat']==2]['avail_bikes_9am']).set(title='Bikes Available for Cat. 2')\n",
    "plt.show()"
   ]
  },
  {
   "cell_type": "code",
   "execution_count": 41,
   "id": "6036f4e7-b53b-4856-ba93-ed4322a58402",
   "metadata": {
    "tags": []
   },
   "outputs": [
    {
     "data": {
      "image/png": "[encoded data removed]",
      "text/plain": [
       "<Figure size 640x480 with 1 Axes>"
      ]
     },
     "metadata": {},
     "output_type": "display_data"
    }
   ],
   "source": [
    "sns.histplot(df2.loc[df2['transit_cat']==3]['avail_bikes_9am']).set(title='Bikes Available for Cat. 3')\n",
    "plt.show()"
   ]
  },
  {
   "cell_type": "code",
   "execution_count": 42,
   "id": "200e9b68-3ce8-43a4-afee-7d521637cad0",
   "metadata": {},
   "outputs": [],
   "source": [
    "#at a glance we can see that the spike near the zero is MUCH large for stations with a greater distance to the nearest CTA station.\n",
    "#this suggests some sort of relationship"
   ]
  },
  {
   "cell_type": "code",
   "execution_count": 43,
   "id": "e9820012-2ab1-4980-bbfd-1ee3a852613c",
   "metadata": {},
   "outputs": [],
   "source": [
    "#can we see a relationship between the change between 8am and 9am and proximity to CTA stations?"
   ]
  },
  {
   "cell_type": "code",
   "execution_count": 44,
   "id": "9bb8325e-daad-4c6b-8d65-5968ce1ead94",
   "metadata": {
    "tags": []
   },
   "outputs": [
    {
     "data": {
      "image/png": "[encoded data removed]",
      "text/plain": [
       "<Figure size 640x480 with 1 Axes>"
      ]
     },
     "metadata": {},
     "output_type": "display_data"
    }
   ],
   "source": [
    "sns.histplot(df2.loc[df2['transit_cat']==0]['change_8_to_9']).set(title='Change in Bikes Available for Cat. 0')\n",
    "plt.show()"
   ]
  },
  {
   "cell_type": "code",
   "execution_count": 45,
   "id": "ea683997-2784-48d5-94d2-9df7d06777a0",
   "metadata": {
    "tags": []
   },
   "outputs": [
    {
     "data": {
      "image/png": "[encoded data removed]",
      "text/plain": [
       "<Figure size 640x480 with 1 Axes>"
      ]
     },
     "metadata": {},
     "output_type": "display_data"
    }
   ],
   "source": [
    "sns.histplot(df2.loc[df2['transit_cat']==1]['change_8_to_9']).set(title='Change in Bikes Available for Cat. 1')\n",
    "plt.show()"
   ]
  },
  {
   "cell_type": "code",
   "execution_count": 46,
   "id": "5b08c86a-c924-4f57-ba9e-ed051eabd4c7",
   "metadata": {
    "tags": []
   },
   "outputs": [
    {
     "data": {
      "image/png": "[encoded data removed]",
      "text/plain": [
       "<Figure size 640x480 with 1 Axes>"
      ]
     },
     "metadata": {},
     "output_type": "display_data"
    }
   ],
   "source": [
    "sns.histplot(df2.loc[df2['transit_cat']==2]['change_8_to_9']).set(title='Change in Bikes Available for Cat. 2')\n",
    "plt.show()"
   ]
  },
  {
   "cell_type": "code",
   "execution_count": 47,
   "id": "dfebd8c3-a836-4ca9-8d63-a87126684ffd",
   "metadata": {
    "tags": []
   },
   "outputs": [
    {
     "data": {
      "image/png": "[encoded data removed]",
      "text/plain": [
       "<Figure size 640x480 with 1 Axes>"
      ]
     },
     "metadata": {},
     "output_type": "display_data"
    }
   ],
   "source": [
    "sns.histplot(df2.loc[df2['transit_cat']==3]['change_8_to_9']).set(title='Change in Bikes Available for Cat. 3')\n",
    "plt.show()"
   ]
  },
  {
   "cell_type": "code",
   "execution_count": 48,
   "id": "3d815dd8-46d6-4029-9d40-b483df4cb880",
   "metadata": {
    "tags": []
   },
   "outputs": [],
   "source": [
    "#These graphs also show a clear difference in our transit_cats"
   ]
  },
  {
   "cell_type": "code",
   "execution_count": 49,
   "id": "4ba84157-0610-41ad-9d35-a36d99042a1a",
   "metadata": {
    "tags": []
   },
   "outputs": [
    {
     "data": {
      "image/png": "[encoded data removed]",
      "text/plain": [
       "<Figure size 640x480 with 1 Axes>"
      ]
     },
     "metadata": {},
     "output_type": "display_data"
    }
   ],
   "source": [
    "sns.scatterplot(x=df2['num_stations_1mi'], y=df2['change_8_to_9'], alpha=0.6).set(title='Change in Bikes Available by station density')\n",
    "plt.show()"
   ]
  },
  {
   "cell_type": "code",
   "execution_count": 50,
   "id": "8ba9b837-002f-4225-ac51-e05575a46c54",
   "metadata": {},
   "outputs": [],
   "source": [
    "#these graphs show that the density of stations near a bike-station also may be determining the change in stations"
   ]
  },
  {
   "cell_type": "code",
   "execution_count": 51,
   "id": "f4d1e793-29e4-4271-9072-56d6800b114d",
   "metadata": {},
   "outputs": [
    {
     "data": {
      "text/plain": [
       "<Axes: xlabel='distance', ylabel='avail_bikes_9am'>"
      ]
     },
     "execution_count": 51,
     "metadata": {},
     "output_type": "execute_result"
    },
    {
     "data": {
      "image/png": "[encoded data removed]",
      "text/plain": [
       "<Figure size 640x480 with 1 Axes>"
      ]
     },
     "metadata": {},
     "output_type": "display_data"
    }
   ],
   "source": [
    "sns.scatterplot(x=df2['distance'], y=df2['avail_bikes_9am'], alpha=0.6) #no apparent correlation... but perhaps a statistical model will prove more useful"
   ]
  },
  {
   "cell_type": "code",
   "execution_count": 71,
   "id": "ecc363b5-1075-4519-9d7e-9c89a857e5b0",
   "metadata": {},
   "outputs": [
    {
     "data": {
      "text/plain": [
       "Index(['comp_id', 'name', 'latitude', 'longitude', 'slots', 'free_bikes',\n",
       "       'renting', 'timestamp'],\n",
       "      dtype='object')"
      ]
     },
     "execution_count": 71,
     "metadata": {},
     "output_type": "execute_result"
    }
   ],
   "source": [
    "data1.columns"
   ]
  },
  {
   "cell_type": "markdown",
   "id": "3b7c4c39-c9db-4642-96f2-d6905904c870",
   "metadata": {},
   "source": [
    "##### as far as adding data to our SQL server, I would prefer at this point adding data closer to the raw source. \n",
    "##### since a great deal of the changes made here with python can also be easily made in SQL, this will retain greater flexabilty for future analystis"
   ]
  },
  {
   "cell_type": "code",
   "execution_count": null,
   "id": "6dd0831b-1199-465c-a2de-fe7b0d012220",
   "metadata": {},
   "outputs": [],
   "source": [
    "#having already created the database 'Divvy_Rideshare' in postgres, we can now set up some basic tables"
   ]
  },
  {
   "cell_type": "code",
   "execution_count": 96,
   "id": "11b512a5-d3eb-4a51-8390-72e90878f199",
   "metadata": {
    "tags": []
   },
   "outputs": [
    {
     "name": "stdout",
     "output_type": "stream",
     "text": [
      "Database opened successfully\n"
     ]
    }
   ],
   "source": [
    "import psycopg2\n",
    "\n",
    "con = psycopg2.connect(database=\"Divvy_Rideshare\", user=\"postgres\", password=\"Burning5\", host=\"127.0.0.1\", port=\"5432\")\n",
    "\n",
    "print(\"Database opened successfully\")"
   ]
  },
  {
   "cell_type": "code",
   "execution_count": 84,
   "id": "a2bb3a9c-b2be-4ee8-b9fd-dff5cf2f055f",
   "metadata": {
    "tags": []
   },
   "outputs": [
    {
     "name": "stdout",
     "output_type": "stream",
     "text": [
      "<class 'pandas.core.frame.DataFrame'>\n",
      "Index: 1663 entries, 0 to 1662\n",
      "Data columns (total 7 columns):\n",
      " #   Column      Non-Null Count  Dtype         \n",
      "---  ------      --------------  -----         \n",
      " 0   comp_id     1663 non-null   object        \n",
      " 1   name        1663 non-null   object        \n",
      " 2   latitude    1663 non-null   float64       \n",
      " 3   longitude   1663 non-null   float64       \n",
      " 4   slots       1663 non-null   int64         \n",
      " 5   free_bikes  1663 non-null   int64         \n",
      " 6   timestamp   1663 non-null   datetime64[ns]\n",
      "dtypes: datetime64[ns](1), float64(2), int64(2), object(2)\n",
      "memory usage: 103.9+ KB\n"
     ]
    }
   ],
   "source": [
    "data1.info()"
   ]
  },
  {
   "cell_type": "code",
   "execution_count": 85,
   "id": "7868d0dd-b649-480c-aaaf-595858494885",
   "metadata": {
    "tags": []
   },
   "outputs": [
    {
     "name": "stdout",
     "output_type": "stream",
     "text": [
      "Table created successfully\n"
     ]
    }
   ],
   "source": [
    "con = psycopg2.connect(database=\"Divvy_Rideshare\", user=\"postgres\", password=\"Burning5\", host=\"127.0.0.1\", port=\"5432\")\n",
    "cur = con.cursor()\n",
    "cur.execute('''CREATE TABLE usage_data\n",
    "      (comp_id     TEXT    NOT NULL,\n",
    "      name    TEXT    NOT NULL,\n",
    "      latitude    FLOAT    NOT NULL,\n",
    "      longitude    FLOAT    NOT NULL,\n",
    "      slots    INT    NOT NULL,\n",
    "      free_bikes    INT    NOT NULL,\n",
    "      timestamp    TIMESTAMP    NOT NULL);''')\n",
    "print(\"Table created successfully\")\n",
    "\n",
    "con.commit()\n",
    "con.close()"
   ]
  },
  {
   "cell_type": "code",
   "execution_count": 112,
   "id": "886eb99e-6237-4bb3-aa52-c97e23cba3d2",
   "metadata": {
    "collapsed": true,
    "jupyter": {
     "outputs_hidden": true
    },
    "tags": []
   },
   "outputs": [
    {
     "ename": "DuplicateTable",
     "evalue": "relation \"cta_station_data\" already exists\n",
     "output_type": "error",
     "traceback": [
      "\u001b[1;31m---------------------------------------------------------------------------\u001b[0m",
      "\u001b[1;31mDuplicateTable\u001b[0m                            Traceback (most recent call last)",
      "Cell \u001b[1;32mIn[112], line 3\u001b[0m\n\u001b[0;32m      1\u001b[0m con \u001b[38;5;241m=\u001b[39m psycopg2\u001b[38;5;241m.\u001b[39mconnect(database\u001b[38;5;241m=\u001b[39m\u001b[38;5;124m\"\u001b[39m\u001b[38;5;124mDivvy_Rideshare\u001b[39m\u001b[38;5;124m\"\u001b[39m, user\u001b[38;5;241m=\u001b[39m\u001b[38;5;124m\"\u001b[39m\u001b[38;5;124mpostgres\u001b[39m\u001b[38;5;124m\"\u001b[39m, password\u001b[38;5;241m=\u001b[39m\u001b[38;5;124m\"\u001b[39m\u001b[38;5;124mBurning5\u001b[39m\u001b[38;5;124m\"\u001b[39m, host\u001b[38;5;241m=\u001b[39m\u001b[38;5;124m\"\u001b[39m\u001b[38;5;124m127.0.0.1\u001b[39m\u001b[38;5;124m\"\u001b[39m, port\u001b[38;5;241m=\u001b[39m\u001b[38;5;124m\"\u001b[39m\u001b[38;5;124m5432\u001b[39m\u001b[38;5;124m\"\u001b[39m)\n\u001b[0;32m      2\u001b[0m cur \u001b[38;5;241m=\u001b[39m con\u001b[38;5;241m.\u001b[39mcursor()\n\u001b[1;32m----> 3\u001b[0m cur\u001b[38;5;241m.\u001b[39mexecute(\u001b[38;5;124m'''\u001b[39m\u001b[38;5;124mCREATE TABLE cta_station_data\u001b[39m\n\u001b[0;32m      4\u001b[0m \u001b[38;5;124m      (name    TEXT PRIMARY KEY    NOT NULL,\u001b[39m\n\u001b[0;32m      5\u001b[0m \u001b[38;5;124m      distance    INT    NOT NULL,\u001b[39m\n\u001b[0;32m      6\u001b[0m \u001b[38;5;124m      near_station    TEXT    NOT NULL,\u001b[39m\n\u001b[0;32m      7\u001b[0m \u001b[38;5;124m      num_stations_1mi    INT    NOT NULL,\u001b[39m\n\u001b[0;32m      8\u001b[0m \u001b[38;5;124m      num_stations_2mi    INT    NOT NULL,\u001b[39m\n\u001b[0;32m      9\u001b[0m \u001b[38;5;124m      all_stations    INT    NOT NULL);\u001b[39m\u001b[38;5;124m'''\u001b[39m)\n\u001b[0;32m     10\u001b[0m \u001b[38;5;28mprint\u001b[39m(\u001b[38;5;124m\"\u001b[39m\u001b[38;5;124mTable created successfully\u001b[39m\u001b[38;5;124m\"\u001b[39m)\n\u001b[0;32m     11\u001b[0m \u001b[38;5;66;03m###NOTE name here is used as a primary key, since we should never expect duplicates of the information in this table, and this data will be matched to the results in usage_data on that name\u001b[39;00m\n\u001b[0;32m     12\u001b[0m \u001b[38;5;66;03m#a better system should be found going forwards.\u001b[39;00m\n",
      "\u001b[1;31mDuplicateTable\u001b[0m: relation \"cta_station_data\" already exists\n"
     ]
    }
   ],
   "source": [
    "con = psycopg2.connect(database=\"Divvy_Rideshare\", user=\"postgres\", password=\"Burning5\", host=\"127.0.0.1\", port=\"5432\")\n",
    "cur = con.cursor()\n",
    "cur.execute('''CREATE TABLE cta_station_data\n",
    "      (name    TEXT PRIMARY KEY    NOT NULL,\n",
    "      distance    INT    NOT NULL,\n",
    "      near_station    TEXT    NOT NULL,\n",
    "      num_stations_1mi    INT    NOT NULL,\n",
    "      num_stations_2mi    INT    NOT NULL,\n",
    "      all_stations    INT    NOT NULL);''')\n",
    "print(\"Table created successfully\")\n",
    "###NOTE name here is used as a primary key, since we should never expect duplicates of the information in this table, and this data will be matched to the results in usage_data on that name\n",
    "#a better system should be found going forwards.\n",
    "con.commit()\n",
    "con.close()"
   ]
  },
  {
   "cell_type": "code",
   "execution_count": 98,
   "id": "91c37580-fe62-452f-9150-5f6d46834554",
   "metadata": {
    "tags": []
   },
   "outputs": [],
   "source": [
    "con.close()"
   ]
  },
  {
   "cell_type": "code",
   "execution_count": 99,
   "id": "14c95cdd-6a56-4ca1-9e2d-eb5706e1b6ba",
   "metadata": {
    "tags": []
   },
   "outputs": [],
   "source": [
    "import psycopg2\n",
    "param_dic = {\n",
    "    \"host\"      : \"127.0.0.1\",\n",
    "    \"database\"  : \"Divvy_Rideshare\",\n",
    "    \"user\"      : \"postgres\",\n",
    "    \"password\"  : \"Burning5\"\n",
    "}"
   ]
  },
  {
   "cell_type": "code",
   "execution_count": 100,
   "id": "c425c64e-da78-4f66-8f9d-a2418d8288c3",
   "metadata": {
    "tags": []
   },
   "outputs": [
    {
     "name": "stdout",
     "output_type": "stream",
     "text": [
      "Connecting to the PostgreSQL database...\n",
      "Connection successful\n"
     ]
    }
   ],
   "source": [
    "def connect(params_dic):\n",
    "    \"\"\" Connect to the PostgreSQL database server \"\"\"\n",
    "    conn = None\n",
    "    try:\n",
    "        # connect to the PostgreSQL server\n",
    "        print('Connecting to the PostgreSQL database...')\n",
    "        conn = psycopg2.connect(**params_dic)\n",
    "    except (Exception, psycopg2.DatabaseError) as error:\n",
    "        print(error)\n",
    "        sys.exit(1) \n",
    "    print(\"Connection successful\")\n",
    "    return conn\n",
    "conn = connect(param_dic)"
   ]
  },
  {
   "cell_type": "code",
   "execution_count": 105,
   "id": "c75d63ad-f44e-440b-a727-b985f9a7299e",
   "metadata": {
    "tags": []
   },
   "outputs": [],
   "source": [
    "def execute_values(conn, df, table):\n",
    "    \"\"\"\n",
    "    Using psycopg2.extras.execute_values() to insert the dataframe\n",
    "    \"\"\"\n",
    "    # Create a list of tupples from the dataframe values\n",
    "    tuples = [tuple(x) for x in df.to_numpy()]\n",
    "    # Comma-separated dataframe columns\n",
    "    cols = ','.join(list(df.columns))\n",
    "    # SQL quert to execute\n",
    "    query  = \"INSERT INTO %s(%s) VALUES %%s\" % (table, cols)\n",
    "    cursor = conn.cursor()\n",
    "    try:\n",
    "        extras.execute_values(cursor, query, tuples)\n",
    "        conn.commit()\n",
    "    except (Exception, psycopg2.DatabaseError) as error:\n",
    "        print(\"Error: %s\" % error)\n",
    "        conn.rollback()\n",
    "        cursor.close()\n",
    "        return 1\n",
    "    print(\"execute_values() done\")"
   ]
  },
  {
   "cell_type": "code",
   "execution_count": null,
   "id": "2ede5c03-1ef0-4d0f-8613-fe568f3b0725",
   "metadata": {},
   "outputs": [],
   "source": [
    "del data2['renting'] #removes the unnecessary 'renting' column from the data"
   ]
  },
  {
   "cell_type": "code",
   "execution_count": 106,
   "id": "acfca9f2-91e3-412e-b3da-55a0b4b95f4f",
   "metadata": {
    "tags": []
   },
   "outputs": [
    {
     "name": "stdout",
     "output_type": "stream",
     "text": [
      "execute_values() done\n"
     ]
    }
   ],
   "source": [
    "execute_values(conn, data1, 'usage_data')"
   ]
  },
  {
   "cell_type": "code",
   "execution_count": 108,
   "id": "64ea90ae-f337-4425-8e0e-3723ed22c006",
   "metadata": {
    "tags": []
   },
   "outputs": [],
   "source": [
    "del data2['renting']"
   ]
  },
  {
   "cell_type": "code",
   "execution_count": 109,
   "id": "1c5a1d67-61c4-4465-9088-e4de8fd6f54b",
   "metadata": {
    "tags": []
   },
   "outputs": [
    {
     "name": "stdout",
     "output_type": "stream",
     "text": [
      "execute_values() done\n"
     ]
    }
   ],
   "source": [
    "execute_values(conn, data2, 'usage_data')"
   ]
  },
  {
   "cell_type": "code",
   "execution_count": 110,
   "id": "cdf661a6-e32e-4a6d-85a3-a7a94fc97ea6",
   "metadata": {
    "tags": []
   },
   "outputs": [],
   "source": [
    "data3 = pd.read_json(r'unprocessed/Chi_9am_mon(raw).json')\n",
    "del data3['renting']"
   ]
  },
  {
   "cell_type": "code",
   "execution_count": 111,
   "id": "168f71ed-6a7a-45cb-a738-b7c5a11a25b0",
   "metadata": {
    "tags": []
   },
   "outputs": [
    {
     "name": "stdout",
     "output_type": "stream",
     "text": [
      "execute_values() done\n"
     ]
    }
   ],
   "source": [
    "execute_values(conn, data3, 'usage_data')"
   ]
  },
  {
   "cell_type": "code",
   "execution_count": 114,
   "id": "6144c160-6e7a-476d-9616-bcb31162b368",
   "metadata": {
    "tags": []
   },
   "outputs": [],
   "source": [
    "df_fs['name'] = data3['name']"
   ]
  },
  {
   "cell_type": "code",
   "execution_count": 116,
   "id": "785e9645-9459-4000-97dc-80c8b85decec",
   "metadata": {
    "tags": []
   },
   "outputs": [],
   "source": [
    "df_fs = df_fs[['name','distance','near_station','num_stations_1mi','num_stations_2mi','all_stations']]"
   ]
  },
  {
   "cell_type": "code",
   "execution_count": 117,
   "id": "c0d8eaba-f249-4b12-aa25-b367274f239a",
   "metadata": {
    "tags": []
   },
   "outputs": [
    {
     "data": {
      "text/html": [
       "<div>\n",
       "<style scoped>\n",
       "    .dataframe tbody tr th:only-of-type {\n",
       "        vertical-align: middle;\n",
       "    }\n",
       "\n",
       "    .dataframe tbody tr th {\n",
       "        vertical-align: top;\n",
       "    }\n",
       "\n",
       "    .dataframe thead th {\n",
       "        text-align: right;\n",
       "    }\n",
       "</style>\n",
       "<table border=\"1\" class=\"dataframe\">\n",
       "  <thead>\n",
       "    <tr style=\"text-align: right;\">\n",
       "      <th></th>\n",
       "      <th>name</th>\n",
       "      <th>distance</th>\n",
       "      <th>near_station</th>\n",
       "      <th>num_stations_1mi</th>\n",
       "      <th>num_stations_2mi</th>\n",
       "      <th>all_stations</th>\n",
       "    </tr>\n",
       "  </thead>\n",
       "  <tbody>\n",
       "    <tr>\n",
       "      <th>0</th>\n",
       "      <td>Lake Park Ave &amp; 56th St</td>\n",
       "      <td>653</td>\n",
       "      <td>5311 S Lake Park Ave (at 53rd St), Chicago, IL...</td>\n",
       "      <td>8</td>\n",
       "      <td>2</td>\n",
       "      <td>10</td>\n",
       "    </tr>\n",
       "    <tr>\n",
       "      <th>1</th>\n",
       "      <td>Ada St &amp; Washington Blvd</td>\n",
       "      <td>384</td>\n",
       "      <td>1200 W Randolph St, Chicago, IL 60607</td>\n",
       "      <td>9</td>\n",
       "      <td>1</td>\n",
       "      <td>10</td>\n",
       "    </tr>\n",
       "    <tr>\n",
       "      <th>2</th>\n",
       "      <td>Ashland Ave &amp; Grace St</td>\n",
       "      <td>432</td>\n",
       "      <td>1612 W Irving Park Rd (btwn Ashland Ave. &amp; Pau...</td>\n",
       "      <td>10</td>\n",
       "      <td>0</td>\n",
       "      <td>10</td>\n",
       "    </tr>\n",
       "    <tr>\n",
       "      <th>3</th>\n",
       "      <td>Clark St &amp; Wrightwood Ave</td>\n",
       "      <td>500</td>\n",
       "      <td>2548 N Halsted St (at Wrightwood Ave), Chicago...</td>\n",
       "      <td>10</td>\n",
       "      <td>0</td>\n",
       "      <td>10</td>\n",
       "    </tr>\n",
       "    <tr>\n",
       "      <th>4</th>\n",
       "      <td>Adler Planetarium</td>\n",
       "      <td>1421</td>\n",
       "      <td>1416 S Michigan Ave, Chicago, IL 60605</td>\n",
       "      <td>5</td>\n",
       "      <td>5</td>\n",
       "      <td>10</td>\n",
       "    </tr>\n",
       "  </tbody>\n",
       "</table>\n",
       "</div>"
      ],
      "text/plain": [
       "                        name  distance  \\\n",
       "0    Lake Park Ave & 56th St       653   \n",
       "1   Ada St & Washington Blvd       384   \n",
       "2     Ashland Ave & Grace St       432   \n",
       "3  Clark St & Wrightwood Ave       500   \n",
       "4          Adler Planetarium      1421   \n",
       "\n",
       "                                        near_station  num_stations_1mi  \\\n",
       "0  5311 S Lake Park Ave (at 53rd St), Chicago, IL...                 8   \n",
       "1              1200 W Randolph St, Chicago, IL 60607                 9   \n",
       "2  1612 W Irving Park Rd (btwn Ashland Ave. & Pau...                10   \n",
       "3  2548 N Halsted St (at Wrightwood Ave), Chicago...                10   \n",
       "4             1416 S Michigan Ave, Chicago, IL 60605                 5   \n",
       "\n",
       "   num_stations_2mi  all_stations  \n",
       "0                 2            10  \n",
       "1                 1            10  \n",
       "2                 0            10  \n",
       "3                 0            10  \n",
       "4                 5            10  "
      ]
     },
     "execution_count": 117,
     "metadata": {},
     "output_type": "execute_result"
    }
   ],
   "source": [
    "df_fs.head()"
   ]
  },
  {
   "cell_type": "code",
   "execution_count": 118,
   "id": "e898ddad-fa3a-4579-ad04-d85e4ebe44d3",
   "metadata": {
    "tags": []
   },
   "outputs": [
    {
     "name": "stdout",
     "output_type": "stream",
     "text": [
      "execute_values() done\n"
     ]
    }
   ],
   "source": [
    "execute_values(conn, df_fs, 'cta_station_data')"
   ]
  },
  {
   "cell_type": "code",
   "execution_count": null,
   "id": "ffab560d-f364-457a-9173-fb6f4b3fe61e",
   "metadata": {},
   "outputs": [],
   "source": []
  }
 ],
 "metadata": {
  "kernelspec": {
   "display_name": "Python 3 (ipykernel)",
   "language": "python",
   "name": "python3"
  },
  "language_info": {
   "codemirror_mode": {
    "name": "ipython",
    "version": 3
   },
   "file_extension": ".py",
   "mimetype": "text/x-python",
   "name": "python",
   "nbconvert_exporter": "python",
   "pygments_lexer": "ipython3",
   "version": "3.11.5"
  }
 },
 "nbformat": 4,
 "nbformat_minor": 5
}
